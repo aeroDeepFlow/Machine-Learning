{
 "cells": [
  {
   "cell_type": "markdown",
   "metadata": {
    "toc": true
   },
   "source": [
    "<h1>ANEXO V_a. Machine Learning Google CLOUD (dataset \"embedded\")<span class=\"tocSkip\"></span></h1>\n",
    "<div class=\"toc\"><ul class=\"toc-item\"><li><span><a href=\"#Carga-de-módulos-y-dataset\" data-toc-modified-id=\"Carga-de-módulos-y-dataset-1\"><span class=\"toc-item-num\">1&nbsp;&nbsp;</span>Carga de módulos y dataset</a></span></li><li><span><a href=\"#Carga-Librerías\" data-toc-modified-id=\"Carga-Librerías-2\"><span class=\"toc-item-num\">2&nbsp;&nbsp;</span>Carga Librerías</a></span></li><li><span><a href=\"#Carga-datos-Train-y-Test-Depurados\" data-toc-modified-id=\"Carga-datos-Train-y-Test-Depurados-3\"><span class=\"toc-item-num\">3&nbsp;&nbsp;</span>Carga datos Train y Test Depurados</a></span></li><li><span><a href=\"#Definición-de-funciones-helper\" data-toc-modified-id=\"Definición-de-funciones-helper-4\"><span class=\"toc-item-num\">4&nbsp;&nbsp;</span>Definición de funciones helper</a></span></li><li><span><a href=\"#Modelos-Lineales\" data-toc-modified-id=\"Modelos-Lineales-5\"><span class=\"toc-item-num\">5&nbsp;&nbsp;</span>Modelos Lineales</a></span><ul class=\"toc-item\"><li><span><a href=\"#Linear-Regresion-Simple\" data-toc-modified-id=\"Linear-Regresion-Simple-5.1\"><span class=\"toc-item-num\">5.1&nbsp;&nbsp;</span>Linear Regresion Simple</a></span></li><li><span><a href=\"#RANSAC-Regressor\" data-toc-modified-id=\"RANSAC-Regressor-5.2\"><span class=\"toc-item-num\">5.2&nbsp;&nbsp;</span>RANSAC Regressor</a></span></li><li><span><a href=\"#SGD-Regressor\" data-toc-modified-id=\"SGD-Regressor-5.3\"><span class=\"toc-item-num\">5.3&nbsp;&nbsp;</span>SGD Regressor</a></span></li><li><span><a href=\"#Ridge-Regression\" data-toc-modified-id=\"Ridge-Regression-5.4\"><span class=\"toc-item-num\">5.4&nbsp;&nbsp;</span>Ridge Regression</a></span></li><li><span><a href=\"#Lasso-Regression\" data-toc-modified-id=\"Lasso-Regression-5.5\"><span class=\"toc-item-num\">5.5&nbsp;&nbsp;</span>Lasso Regression</a></span></li><li><span><a href=\"#ElasticNet-Regression\" data-toc-modified-id=\"ElasticNet-Regression-5.6\"><span class=\"toc-item-num\">5.6&nbsp;&nbsp;</span>ElasticNet Regression</a></span></li><li><span><a href=\"#LarsCV\" data-toc-modified-id=\"LarsCV-5.7\"><span class=\"toc-item-num\">5.7&nbsp;&nbsp;</span>LarsCV</a></span></li><li><span><a href=\"#Huber-Regressor\" data-toc-modified-id=\"Huber-Regressor-5.8\"><span class=\"toc-item-num\">5.8&nbsp;&nbsp;</span>Huber Regressor</a></span></li></ul></li><li><span><a href=\"#Modelos-basados-en-Árboles\" data-toc-modified-id=\"Modelos-basados-en-Árboles-6\"><span class=\"toc-item-num\">6&nbsp;&nbsp;</span>Modelos basados en Árboles</a></span><ul class=\"toc-item\"><li><span><a href=\"#Random-Forest-Regressor\" data-toc-modified-id=\"Random-Forest-Regressor-6.1\"><span class=\"toc-item-num\">6.1&nbsp;&nbsp;</span>Random Forest Regressor</a></span></li><li><span><a href=\"#Extratrees-Regressor\" data-toc-modified-id=\"Extratrees-Regressor-6.2\"><span class=\"toc-item-num\">6.2&nbsp;&nbsp;</span>Extratrees Regressor</a></span></li><li><span><a href=\"#Gradient-Boosting-Regressor\" data-toc-modified-id=\"Gradient-Boosting-Regressor-6.3\"><span class=\"toc-item-num\">6.3&nbsp;&nbsp;</span>Gradient Boosting Regressor</a></span></li><li><span><a href=\"#LightGBM-Regressor\" data-toc-modified-id=\"LightGBM-Regressor-6.4\"><span class=\"toc-item-num\">6.4&nbsp;&nbsp;</span>LightGBM Regressor</a></span></li><li><span><a href=\"#XGBoost-Regressor\" data-toc-modified-id=\"XGBoost-Regressor-6.5\"><span class=\"toc-item-num\">6.5&nbsp;&nbsp;</span>XGBoost Regressor</a></span></li></ul></li><li><span><a href=\"#Support-Vector-Regressor\" data-toc-modified-id=\"Support-Vector-Regressor-7\"><span class=\"toc-item-num\">7&nbsp;&nbsp;</span>Support Vector Regressor</a></span><ul class=\"toc-item\"><li><span><a href=\"#Kernell-Lineal\" data-toc-modified-id=\"Kernell-Lineal-7.1\"><span class=\"toc-item-num\">7.1&nbsp;&nbsp;</span>Kernell Lineal</a></span></li><li><span><a href=\"#Kernell-Polinómico\" data-toc-modified-id=\"Kernell-Polinómico-7.2\"><span class=\"toc-item-num\">7.2&nbsp;&nbsp;</span>Kernell Polinómico</a></span></li><li><span><a href=\"#Kernel-Radial\" data-toc-modified-id=\"Kernel-Radial-7.3\"><span class=\"toc-item-num\">7.3&nbsp;&nbsp;</span>Kernel Radial</a></span></li></ul></li><li><span><a href=\"#Redes-Neuronales\" data-toc-modified-id=\"Redes-Neuronales-8\"><span class=\"toc-item-num\">8&nbsp;&nbsp;</span>Redes Neuronales</a></span></li><li><span><a href=\"#Ensembles-models\" data-toc-modified-id=\"Ensembles-models-9\"><span class=\"toc-item-num\">9&nbsp;&nbsp;</span>Ensembles models</a></span><ul class=\"toc-item\"><li><span><a href=\"#Ensemble-model-1\" data-toc-modified-id=\"Ensemble-model-1-9.1\"><span class=\"toc-item-num\">9.1&nbsp;&nbsp;</span>Ensemble model 1</a></span></li><li><span><a href=\"#Ensemble-model-2\" data-toc-modified-id=\"Ensemble-model-2-9.2\"><span class=\"toc-item-num\">9.2&nbsp;&nbsp;</span>Ensemble model 2</a></span></li><li><span><a href=\"#Ensemble-model-3\" data-toc-modified-id=\"Ensemble-model-3-9.3\"><span class=\"toc-item-num\">9.3&nbsp;&nbsp;</span>Ensemble model 3</a></span></li><li><span><a href=\"#Ensemble-model-4\" data-toc-modified-id=\"Ensemble-model-4-9.4\"><span class=\"toc-item-num\">9.4&nbsp;&nbsp;</span>Ensemble model 4</a></span></li></ul></li><li><span><a href=\"#Stacking-models\" data-toc-modified-id=\"Stacking-models-10\"><span class=\"toc-item-num\">10&nbsp;&nbsp;</span>Stacking models</a></span><ul class=\"toc-item\"><li><span><a href=\"#Stack-Model-1\" data-toc-modified-id=\"Stack-Model-1-10.1\"><span class=\"toc-item-num\">10.1&nbsp;&nbsp;</span>Stack Model 1</a></span></li><li><span><a href=\"#Stack-Model-2\" data-toc-modified-id=\"Stack-Model-2-10.2\"><span class=\"toc-item-num\">10.2&nbsp;&nbsp;</span>Stack Model 2</a></span></li><li><span><a href=\"#Stack-Model-3\" data-toc-modified-id=\"Stack-Model-3-10.3\"><span class=\"toc-item-num\">10.3&nbsp;&nbsp;</span>Stack Model 3</a></span></li><li><span><a href=\"#Stack-Model-4\" data-toc-modified-id=\"Stack-Model-4-10.4\"><span class=\"toc-item-num\">10.4&nbsp;&nbsp;</span>Stack Model 4</a></span></li></ul></li><li><span><a href=\"#BoxPlots\" data-toc-modified-id=\"BoxPlots-11\"><span class=\"toc-item-num\">11&nbsp;&nbsp;</span>BoxPlots</a></span></li><li><span><a href=\"#Guardado-de-variables\" data-toc-modified-id=\"Guardado-de-variables-12\"><span class=\"toc-item-num\">12&nbsp;&nbsp;</span>Guardado de variables</a></span></li></ul></div>"
   ]
  },
  {
   "cell_type": "markdown",
   "metadata": {},
   "source": [
    "* *******"
   ]
  },
  {
   "cell_type": "markdown",
   "metadata": {},
   "source": [
    "En este Anexo, se llevan a cabo los algoritmos siguientes de Machine Learning con el set de datos obtenido como resultado de aplicar técnicas de selección de variables del Anexo 3, usando los **métodos embedded** "
   ]
  },
  {
   "cell_type": "markdown",
   "metadata": {},
   "source": [
    "* *******"
   ]
  },
  {
   "cell_type": "markdown",
   "metadata": {},
   "source": [
    "# Carga de módulos y dataset"
   ]
  },
  {
   "cell_type": "markdown",
   "metadata": {},
   "source": [
    "Se muestran a continuación las versiones tanto del OS usado así como de Python usados en el presente notebook."
   ]
  },
  {
   "cell_type": "code",
   "execution_count": 1,
   "metadata": {
    "scrolled": true
   },
   "outputs": [
    {
     "name": "stdout",
     "output_type": "stream",
     "text": [
      "/bin/sh: 1: lsb_release: not found\r\n"
     ]
    }
   ],
   "source": [
    "!lsb_release -a"
   ]
  },
  {
   "cell_type": "code",
   "execution_count": 2,
   "metadata": {},
   "outputs": [
    {
     "name": "stdout",
     "output_type": "stream",
     "text": [
      "4.19.44+\r\n"
     ]
    }
   ],
   "source": [
    "!uname -r"
   ]
  },
  {
   "cell_type": "code",
   "execution_count": 3,
   "metadata": {},
   "outputs": [
    {
     "name": "stdout",
     "output_type": "stream",
     "text": [
      "Python version: 3.5.6 |Anaconda, Inc.| (default, Aug 26 2018, 21:41:56) \n",
      "[GCC 7.3.0]\n"
     ]
    }
   ],
   "source": [
    "import os\n",
    "import sys\n",
    "print(\"Python version: {}\". format(sys.version))"
   ]
  },
  {
   "cell_type": "markdown",
   "metadata": {},
   "source": [
    "# Carga Librerías"
   ]
  },
  {
   "cell_type": "code",
   "execution_count": 4,
   "metadata": {},
   "outputs": [],
   "source": [
    "import numpy as np\n",
    "import pandas as pd\n",
    "import matplotlib\n",
    "import matplotlib.pyplot as plt\n",
    "import seaborn as sns\n",
    "import sklearn\n",
    "import xgboost\n",
    "import lightgbm\n",
    "import mlxtend\n",
    "\n",
    "import warnings\n",
    "import time\n",
    "import json"
   ]
  },
  {
   "cell_type": "code",
   "execution_count": 5,
   "metadata": {},
   "outputs": [],
   "source": [
    "from sklearn.model_selection import RepeatedKFold, cross_val_score, RandomizedSearchCV\n",
    "from sklearn.metrics import mean_squared_error\n",
    "from sklearn.linear_model import LinearRegression, Lasso, Ridge, ElasticNet, LarsCV, HuberRegressor,\\\n",
    "            RANSACRegressor, SGDRegressor\n",
    "\n",
    "from sklearn.ensemble import RandomForestRegressor, ExtraTreesRegressor, GradientBoostingRegressor,\\\n",
    "            VotingRegressor\n",
    "\n",
    "from sklearn.svm import SVR\n",
    "\n",
    "from sklearn.neural_network import MLPRegressor\n",
    "\n",
    "from xgboost import XGBRegressor\n",
    "from lightgbm import LGBMRegressor\n",
    "\n",
    "from mlxtend.regressor import StackingCVRegressor"
   ]
  },
  {
   "cell_type": "code",
   "execution_count": 6,
   "metadata": {},
   "outputs": [
    {
     "name": "stdout",
     "output_type": "stream",
     "text": [
      "Versiones usadas en el notebook\n",
      "Numpy 1.17.1.\n",
      "Pandas 0.25.1.\n",
      "Matplotlib 3.0.3.\n",
      "Seaborn 0.7.0.\n",
      "Sklearn 0.21.3.\n",
      "XGBoost 0.90.\n",
      "LIGHTGbm 2.2.3.\n",
      "MLXtend 0.17.0.\n"
     ]
    }
   ],
   "source": [
    "# Se muestran versiones usadas\n",
    "print(\"Versiones usadas en el notebook\")\n",
    "print('Numpy {}.'.format(np.__version__))\n",
    "print('Pandas {}.'.format(pd.__version__))\n",
    "print('Matplotlib {}.'.format(matplotlib.__version__))\n",
    "print('Seaborn {}.'.format(sns.__version__))\n",
    "print('Sklearn {}.'.format(sklearn.__version__))\n",
    "print('XGBoost {}.'.format(xgboost.__version__))\n",
    "print('LIGHTGbm {}.'.format(lightgbm.__version__))\n",
    "print('MLXtend {}.'.format(mlxtend.__version__))"
   ]
  },
  {
   "cell_type": "markdown",
   "metadata": {},
   "source": [
    "# Carga datos Train y Test Depurados"
   ]
  },
  {
   "cell_type": "code",
   "execution_count": 7,
   "metadata": {},
   "outputs": [],
   "source": [
    "train_prep = pd.read_csv('X_train_embedd.csv', sep = ',')\n",
    "test_prep = pd.read_csv('X_test_embedd.csv', sep = ',')"
   ]
  },
  {
   "cell_type": "code",
   "execution_count": 8,
   "metadata": {},
   "outputs": [],
   "source": [
    "y = train_prep.SalePrice.copy()\n",
    "\n",
    "#y = np.log1p(train_prep.SalePrice.copy()) #log(1 + x) // np.expm1()\n",
    "X = train_prep.drop(\"SalePrice\", axis=1).copy()\n",
    "\n",
    "train_prep['SalePrice'] = y.values.copy()"
   ]
  },
  {
   "cell_type": "markdown",
   "metadata": {},
   "source": [
    "# Definición de funciones helper"
   ]
  },
  {
   "cell_type": "code",
   "execution_count": 9,
   "metadata": {},
   "outputs": [],
   "source": [
    "score = {}\n",
    "timer = {}"
   ]
  },
  {
   "cell_type": "code",
   "execution_count": 10,
   "metadata": {},
   "outputs": [],
   "source": [
    "N_iter = 500\n",
    "\n",
    "n_splits =10\n",
    "n_repeats = 100\n",
    "\n",
    "kfolds = RepeatedKFold(n_splits = n_splits, n_repeats = n_repeats, random_state=12345)\n",
    "\n",
    "# model scoring and validation function\n",
    "def cv_rmse(model, X=X):\n",
    "    rmse = np.sqrt(-cross_val_score(model, X, y, scoring=\"neg_mean_squared_error\",cv=kfolds, n_jobs=-1))\n",
    "    return rmse\n",
    "\n",
    "# rmsle scoring function\n",
    "def rmsle(y, y_pred):\n",
    "    return np.sqrt(mean_squared_error(y, y_pred))\n",
    "\n",
    "# función que calcula el tiempo medio de predicción del modelo\n",
    "def timePredict(model, X, n=N_iter):\n",
    "    tm = []\n",
    "    for i in range(n):\n",
    "        ini = time.time()\n",
    "        model.predict(X)\n",
    "        tm.append(time.time()-ini)\n",
    "    return sum(tm)/n\n",
    "\n",
    "# función que calcula el tiempo medio de predicción + scoring del modelo\n",
    "def timePredictScoring(model, X, y_pred = y, n=N_iter):\n",
    "    tmP = []\n",
    "    for i in range(n):\n",
    "        ini = time.time()\n",
    "        rmsle(model.predict(X), y_pred)\n",
    "        tmP.append(time.time()-ini)\n",
    "    return sum(tmP)/n\n",
    "\n",
    "# Función resumen tiempos\n",
    "def resumenModelo(model, model_name, train=X, test=test_prep, y_pred=y, n=N_iter, timer=timer, flag=True):\n",
    "    \n",
    "\n",
    "    mean_predict_train_time = timePredict(model, train, n)\n",
    "    mean_predict_test_time = timePredict(model, test, n)\n",
    "    mean_pred_score_train_time = timePredictScoring(model, train, y_pred, n)\n",
    "    mean_pred_score_test_time = np.nan\n",
    "    \n",
    "    \n",
    "    print(\"----------------------------------------------------------------------------------\")\n",
    "    print(\"---------------------------------MODELO {}------------------------------------\".format(model_name))\n",
    "    print(\"----------------------------------------------------------------------------------\\n\")\n",
    "    if flag:\n",
    "        best_params = model.best_params_    \n",
    "        mean_fit_time = model.cv_results_['mean_fit_time'].mean()\n",
    "        mean_score_time = model.cv_results_['mean_score_time'].mean()\n",
    "        refit_model = model.refit_time_\n",
    "        \n",
    "        print(\"TUNEADO\")\n",
    "        print(\"Mejor modelo (PARAMETROS):-------------------> {}\".format(best_params)) \n",
    "        print(\"Tiempo medio de TRAINING---------------------> {} sg\".format(mean_fit_time))\n",
    "        print(\"Tiempo medio de SCORING----------------------> {} sg\".format(mean_score_time))\n",
    "        print(\"Tiempo medio de TRAINING mejor modelo--------> {} sg\\n\".format(refit_model))\n",
    "    \n",
    "    print(\"PREDICCION DATOS\")\n",
    "    print(\"Para datos Train:----------------------------> {} sg\".format(mean_predict_train_time))\n",
    "    print(\"Para datos Test:-----------------------------> {} sg\\n\".format(mean_predict_test_time))\n",
    "    print(\"PREDICCION + SCORING DATOS\")    \n",
    "    print(\"Para datos Train:----------------------------> {} sg\".format(mean_pred_score_train_time))\n",
    "    print(\"Para datos Test:-----------------------------> {} sg\".format(mean_pred_score_test_time))\n",
    "    \n",
    "    if flag:\n",
    "        return {model_name: {\"mean_fit_time\": mean_fit_time, \n",
    "                             \"mean_score_time\": mean_score_time,\n",
    "                             \"refit_best_model\": refit_model,\n",
    "                             \"mean_predict_train_time\": mean_predict_train_time,\n",
    "                             \"mean_predict_test_time\": mean_predict_test_time,\n",
    "                             \"mean_pred_score_train_time\": mean_pred_score_train_time,\n",
    "                             \"mean_pred_score_test_time\": np.nan}}\n",
    "    else:\n",
    "        return {model_name: {\"mean_fit_time\": np.nan, \n",
    "                             \"mean_score_time\": np.nan,\n",
    "                             \"refit_best_model\": np.nan,\n",
    "                             \"mean_predict_train_time\": mean_predict_train_time,\n",
    "                             \"mean_predict_test_time\": mean_predict_test_time,\n",
    "                             \"mean_pred_score_train_time\": mean_pred_score_train_time,\n",
    "                             \"mean_pred_score_test_time\": np.nan}}"
   ]
  },
  {
   "cell_type": "markdown",
   "metadata": {},
   "source": [
    "# Modelos Lineales"
   ]
  },
  {
   "cell_type": "markdown",
   "metadata": {},
   "source": [
    "## Linear Regresion Simple"
   ]
  },
  {
   "cell_type": "code",
   "execution_count": 11,
   "metadata": {},
   "outputs": [],
   "source": [
    "# Regresión Linear Simple\n",
    "lr = LinearRegression()"
   ]
  },
  {
   "cell_type": "code",
   "execution_count": 12,
   "metadata": {},
   "outputs": [],
   "source": [
    "# Entrenamiento del modelo\n",
    "lr_model = lr.fit(X, y);"
   ]
  },
  {
   "cell_type": "code",
   "execution_count": 13,
   "metadata": {},
   "outputs": [
    {
     "data": {
      "text/plain": [
       "(10803592361.086851, 44592093164.48689)"
      ]
     },
     "execution_count": 13,
     "metadata": {},
     "output_type": "execute_result"
    }
   ],
   "source": [
    "# Elimina warnings DeprecationWarning\n",
    "warnings.filterwarnings(\"ignore\", category=DeprecationWarning)\n",
    "\n",
    "score['lr'] = cv_rmse(lr_model, X=X)\n",
    "\n",
    "(score['lr'].mean(), score['lr'].std())"
   ]
  },
  {
   "cell_type": "code",
   "execution_count": 14,
   "metadata": {},
   "outputs": [
    {
     "name": "stdout",
     "output_type": "stream",
     "text": [
      "----------------------------------------------------------------------------------\n",
      "---------------------------------MODELO lr------------------------------------\n",
      "----------------------------------------------------------------------------------\n",
      "\n",
      "PREDICCION DATOS\n",
      "Para datos Train:----------------------------> 0.0024899721145629885 sg\n",
      "Para datos Test:-----------------------------> 0.0023583102226257323 sg\n",
      "\n",
      "PREDICCION + SCORING DATOS\n",
      "Para datos Train:----------------------------> 0.0030525171756744384 sg\n",
      "Para datos Test:-----------------------------> nan sg\n"
     ]
    }
   ],
   "source": [
    "timer.update(resumenModelo(lr_model, 'lr', flag=False))"
   ]
  },
  {
   "cell_type": "markdown",
   "metadata": {},
   "source": [
    "## RANSAC Regressor"
   ]
  },
  {
   "cell_type": "code",
   "execution_count": 15,
   "metadata": {},
   "outputs": [],
   "source": [
    "RANSAC = RANSACRegressor(base_estimator=LinearRegression(), random_state=12345)"
   ]
  },
  {
   "cell_type": "code",
   "execution_count": 16,
   "metadata": {},
   "outputs": [],
   "source": [
    "RANSAC_param = {\"min_samples\": list(range(1, 300, 1))}\n",
    "\n",
    "RANSAC_grid = RandomizedSearchCV(RANSAC,\n",
    "                                 RANSAC_param,\n",
    "                                 iid=False,\n",
    "                                 cv=kfolds,\n",
    "                                 n_jobs=-1,\n",
    "                                 scoring='neg_mean_squared_error',\n",
    "                                 n_iter=N_iter)"
   ]
  },
  {
   "cell_type": "code",
   "execution_count": 17,
   "metadata": {},
   "outputs": [],
   "source": [
    "# Entrenamiento del modelo\n",
    "# Borra alertas DeprecationWarning\n",
    "warnings.filterwarnings(\"ignore\", category=UserWarning)\n",
    "\n",
    "RANSAC_model = RANSAC_grid.fit(X, y);"
   ]
  },
  {
   "cell_type": "code",
   "execution_count": 18,
   "metadata": {},
   "outputs": [
    {
     "data": {
      "text/plain": [
       "RANSACRegressor(base_estimator=LinearRegression(copy_X=True, fit_intercept=True,\n",
       "                                                n_jobs=None, normalize=False),\n",
       "                is_data_valid=None, is_model_valid=None, loss='absolute_loss',\n",
       "                max_skips=inf, max_trials=100, min_samples=2,\n",
       "                random_state=12345, residual_threshold=None, stop_n_inliers=inf,\n",
       "                stop_probability=0.99, stop_score=inf)"
      ]
     },
     "execution_count": 18,
     "metadata": {},
     "output_type": "execute_result"
    }
   ],
   "source": [
    "RANSAC_model.best_estimator_"
   ]
  },
  {
   "cell_type": "code",
   "execution_count": 19,
   "metadata": {},
   "outputs": [
    {
     "data": {
      "text/plain": [
       "(15606355579.654095, 23736743698.46449)"
      ]
     },
     "execution_count": 19,
     "metadata": {},
     "output_type": "execute_result"
    }
   ],
   "source": [
    "# Elimina warnings DeprecationWarning\n",
    "warnings.filterwarnings(\"ignore\", category=DeprecationWarning)\n",
    "\n",
    "score['RANSAC'] = cv_rmse(RANSAC_model.best_estimator_, X=X)\n",
    "\n",
    "(score['RANSAC'].mean(), score['RANSAC'].std())"
   ]
  },
  {
   "cell_type": "code",
   "execution_count": 20,
   "metadata": {},
   "outputs": [
    {
     "name": "stdout",
     "output_type": "stream",
     "text": [
      "----------------------------------------------------------------------------------\n",
      "---------------------------------MODELO RANSAC------------------------------------\n",
      "----------------------------------------------------------------------------------\n",
      "\n",
      "TUNEADO\n",
      "Mejor modelo (PARAMETROS):-------------------> {'min_samples': 2}\n",
      "Tiempo medio de TRAINING---------------------> 11.715577432179451 sg\n",
      "Tiempo medio de SCORING----------------------> 0.07187605099678039 sg\n",
      "Tiempo medio de TRAINING mejor modelo--------> 0.09459638595581055 sg\n",
      "\n",
      "PREDICCION DATOS\n",
      "Para datos Train:----------------------------> 0.002677386999130249 sg\n",
      "Para datos Test:-----------------------------> 0.0022318947315216066 sg\n",
      "\n",
      "PREDICCION + SCORING DATOS\n",
      "Para datos Train:----------------------------> 0.0029316973686218262 sg\n",
      "Para datos Test:-----------------------------> nan sg\n"
     ]
    }
   ],
   "source": [
    "timer.update(resumenModelo(RANSAC_model, 'RANSAC'))"
   ]
  },
  {
   "cell_type": "markdown",
   "metadata": {},
   "source": [
    "## SGD Regressor"
   ]
  },
  {
   "cell_type": "code",
   "execution_count": 21,
   "metadata": {},
   "outputs": [],
   "source": [
    "sgd = SGDRegressor(random_state=12345)"
   ]
  },
  {
   "cell_type": "code",
   "execution_count": 22,
   "metadata": {},
   "outputs": [],
   "source": [
    "sgd_param = {\"penalty\": ['l2', 'l1'],\n",
    "             \"alpha\": np.linspace(0.0001, 10, 15),\n",
    "             \"l1_ratio\": np.linspace(0.001, 1, 15),\n",
    "             \"early_stopping\": [True, False]}\n",
    "\n",
    "sgd_grid = RandomizedSearchCV(sgd,\n",
    "                              sgd_param,\n",
    "                              iid=False,\n",
    "                              cv=kfolds,\n",
    "                              n_jobs=-1,\n",
    "                              n_iter=N_iter)"
   ]
  },
  {
   "cell_type": "code",
   "execution_count": 23,
   "metadata": {},
   "outputs": [],
   "source": [
    "# Entrenamiento del modelo\n",
    "# Borra alertas DeprecationWarning\n",
    "warnings.filterwarnings(\"ignore\", category=UserWarning)\n",
    "\n",
    "sgd_model = sgd_grid.fit(X, y);"
   ]
  },
  {
   "cell_type": "code",
   "execution_count": 24,
   "metadata": {},
   "outputs": [
    {
     "data": {
      "text/plain": [
       "SGDRegressor(alpha=2.857214285714286, average=False, early_stopping=False,\n",
       "             epsilon=0.1, eta0=0.01, fit_intercept=True, l1_ratio=0.001,\n",
       "             learning_rate='invscaling', loss='squared_loss', max_iter=1000,\n",
       "             n_iter_no_change=5, penalty='l2', power_t=0.25, random_state=12345,\n",
       "             shuffle=True, tol=0.001, validation_fraction=0.1, verbose=0,\n",
       "             warm_start=False)"
      ]
     },
     "execution_count": 24,
     "metadata": {},
     "output_type": "execute_result"
    }
   ],
   "source": [
    "sgd_model.best_estimator_"
   ]
  },
  {
   "cell_type": "code",
   "execution_count": 25,
   "metadata": {},
   "outputs": [
    {
     "data": {
      "text/plain": [
       "(0.17944656229877654, 0.012069384680597399)"
      ]
     },
     "execution_count": 25,
     "metadata": {},
     "output_type": "execute_result"
    }
   ],
   "source": [
    "# Elimina warnings DeprecationWarning\n",
    "warnings.filterwarnings(\"ignore\", category=DeprecationWarning)\n",
    "\n",
    "score['SGD'] = cv_rmse(sgd_model.best_estimator_, X=X)\n",
    "\n",
    "(score['SGD'].mean(), score['SGD'].std())"
   ]
  },
  {
   "cell_type": "code",
   "execution_count": 26,
   "metadata": {},
   "outputs": [
    {
     "name": "stdout",
     "output_type": "stream",
     "text": [
      "----------------------------------------------------------------------------------\n",
      "---------------------------------MODELO SGD------------------------------------\n",
      "----------------------------------------------------------------------------------\n",
      "\n",
      "TUNEADO\n",
      "Mejor modelo (PARAMETROS):-------------------> {'l1_ratio': 0.001, 'early_stopping': False, 'penalty': 'l2', 'alpha': 2.857214285714286}\n",
      "Tiempo medio de TRAINING---------------------> 0.370871248960495 sg\n",
      "Tiempo medio de SCORING----------------------> 0.04621669144630433 sg\n",
      "Tiempo medio de TRAINING mejor modelo--------> 0.026558876037597656 sg\n",
      "\n",
      "PREDICCION DATOS\n",
      "Para datos Train:----------------------------> 0.0026551401615142823 sg\n",
      "Para datos Test:-----------------------------> 0.002286497354507446 sg\n",
      "\n",
      "PREDICCION + SCORING DATOS\n",
      "Para datos Train:----------------------------> 0.0029748773574829104 sg\n",
      "Para datos Test:-----------------------------> nan sg\n"
     ]
    }
   ],
   "source": [
    "timer.update(resumenModelo(sgd_model, 'SGD'))"
   ]
  },
  {
   "cell_type": "markdown",
   "metadata": {},
   "source": [
    "## Ridge Regression"
   ]
  },
  {
   "cell_type": "code",
   "execution_count": 27,
   "metadata": {},
   "outputs": [],
   "source": [
    "ridge = Ridge(random_state=12345)"
   ]
  },
  {
   "cell_type": "code",
   "execution_count": 28,
   "metadata": {},
   "outputs": [],
   "source": [
    "ridge_param = {\"alpha\": np.linspace(0.001,100,1000)}\n",
    "\n",
    "ridge_grid = RandomizedSearchCV(ridge,\n",
    "                                ridge_param,\n",
    "                                iid=False,\n",
    "                                cv=kfolds,\n",
    "                                n_jobs=-1,\n",
    "                                n_iter=N_iter)"
   ]
  },
  {
   "cell_type": "code",
   "execution_count": 29,
   "metadata": {},
   "outputs": [],
   "source": [
    "# Entrenamiento del modelo\n",
    "# Borra alertas DeprecationWarning\n",
    "warnings.filterwarnings(\"ignore\", category=UserWarning)\n",
    "\n",
    "ridge_model = ridge_grid.fit(X, y);"
   ]
  },
  {
   "cell_type": "code",
   "execution_count": 30,
   "metadata": {},
   "outputs": [
    {
     "data": {
      "text/plain": [
       "Ridge(alpha=0.2011981981981982, copy_X=True, fit_intercept=True, max_iter=None,\n",
       "      normalize=False, random_state=12345, solver='auto', tol=0.001)"
      ]
     },
     "execution_count": 30,
     "metadata": {},
     "output_type": "execute_result"
    }
   ],
   "source": [
    "ridge_model.best_estimator_"
   ]
  },
  {
   "cell_type": "code",
   "execution_count": 31,
   "metadata": {},
   "outputs": [
    {
     "data": {
      "text/plain": [
       "(0.10916002804462761, 0.007852198147178061)"
      ]
     },
     "execution_count": 31,
     "metadata": {},
     "output_type": "execute_result"
    }
   ],
   "source": [
    "# Elimina warnings DeprecationWarning\n",
    "warnings.filterwarnings(\"ignore\", category=DeprecationWarning)\n",
    "\n",
    "score['Ridge'] = cv_rmse(ridge_model.best_estimator_, X=X)\n",
    "\n",
    "(score['Ridge'].mean(), score['Ridge'].std())"
   ]
  },
  {
   "cell_type": "code",
   "execution_count": 32,
   "metadata": {},
   "outputs": [
    {
     "name": "stdout",
     "output_type": "stream",
     "text": [
      "----------------------------------------------------------------------------------\n",
      "---------------------------------MODELO Ridge------------------------------------\n",
      "----------------------------------------------------------------------------------\n",
      "\n",
      "TUNEADO\n",
      "Mejor modelo (PARAMETROS):-------------------> {'alpha': 0.2011981981981982}\n",
      "Tiempo medio de TRAINING---------------------> 0.0906161176919937 sg\n",
      "Tiempo medio de SCORING----------------------> 0.029641124367713923 sg\n",
      "Tiempo medio de TRAINING mejor modelo--------> 0.03351187705993652 sg\n",
      "\n",
      "PREDICCION DATOS\n",
      "Para datos Train:----------------------------> 0.0026750147342681887 sg\n",
      "Para datos Test:-----------------------------> 0.002242499589920044 sg\n",
      "\n",
      "PREDICCION + SCORING DATOS\n",
      "Para datos Train:----------------------------> 0.0029725396633148195 sg\n",
      "Para datos Test:-----------------------------> nan sg\n"
     ]
    }
   ],
   "source": [
    "timer.update(resumenModelo(ridge_model, 'Ridge'))"
   ]
  },
  {
   "cell_type": "markdown",
   "metadata": {},
   "source": [
    "## Lasso Regression"
   ]
  },
  {
   "cell_type": "code",
   "execution_count": 33,
   "metadata": {},
   "outputs": [],
   "source": [
    "lasso = Lasso(max_iter=1e7, random_state=12345)"
   ]
  },
  {
   "cell_type": "code",
   "execution_count": 34,
   "metadata": {},
   "outputs": [],
   "source": [
    "lasso_param = {\"alpha\": np.linspace(0.0001, 1,1000)}\n",
    "\n",
    "lasso_grid = RandomizedSearchCV(lasso,\n",
    "                                lasso_param,\n",
    "                                iid=False,\n",
    "                                cv=kfolds,\n",
    "                                n_jobs=-1,\n",
    "                                n_iter=N_iter)"
   ]
  },
  {
   "cell_type": "code",
   "execution_count": 35,
   "metadata": {},
   "outputs": [],
   "source": [
    "# Entrenamiento del modelo\n",
    "# Borra alertas DeprecationWarning\n",
    "warnings.filterwarnings(\"ignore\", category=UserWarning)\n",
    "\n",
    "lasso_model = lasso_grid.fit(X, y);"
   ]
  },
  {
   "cell_type": "code",
   "execution_count": 36,
   "metadata": {},
   "outputs": [
    {
     "data": {
      "text/plain": [
       "Lasso(alpha=0.0021018018018018015, copy_X=True, fit_intercept=True,\n",
       "      max_iter=10000000.0, normalize=False, positive=False, precompute=False,\n",
       "      random_state=12345, selection='cyclic', tol=0.0001, warm_start=False)"
      ]
     },
     "execution_count": 36,
     "metadata": {},
     "output_type": "execute_result"
    }
   ],
   "source": [
    "lasso_model.best_estimator_"
   ]
  },
  {
   "cell_type": "code",
   "execution_count": 37,
   "metadata": {
    "scrolled": true
   },
   "outputs": [
    {
     "data": {
      "text/plain": [
       "(0.11787621614296961, 0.009213515190344442)"
      ]
     },
     "execution_count": 37,
     "metadata": {},
     "output_type": "execute_result"
    }
   ],
   "source": [
    "# Borra alertas DeprecationWarning\n",
    "warnings.filterwarnings(\"ignore\", category=DeprecationWarning)\n",
    "\n",
    "score['Lasso'] = cv_rmse(lasso_model.best_estimator_, X=X)\n",
    "\n",
    "(score['Lasso'].mean(), score['Lasso'].std())"
   ]
  },
  {
   "cell_type": "code",
   "execution_count": null,
   "metadata": {},
   "outputs": [],
   "source": [
    "timer.update(resumenModelo(lasso_model, 'Lasso'))"
   ]
  },
  {
   "cell_type": "markdown",
   "metadata": {},
   "source": [
    "## ElasticNet Regression"
   ]
  },
  {
   "cell_type": "code",
   "execution_count": 38,
   "metadata": {},
   "outputs": [],
   "source": [
    "elasticnet = ElasticNet(max_iter=1e7, random_state=12345)"
   ]
  },
  {
   "cell_type": "code",
   "execution_count": 39,
   "metadata": {},
   "outputs": [],
   "source": [
    "elasticnet_param = {\"alpha\": np.linspace(0.0001, 1, 30),\n",
    "                    \"l1_ratio\": np.linspace(0.01, 1, 30)}\n",
    "\n",
    "elasticnet_grid = RandomizedSearchCV(elasticnet,\n",
    "                                     elasticnet_param,\n",
    "                                     iid=False,\n",
    "                                     cv=kfolds,\n",
    "                                     n_jobs=-1,\n",
    "                                     n_iter=N_iter)"
   ]
  },
  {
   "cell_type": "code",
   "execution_count": 40,
   "metadata": {},
   "outputs": [],
   "source": [
    "# Entrenamiento del modelo\n",
    "# Borra alertas DeprecationWarning\n",
    "warnings.filterwarnings(\"ignore\", category=UserWarning)\n",
    "\n",
    "elasticnet_model = elasticnet_grid.fit(X, y);"
   ]
  },
  {
   "cell_type": "code",
   "execution_count": 41,
   "metadata": {},
   "outputs": [
    {
     "data": {
      "text/plain": [
       "ElasticNet(alpha=0.0001, copy_X=True, fit_intercept=True,\n",
       "           l1_ratio=0.41965517241379313, max_iter=10000000.0, normalize=False,\n",
       "           positive=False, precompute=False, random_state=12345,\n",
       "           selection='cyclic', tol=0.0001, warm_start=False)"
      ]
     },
     "execution_count": 41,
     "metadata": {},
     "output_type": "execute_result"
    }
   ],
   "source": [
    "elasticnet_model.best_estimator_"
   ]
  },
  {
   "cell_type": "code",
   "execution_count": 42,
   "metadata": {},
   "outputs": [
    {
     "data": {
      "text/plain": [
       "(0.10916125439410282, 0.007895291590660769)"
      ]
     },
     "execution_count": 42,
     "metadata": {},
     "output_type": "execute_result"
    }
   ],
   "source": [
    "# Borra alertas DeprecationWarning\n",
    "warnings.filterwarnings(\"ignore\", category=DeprecationWarning)\n",
    "\n",
    "score['Elasticnet'] = cv_rmse(elasticnet_model.best_estimator_, X=X)\n",
    "\n",
    "(score['Elasticnet'].mean(), score['Elasticnet'].std())"
   ]
  },
  {
   "cell_type": "code",
   "execution_count": 43,
   "metadata": {},
   "outputs": [
    {
     "name": "stdout",
     "output_type": "stream",
     "text": [
      "----------------------------------------------------------------------------------\n",
      "---------------------------------MODELO Elasticnet------------------------------------\n",
      "----------------------------------------------------------------------------------\n",
      "\n",
      "TUNEADO\n",
      "Mejor modelo (PARAMETROS):-------------------> {'l1_ratio': 0.41965517241379313, 'alpha': 0.0001}\n",
      "Tiempo medio de TRAINING---------------------> 0.058835512089729314 sg\n",
      "Tiempo medio de SCORING----------------------> 0.020474445414543147 sg\n",
      "Tiempo medio de TRAINING mejor modelo--------> 0.0859379768371582 sg\n",
      "\n",
      "PREDICCION DATOS\n",
      "Para datos Train:----------------------------> 0.0025913190841674806 sg\n",
      "Para datos Test:-----------------------------> 0.0022877514362335204 sg\n",
      "\n",
      "PREDICCION + SCORING DATOS\n",
      "Para datos Train:----------------------------> 0.0029929304122924805 sg\n",
      "Para datos Test:-----------------------------> nan sg\n"
     ]
    }
   ],
   "source": [
    "timer.update(resumenModelo(elasticnet_model, 'Elasticnet'))"
   ]
  },
  {
   "cell_type": "markdown",
   "metadata": {},
   "source": [
    "## LarsCV"
   ]
  },
  {
   "cell_type": "code",
   "execution_count": 44,
   "metadata": {},
   "outputs": [],
   "source": [
    "lars = LarsCV(cv = kfolds, n_jobs=-1)"
   ]
  },
  {
   "cell_type": "code",
   "execution_count": 45,
   "metadata": {},
   "outputs": [],
   "source": [
    "# Entrenamiento del modelo\n",
    "lars_model = lars.fit(X, y);"
   ]
  },
  {
   "cell_type": "code",
   "execution_count": 46,
   "metadata": {},
   "outputs": [
    {
     "data": {
      "text/plain": [
       "(0.11902723095411466, 0.015373236414419148)"
      ]
     },
     "execution_count": 46,
     "metadata": {},
     "output_type": "execute_result"
    }
   ],
   "source": [
    "# Borra alertas DeprecationWarning\n",
    "warnings.filterwarnings(\"ignore\", category=DeprecationWarning)\n",
    "\n",
    "score['Lars'] = cv_rmse(lars_model, X=X)\n",
    "\n",
    "(score['Lars'].mean(), score['Lars'].std())"
   ]
  },
  {
   "cell_type": "code",
   "execution_count": 47,
   "metadata": {},
   "outputs": [
    {
     "name": "stdout",
     "output_type": "stream",
     "text": [
      "----------------------------------------------------------------------------------\n",
      "---------------------------------MODELO Lars------------------------------------\n",
      "----------------------------------------------------------------------------------\n",
      "\n",
      "PREDICCION DATOS\n",
      "Para datos Train:----------------------------> 0.002467162609100342 sg\n",
      "Para datos Test:-----------------------------> 0.0022924339771270754 sg\n",
      "\n",
      "PREDICCION + SCORING DATOS\n",
      "Para datos Train:----------------------------> 0.002939702272415161 sg\n",
      "Para datos Test:-----------------------------> nan sg\n"
     ]
    }
   ],
   "source": [
    "timer.update(resumenModelo(lars_model, 'Lars', flag=False))"
   ]
  },
  {
   "cell_type": "markdown",
   "metadata": {},
   "source": [
    "## Huber Regressor"
   ]
  },
  {
   "cell_type": "code",
   "execution_count": 48,
   "metadata": {},
   "outputs": [],
   "source": [
    "hub = HuberRegressor()"
   ]
  },
  {
   "cell_type": "code",
   "execution_count": 49,
   "metadata": {},
   "outputs": [],
   "source": [
    "hub_param = {\"alpha\": np.linspace(0.0001, 10, 300)}\n",
    "\n",
    "hub_grid = RandomizedSearchCV(hub, \n",
    "                              hub_param,\n",
    "                              iid=False,\n",
    "                              cv=kfolds,\n",
    "                              n_jobs=-1,\n",
    "                              n_iter=N_iter)"
   ]
  },
  {
   "cell_type": "code",
   "execution_count": 50,
   "metadata": {},
   "outputs": [],
   "source": [
    "# Entrenamiento del modelo\n",
    "hub_model = hub_grid.fit(X, y);"
   ]
  },
  {
   "cell_type": "code",
   "execution_count": 51,
   "metadata": {},
   "outputs": [
    {
     "data": {
      "text/plain": [
       "(0.34195702027306496, 0.08688862269332756)"
      ]
     },
     "execution_count": 51,
     "metadata": {},
     "output_type": "execute_result"
    }
   ],
   "source": [
    "# Borra alertas DeprecationWarning\n",
    "warnings.filterwarnings(\"ignore\", category=DeprecationWarning)\n",
    "\n",
    "score['Huber'] = cv_rmse(hub_model.best_estimator_, X=X)\n",
    "\n",
    "(score['Huber'].mean(), score['Huber'].std())"
   ]
  },
  {
   "cell_type": "code",
   "execution_count": 52,
   "metadata": {},
   "outputs": [
    {
     "name": "stdout",
     "output_type": "stream",
     "text": [
      "----------------------------------------------------------------------------------\n",
      "---------------------------------MODELO Huber------------------------------------\n",
      "----------------------------------------------------------------------------------\n",
      "\n",
      "TUNEADO\n",
      "Mejor modelo (PARAMETROS):-------------------> {'alpha': 10.0}\n",
      "Tiempo medio de TRAINING---------------------> 4.551510522437096 sg\n",
      "Tiempo medio de SCORING----------------------> 0.0730601486682892 sg\n",
      "Tiempo medio de TRAINING mejor modelo--------> 0.2249000072479248 sg\n",
      "\n",
      "PREDICCION DATOS\n",
      "Para datos Train:----------------------------> 0.0026987552642822265 sg\n",
      "Para datos Test:-----------------------------> 0.002828584909439087 sg\n",
      "\n",
      "PREDICCION + SCORING DATOS\n",
      "Para datos Train:----------------------------> 0.0034409189224243165 sg\n",
      "Para datos Test:-----------------------------> nan sg\n"
     ]
    }
   ],
   "source": [
    "timer.update(resumenModelo(hub_model, 'Huber'))"
   ]
  },
  {
   "cell_type": "markdown",
   "metadata": {},
   "source": [
    "# Modelos basados en Árboles"
   ]
  },
  {
   "cell_type": "markdown",
   "metadata": {},
   "source": [
    "## Random Forest Regressor"
   ]
  },
  {
   "cell_type": "code",
   "execution_count": 53,
   "metadata": {},
   "outputs": [],
   "source": [
    "RF = RandomForestRegressor(random_state=12345, n_jobs=-1)"
   ]
  },
  {
   "cell_type": "code",
   "execution_count": 54,
   "metadata": {},
   "outputs": [],
   "source": [
    "RF_param = {\"n_estimators\": list(range(300, 1000, 100)),\n",
    "            \"max_depth\": list(range(10, 50, 10)),\n",
    "            \"min_samples_leaf\": list(range(1, 15, 3)),\n",
    "            \"max_features\": ['auto', 'sqrt', 'log2']}\n",
    "\n",
    "RF_grid = RandomizedSearchCV(RF,\n",
    "                             RF_param,\n",
    "                             iid=False,\n",
    "                             cv=kfolds,\n",
    "                             n_jobs=-1,\n",
    "                             n_iter=N_iter)"
   ]
  },
  {
   "cell_type": "code",
   "execution_count": 55,
   "metadata": {},
   "outputs": [],
   "source": [
    "# Entrenamiento del modelo\n",
    "# Borra alertas DeprecationWarning\n",
    "warnings.filterwarnings(\"ignore\", category=UserWarning)\n",
    "\n",
    "RF_model = RF_grid.fit(X, y);"
   ]
  },
  {
   "cell_type": "code",
   "execution_count": 56,
   "metadata": {},
   "outputs": [
    {
     "data": {
      "text/plain": [
       "RandomForestRegressor(bootstrap=True, criterion='mse', max_depth=30,\n",
       "                      max_features='sqrt', max_leaf_nodes=None,\n",
       "                      min_impurity_decrease=0.0, min_impurity_split=None,\n",
       "                      min_samples_leaf=1, min_samples_split=2,\n",
       "                      min_weight_fraction_leaf=0.0, n_estimators=400, n_jobs=-1,\n",
       "                      oob_score=False, random_state=12345, verbose=0,\n",
       "                      warm_start=False)"
      ]
     },
     "execution_count": 56,
     "metadata": {},
     "output_type": "execute_result"
    }
   ],
   "source": [
    "RF_model.best_estimator_"
   ]
  },
  {
   "cell_type": "code",
   "execution_count": 57,
   "metadata": {},
   "outputs": [
    {
     "data": {
      "text/plain": [
       "(0.12941790163473746, 0.010382647215306613)"
      ]
     },
     "execution_count": 57,
     "metadata": {},
     "output_type": "execute_result"
    }
   ],
   "source": [
    "# Borra alertas DeprecationWarning\n",
    "warnings.filterwarnings(\"ignore\", category=DeprecationWarning)\n",
    "warnings.filterwarnings(\"ignore\", category=UserWarning)\n",
    "\n",
    "score['RF'] = cv_rmse(RF_model.best_estimator_, X=X)\n",
    "\n",
    "(score['RF'].mean(), score['RF'].std())"
   ]
  },
  {
   "cell_type": "code",
   "execution_count": 58,
   "metadata": {},
   "outputs": [
    {
     "name": "stdout",
     "output_type": "stream",
     "text": [
      "----------------------------------------------------------------------------------\n",
      "---------------------------------MODELO RF------------------------------------\n",
      "----------------------------------------------------------------------------------\n",
      "\n",
      "TUNEADO\n",
      "Mejor modelo (PARAMETROS):-------------------> {'max_depth': 30, 'n_estimators': 400, 'min_samples_leaf': 1, 'max_features': 'sqrt'}\n",
      "Tiempo medio de TRAINING---------------------> 4.5434661712884905 sg\n",
      "Tiempo medio de SCORING----------------------> 0.5378094915151597 sg\n",
      "Tiempo medio de TRAINING mejor modelo--------> 1.566310167312622 sg\n",
      "\n",
      "PREDICCION DATOS\n",
      "Para datos Train:----------------------------> 0.20880122423171998 sg\n",
      "Para datos Test:-----------------------------> 0.20833935618400573 sg\n",
      "\n",
      "PREDICCION + SCORING DATOS\n",
      "Para datos Train:----------------------------> 0.20932265758514404 sg\n",
      "Para datos Test:-----------------------------> nan sg\n"
     ]
    }
   ],
   "source": [
    "timer.update(resumenModelo(RF_model, 'RF'))"
   ]
  },
  {
   "cell_type": "markdown",
   "metadata": {},
   "source": [
    "## Extratrees Regressor"
   ]
  },
  {
   "cell_type": "code",
   "execution_count": 59,
   "metadata": {},
   "outputs": [],
   "source": [
    "ExT = ExtraTreesRegressor(random_state=12345, n_jobs=-1)"
   ]
  },
  {
   "cell_type": "code",
   "execution_count": 60,
   "metadata": {},
   "outputs": [],
   "source": [
    "ExT_param = {\"n_estimators\": list(range(300, 1000, 100)),\n",
    "             \"max_depth\": list(range(10, 50, 10)),\n",
    "             \"min_samples_leaf\": list(range(1, 15, 3)),\n",
    "             \"max_features\": ['auto', 'sqrt', 'log2']}\n",
    "\n",
    "ExT_grid = RandomizedSearchCV(ExT, \n",
    "                              ExT_param,\n",
    "                              iid=False,\n",
    "                              cv=kfolds,\n",
    "                              n_jobs=-1,\n",
    "                              n_iter=N_iter)"
   ]
  },
  {
   "cell_type": "code",
   "execution_count": 61,
   "metadata": {},
   "outputs": [],
   "source": [
    "# Entrenamiento del modelo\n",
    "# Borra alertas DeprecationWarning\n",
    "warnings.filterwarnings(\"ignore\", category=UserWarning)\n",
    "\n",
    "ExT_model = ExT_grid.fit(X, y);"
   ]
  },
  {
   "cell_type": "code",
   "execution_count": 62,
   "metadata": {},
   "outputs": [
    {
     "data": {
      "text/plain": [
       "ExtraTreesRegressor(bootstrap=False, criterion='mse', max_depth=20,\n",
       "                    max_features='auto', max_leaf_nodes=None,\n",
       "                    min_impurity_decrease=0.0, min_impurity_split=None,\n",
       "                    min_samples_leaf=1, min_samples_split=2,\n",
       "                    min_weight_fraction_leaf=0.0, n_estimators=800, n_jobs=-1,\n",
       "                    oob_score=False, random_state=12345, verbose=0,\n",
       "                    warm_start=False)"
      ]
     },
     "execution_count": 62,
     "metadata": {},
     "output_type": "execute_result"
    }
   ],
   "source": [
    "ExT_model.best_estimator_"
   ]
  },
  {
   "cell_type": "code",
   "execution_count": 63,
   "metadata": {},
   "outputs": [
    {
     "data": {
      "text/plain": [
       "(0.1289526157325549, 0.009480372510673655)"
      ]
     },
     "execution_count": 63,
     "metadata": {},
     "output_type": "execute_result"
    }
   ],
   "source": [
    "# Borra alertas DeprecationWarning\n",
    "warnings.filterwarnings(\"ignore\", category=DeprecationWarning)\n",
    "warnings.filterwarnings(\"ignore\", category=UserWarning)\n",
    "\n",
    "score['ExT'] = cv_rmse(ExT_model.best_estimator_, X=X)\n",
    "\n",
    "(score['ExT'].mean(), score['ExT'].std())"
   ]
  },
  {
   "cell_type": "code",
   "execution_count": 64,
   "metadata": {},
   "outputs": [
    {
     "name": "stdout",
     "output_type": "stream",
     "text": [
      "----------------------------------------------------------------------------------\n",
      "---------------------------------MODELO ExT------------------------------------\n",
      "----------------------------------------------------------------------------------\n",
      "\n",
      "TUNEADO\n",
      "Mejor modelo (PARAMETROS):-------------------> {'max_depth': 20, 'n_estimators': 800, 'min_samples_leaf': 1, 'max_features': 'auto'}\n",
      "Tiempo medio de TRAINING---------------------> 2.984281850218773 sg\n",
      "Tiempo medio de SCORING----------------------> 0.48802090246677393 sg\n",
      "Tiempo medio de TRAINING mejor modelo--------> 2.4998602867126465 sg\n",
      "\n",
      "PREDICCION DATOS\n",
      "Para datos Train:----------------------------> 0.4022125768661499 sg\n",
      "Para datos Test:-----------------------------> 0.42057610630989073 sg\n",
      "\n",
      "PREDICCION + SCORING DATOS\n",
      "Para datos Train:----------------------------> 0.4105008566379547 sg\n",
      "Para datos Test:-----------------------------> nan sg\n"
     ]
    }
   ],
   "source": [
    "timer.update(resumenModelo(ExT_model, 'ExT'))"
   ]
  },
  {
   "cell_type": "markdown",
   "metadata": {},
   "source": [
    "## Gradient Boosting Regressor"
   ]
  },
  {
   "cell_type": "code",
   "execution_count": 65,
   "metadata": {},
   "outputs": [],
   "source": [
    "gbm = GradientBoostingRegressor(random_state=12345)"
   ]
  },
  {
   "cell_type": "code",
   "execution_count": 66,
   "metadata": {},
   "outputs": [],
   "source": [
    "gbm_param = {\"n_estimators\": list(range(400, 1000, 100)),\n",
    "             \"max_depth\": list(range(1, 10, 2)),\n",
    "             \"min_samples_leaf\": list(range(1, 15, 5)),\n",
    "             \"learning_rate\": [0.001, 0.01, 0.1, 1],  \n",
    "             \"max_features\": ['auto', 'sqrt']}\n",
    "\n",
    "gbm_grid = RandomizedSearchCV(gbm, \n",
    "                              gbm_param,  \n",
    "                              n_jobs=-1, \n",
    "                              iid=False,\n",
    "                              cv=kfolds,\n",
    "                              n_iter=N_iter,\n",
    "                              error_score=0)"
   ]
  },
  {
   "cell_type": "code",
   "execution_count": 67,
   "metadata": {},
   "outputs": [],
   "source": [
    "# Entrenamiento del modelo\n",
    "# Borra alertas DeprecationWarning\n",
    "warnings.filterwarnings(\"ignore\", category=UserWarning)\n",
    "\n",
    "gbm_model = gbm_grid.fit(X, y);"
   ]
  },
  {
   "cell_type": "code",
   "execution_count": 68,
   "metadata": {},
   "outputs": [
    {
     "data": {
      "text/plain": [
       "GradientBoostingRegressor(alpha=0.9, criterion='friedman_mse', init=None,\n",
       "                          learning_rate=0.01, loss='ls', max_depth=5,\n",
       "                          max_features='sqrt', max_leaf_nodes=None,\n",
       "                          min_impurity_decrease=0.0, min_impurity_split=None,\n",
       "                          min_samples_leaf=1, min_samples_split=2,\n",
       "                          min_weight_fraction_leaf=0.0, n_estimators=900,\n",
       "                          n_iter_no_change=None, presort='auto',\n",
       "                          random_state=12345, subsample=1.0, tol=0.0001,\n",
       "                          validation_fraction=0.1, verbose=0, warm_start=False)"
      ]
     },
     "execution_count": 68,
     "metadata": {},
     "output_type": "execute_result"
    }
   ],
   "source": [
    "gbm_model.best_estimator_"
   ]
  },
  {
   "cell_type": "code",
   "execution_count": 69,
   "metadata": {},
   "outputs": [
    {
     "data": {
      "text/plain": [
       "(0.11617532891120053, 0.009525650386400068)"
      ]
     },
     "execution_count": 69,
     "metadata": {},
     "output_type": "execute_result"
    }
   ],
   "source": [
    "# Borra alertas DeprecationWarning\n",
    "warnings.filterwarnings(\"ignore\", category=DeprecationWarning)\n",
    "warnings.filterwarnings(\"ignore\", category=UserWarning)\n",
    "\n",
    "score['Gbm'] = cv_rmse(gbm_model.best_estimator_, X=X)\n",
    "\n",
    "(score['Gbm'].mean(), score['Gbm'].std())"
   ]
  },
  {
   "cell_type": "code",
   "execution_count": 70,
   "metadata": {},
   "outputs": [
    {
     "name": "stdout",
     "output_type": "stream",
     "text": [
      "----------------------------------------------------------------------------------\n",
      "---------------------------------MODELO Gbm------------------------------------\n",
      "----------------------------------------------------------------------------------\n",
      "\n",
      "TUNEADO\n",
      "Mejor modelo (PARAMETROS):-------------------> {'max_depth': 5, 'n_estimators': 900, 'min_samples_leaf': 1, 'max_features': 'sqrt', 'learning_rate': 0.01}\n",
      "Tiempo medio de TRAINING---------------------> 3.091394767522812 sg\n",
      "Tiempo medio de SCORING----------------------> 0.011611265349388122 sg\n",
      "Tiempo medio de TRAINING mejor modelo--------> 1.1198086738586426 sg\n",
      "\n",
      "PREDICCION DATOS\n",
      "Para datos Train:----------------------------> 0.04082498908042908 sg\n",
      "Para datos Test:-----------------------------> 0.03892849206924438 sg\n",
      "\n",
      "PREDICCION + SCORING DATOS\n",
      "Para datos Train:----------------------------> 0.04183241605758667 sg\n",
      "Para datos Test:-----------------------------> nan sg\n"
     ]
    }
   ],
   "source": [
    "timer.update(resumenModelo(gbm_model, 'Gbm'))"
   ]
  },
  {
   "cell_type": "markdown",
   "metadata": {},
   "source": [
    "## LightGBM Regressor"
   ]
  },
  {
   "cell_type": "code",
   "execution_count": 71,
   "metadata": {},
   "outputs": [],
   "source": [
    "lgbm = LGBMRegressor(random_state=12345, n_jobs=-1)"
   ]
  },
  {
   "cell_type": "code",
   "execution_count": 72,
   "metadata": {},
   "outputs": [],
   "source": [
    "lgbm_param = {\"n_estimators\": list(range(400, 1000, 100)),\n",
    "              \"max_depth\": list(range(10, 50, 10)),\n",
    "              \"learning_rate\": [0.001, 0.01, 0.1, 1],  \n",
    "              \"reg_alpha\": [0.001, 0.01, 0.1, 1],\n",
    "              \"reg_lambda\": [0.001, 0.01, 0.1, 1]}\n",
    "\n",
    "lgbm_grid = RandomizedSearchCV(lgbm, \n",
    "                               lgbm_param,  \n",
    "                               n_jobs=-1, \n",
    "                               iid=False,\n",
    "                               cv=kfolds,\n",
    "                               n_iter=N_iter)"
   ]
  },
  {
   "cell_type": "code",
   "execution_count": 73,
   "metadata": {},
   "outputs": [],
   "source": [
    "# Entrenamiento del modelo\n",
    "# Borra alertas DeprecationWarning\n",
    "warnings.filterwarnings(\"ignore\", category=FutureWarning)\n",
    "warnings.filterwarnings(\"ignore\", category=UserWarning)\n",
    "\n",
    "lgbm_model = lgbm_grid.fit(X, y);"
   ]
  },
  {
   "cell_type": "code",
   "execution_count": 74,
   "metadata": {},
   "outputs": [
    {
     "data": {
      "text/plain": [
       "LGBMRegressor(boosting_type='gbdt', class_weight=None, colsample_bytree=1.0,\n",
       "              importance_type='split', learning_rate=0.01, max_depth=10,\n",
       "              min_child_samples=20, min_child_weight=0.001, min_split_gain=0.0,\n",
       "              n_estimators=900, n_jobs=-1, num_leaves=31, objective=None,\n",
       "              random_state=12345, reg_alpha=0.001, reg_lambda=0.1, silent=True,\n",
       "              subsample=1.0, subsample_for_bin=200000, subsample_freq=0)"
      ]
     },
     "execution_count": 74,
     "metadata": {},
     "output_type": "execute_result"
    }
   ],
   "source": [
    "lgbm_model.best_estimator_"
   ]
  },
  {
   "cell_type": "code",
   "execution_count": 75,
   "metadata": {},
   "outputs": [
    {
     "data": {
      "text/plain": [
       "(0.12617799856332396, 0.009081147161062498)"
      ]
     },
     "execution_count": 75,
     "metadata": {},
     "output_type": "execute_result"
    }
   ],
   "source": [
    "# Borra alertas DeprecationWarning\n",
    "warnings.filterwarnings(\"ignore\", category=DeprecationWarning)\n",
    "warnings.filterwarnings(\"ignore\", category=UserWarning)\n",
    "\n",
    "score['LGBm'] = cv_rmse(lgbm_model.best_estimator_, X=X)\n",
    "\n",
    "(score['LGBm'].mean(), score['LGBm'].std())"
   ]
  },
  {
   "cell_type": "code",
   "execution_count": 76,
   "metadata": {},
   "outputs": [
    {
     "name": "stdout",
     "output_type": "stream",
     "text": [
      "----------------------------------------------------------------------------------\n",
      "---------------------------------MODELO LGBm------------------------------------\n",
      "----------------------------------------------------------------------------------\n",
      "\n",
      "TUNEADO\n",
      "Mejor modelo (PARAMETROS):-------------------> {'max_depth': 10, 'n_estimators': 900, 'reg_alpha': 0.001, 'reg_lambda': 0.1, 'learning_rate': 0.01}\n",
      "Tiempo medio de TRAINING---------------------> 1.5607516301870348 sg\n",
      "Tiempo medio de SCORING----------------------> 0.048874691033363345 sg\n",
      "Tiempo medio de TRAINING mejor modelo--------> 1.4025866985321045 sg\n",
      "\n",
      "PREDICCION DATOS\n",
      "Para datos Train:----------------------------> 0.03289814829826355 sg\n",
      "Para datos Test:-----------------------------> 0.03304474115371704 sg\n",
      "\n",
      "PREDICCION + SCORING DATOS\n",
      "Para datos Train:----------------------------> 0.03345565319061279 sg\n",
      "Para datos Test:-----------------------------> nan sg\n"
     ]
    }
   ],
   "source": [
    "timer.update(resumenModelo(lgbm_model, 'LGBm'))"
   ]
  },
  {
   "cell_type": "markdown",
   "metadata": {},
   "source": [
    "## XGBoost Regressor"
   ]
  },
  {
   "cell_type": "code",
   "execution_count": 77,
   "metadata": {},
   "outputs": [],
   "source": [
    "xgbm = XGBRegressor(random_state=12345, objective='reg:squarederror', n_jobs=-1)"
   ]
  },
  {
   "cell_type": "code",
   "execution_count": 78,
   "metadata": {},
   "outputs": [],
   "source": [
    "xgbm_param = {\"n_estimators\": list(range(400, 1000, 100)),\n",
    "              \"max_depth\": list(range(10, 50, 10)),\n",
    "              \"learning_rate\": [0.001, 0.01, 0.1, 1],  \n",
    "              \"reg_alpha\": [0.001, 0.01, 0.1, 1, 10],\n",
    "              \"reg_lambda\": [0.001, 0.01, 0.1, 1]}\n",
    "\n",
    "xgbm_grid = RandomizedSearchCV(xgbm, \n",
    "                               xgbm_param,  \n",
    "                               n_jobs=-1, \n",
    "                               iid=False,\n",
    "                               cv=kfolds,\n",
    "                               n_iter=N_iter)"
   ]
  },
  {
   "cell_type": "code",
   "execution_count": 79,
   "metadata": {},
   "outputs": [],
   "source": [
    "# Entrenamiento del modelo\n",
    "# Borra alertas DeprecationWarning\n",
    "warnings.filterwarnings(\"ignore\", category=FutureWarning)\n",
    "warnings.filterwarnings(\"ignore\", category=UserWarning)\n",
    "\n",
    "xgbm_model = xgbm_grid.fit(X, y);"
   ]
  },
  {
   "cell_type": "code",
   "execution_count": 80,
   "metadata": {},
   "outputs": [
    {
     "data": {
      "text/plain": [
       "XGBRegressor(base_score=0.5, booster='gbtree', colsample_bylevel=1,\n",
       "             colsample_bynode=1, colsample_bytree=1, gamma=0,\n",
       "             importance_type='gain', learning_rate=0.01, max_delta_step=0,\n",
       "             max_depth=10, min_child_weight=1, missing=None, n_estimators=700,\n",
       "             n_jobs=-1, nthread=None, objective='reg:squarederror',\n",
       "             random_state=12345, reg_alpha=0.01, reg_lambda=0.1,\n",
       "             scale_pos_weight=1, seed=None, silent=None, subsample=1,\n",
       "             verbosity=1)"
      ]
     },
     "execution_count": 80,
     "metadata": {},
     "output_type": "execute_result"
    }
   ],
   "source": [
    "xgbm_model.best_estimator_"
   ]
  },
  {
   "cell_type": "code",
   "execution_count": 81,
   "metadata": {},
   "outputs": [
    {
     "data": {
      "text/plain": [
       "(0.12370799134774377, 0.009769768999233486)"
      ]
     },
     "execution_count": 81,
     "metadata": {},
     "output_type": "execute_result"
    }
   ],
   "source": [
    "# Borra alertas DeprecationWarning\n",
    "warnings.filterwarnings(\"ignore\", category=DeprecationWarning)\n",
    "warnings.filterwarnings(\"ignore\", category=UserWarning)\n",
    "\n",
    "score['XGBm'] = cv_rmse(xgbm_model.best_estimator_, X=X)\n",
    "\n",
    "(score['XGBm'].mean(), score['XGBm'].std())"
   ]
  },
  {
   "cell_type": "code",
   "execution_count": 82,
   "metadata": {},
   "outputs": [
    {
     "name": "stdout",
     "output_type": "stream",
     "text": [
      "----------------------------------------------------------------------------------\n",
      "---------------------------------MODELO XGBm------------------------------------\n",
      "----------------------------------------------------------------------------------\n",
      "\n",
      "TUNEADO\n",
      "Mejor modelo (PARAMETROS):-------------------> {'max_depth': 10, 'n_estimators': 700, 'reg_alpha': 0.01, 'reg_lambda': 0.1, 'learning_rate': 0.01}\n",
      "Tiempo medio de TRAINING---------------------> 3.4494480350732806 sg\n",
      "Tiempo medio de SCORING----------------------> 0.01775301444530487 sg\n",
      "Tiempo medio de TRAINING mejor modelo--------> 1.19162917137146 sg\n",
      "\n",
      "PREDICCION DATOS\n",
      "Para datos Train:----------------------------> 0.015318788290023803 sg\n",
      "Para datos Test:-----------------------------> 0.01482614278793335 sg\n",
      "\n",
      "PREDICCION + SCORING DATOS\n",
      "Para datos Train:----------------------------> 0.015609980821609496 sg\n",
      "Para datos Test:-----------------------------> nan sg\n"
     ]
    }
   ],
   "source": [
    "timer.update(resumenModelo(xgbm_model, 'XGBm'))"
   ]
  },
  {
   "cell_type": "markdown",
   "metadata": {},
   "source": [
    "# Support Vector Regressor"
   ]
  },
  {
   "cell_type": "markdown",
   "metadata": {},
   "source": [
    "## Kernell Lineal"
   ]
  },
  {
   "cell_type": "code",
   "execution_count": 83,
   "metadata": {},
   "outputs": [],
   "source": [
    "SVRL = SVR(kernel=\"linear\")"
   ]
  },
  {
   "cell_type": "code",
   "execution_count": 84,
   "metadata": {},
   "outputs": [],
   "source": [
    "SVRL_param = {\"C\": np.linspace(0.0001, 10, 500)}\n",
    "\n",
    "SVRL_grid = RandomizedSearchCV(SVRL, \n",
    "                               SVRL_param,\n",
    "                               n_jobs=-1,\n",
    "                               iid=False,\n",
    "                               cv=kfolds,\n",
    "                               n_iter=N_iter)"
   ]
  },
  {
   "cell_type": "code",
   "execution_count": 85,
   "metadata": {},
   "outputs": [],
   "source": [
    "SVRL_model = SVRL_grid.fit(X, y)"
   ]
  },
  {
   "cell_type": "code",
   "execution_count": 86,
   "metadata": {},
   "outputs": [
    {
     "data": {
      "text/plain": [
       "SVR(C=0.9419743486973948, cache_size=200, coef0=0.0, degree=3, epsilon=0.1,\n",
       "    gamma='auto_deprecated', kernel='linear', max_iter=-1, shrinking=True,\n",
       "    tol=0.001, verbose=False)"
      ]
     },
     "execution_count": 86,
     "metadata": {},
     "output_type": "execute_result"
    }
   ],
   "source": [
    "SVRL_model.best_estimator_"
   ]
  },
  {
   "cell_type": "code",
   "execution_count": 87,
   "metadata": {},
   "outputs": [
    {
     "data": {
      "text/plain": [
       "(0.109876762140935, 0.007947825340154273)"
      ]
     },
     "execution_count": 87,
     "metadata": {},
     "output_type": "execute_result"
    }
   ],
   "source": [
    "# Borra alertas DeprecationWarning\n",
    "warnings.filterwarnings(\"ignore\", category=DeprecationWarning)\n",
    "warnings.filterwarnings(\"ignore\", category=UserWarning)\n",
    "\n",
    "score['SVRL'] = cv_rmse(SVRL_model.best_estimator_, X=X)\n",
    "\n",
    "(score['SVRL'].mean(), score['SVRL'].std())"
   ]
  },
  {
   "cell_type": "code",
   "execution_count": 88,
   "metadata": {},
   "outputs": [
    {
     "name": "stdout",
     "output_type": "stream",
     "text": [
      "----------------------------------------------------------------------------------\n",
      "---------------------------------MODELO SVRL------------------------------------\n",
      "----------------------------------------------------------------------------------\n",
      "\n",
      "TUNEADO\n",
      "Mejor modelo (PARAMETROS):-------------------> {'C': 0.9419743486973948}\n",
      "Tiempo medio de TRAINING---------------------> 3.978289015865326 sg\n",
      "Tiempo medio de SCORING----------------------> 0.012056219363212585 sg\n",
      "Tiempo medio de TRAINING mejor modelo--------> 0.9097278118133545 sg\n",
      "\n",
      "PREDICCION DATOS\n",
      "Para datos Train:----------------------------> 0.03335202932357788 sg\n",
      "Para datos Test:-----------------------------> 0.033337397575378416 sg\n",
      "\n",
      "PREDICCION + SCORING DATOS\n",
      "Para datos Train:----------------------------> 0.03413213014602661 sg\n",
      "Para datos Test:-----------------------------> nan sg\n"
     ]
    }
   ],
   "source": [
    "timer.update(resumenModelo(SVRL_model, 'SVRL'))"
   ]
  },
  {
   "cell_type": "markdown",
   "metadata": {},
   "source": [
    "## Kernell Polinómico"
   ]
  },
  {
   "cell_type": "code",
   "execution_count": 89,
   "metadata": {},
   "outputs": [],
   "source": [
    "SVRP = SVR(kernel=\"poly\")"
   ]
  },
  {
   "cell_type": "code",
   "execution_count": 90,
   "metadata": {},
   "outputs": [],
   "source": [
    "SVRP_param = {\"C\": np.linspace(0.0001, 10, 50),\n",
    "              \"degree\": [2, 3],\n",
    "              \"gamma\": [0.001, 0.01, 0.1, 1, 10]}\n",
    "\n",
    "SVRP_grid = RandomizedSearchCV(SVRP, \n",
    "                               SVRP_param,\n",
    "                               n_jobs=-1,\n",
    "                               iid=False,\n",
    "                               cv=kfolds,\n",
    "                               n_iter=N_iter)"
   ]
  },
  {
   "cell_type": "code",
   "execution_count": 91,
   "metadata": {},
   "outputs": [],
   "source": [
    "SVRP_model = SVRP_grid.fit(X, y)"
   ]
  },
  {
   "cell_type": "code",
   "execution_count": 92,
   "metadata": {},
   "outputs": [
    {
     "data": {
      "text/plain": [
       "SVR(C=0.0001, cache_size=200, coef0=0.0, degree=2, epsilon=0.1, gamma=1,\n",
       "    kernel='poly', max_iter=-1, shrinking=True, tol=0.001, verbose=False)"
      ]
     },
     "execution_count": 92,
     "metadata": {},
     "output_type": "execute_result"
    }
   ],
   "source": [
    "SVRP_model.best_estimator_"
   ]
  },
  {
   "cell_type": "code",
   "execution_count": 93,
   "metadata": {},
   "outputs": [
    {
     "data": {
      "text/plain": [
       "(0.114879477568501, 0.009769500783998627)"
      ]
     },
     "execution_count": 93,
     "metadata": {},
     "output_type": "execute_result"
    }
   ],
   "source": [
    "# Borra alertas DeprecationWarning\n",
    "warnings.filterwarnings(\"ignore\", category=DeprecationWarning)\n",
    "warnings.filterwarnings(\"ignore\", category=UserWarning)\n",
    "\n",
    "score['SVRP'] = cv_rmse(SVRP_model.best_estimator_, X=X)\n",
    "\n",
    "(score['SVRP'].mean(), score['SVRP'].std())"
   ]
  },
  {
   "cell_type": "code",
   "execution_count": 94,
   "metadata": {},
   "outputs": [
    {
     "name": "stdout",
     "output_type": "stream",
     "text": [
      "----------------------------------------------------------------------------------\n",
      "---------------------------------MODELO SVRP------------------------------------\n",
      "----------------------------------------------------------------------------------\n",
      "\n",
      "TUNEADO\n",
      "Mejor modelo (PARAMETROS):-------------------> {'gamma': 1, 'C': 0.0001, 'degree': 2}\n",
      "Tiempo medio de TRAINING---------------------> 5.369571020197868 sg\n",
      "Tiempo medio de SCORING----------------------> 0.017218828678131102 sg\n",
      "Tiempo medio de TRAINING mejor modelo--------> 0.09811854362487793 sg\n",
      "\n",
      "PREDICCION DATOS\n",
      "Para datos Train:----------------------------> 0.03637891173362732 sg\n",
      "Para datos Test:-----------------------------> 0.036367112398147584 sg\n",
      "\n",
      "PREDICCION + SCORING DATOS\n",
      "Para datos Train:----------------------------> 0.0368187415599823 sg\n",
      "Para datos Test:-----------------------------> nan sg\n"
     ]
    }
   ],
   "source": [
    "timer.update(resumenModelo(SVRP_model, 'SVRP'))"
   ]
  },
  {
   "cell_type": "markdown",
   "metadata": {},
   "source": [
    "## Kernel Radial"
   ]
  },
  {
   "cell_type": "code",
   "execution_count": 95,
   "metadata": {},
   "outputs": [],
   "source": [
    "SVRR = SVR(kernel=\"rbf\")"
   ]
  },
  {
   "cell_type": "code",
   "execution_count": 96,
   "metadata": {},
   "outputs": [],
   "source": [
    "SVRR_param = {\"C\": np.linspace(0.0001, 10, 100),\n",
    "              \"gamma\": [0.001, 0.01, 0.1, 1, 10]}"
   ]
  },
  {
   "cell_type": "code",
   "execution_count": 97,
   "metadata": {},
   "outputs": [],
   "source": [
    "SVRR_grid = RandomizedSearchCV(SVRR, \n",
    "                               SVRR_param,\n",
    "                               n_jobs=-1,\n",
    "                               iid=False,\n",
    "                               cv=kfolds,\n",
    "                               n_iter=N_iter)"
   ]
  },
  {
   "cell_type": "code",
   "execution_count": 98,
   "metadata": {},
   "outputs": [],
   "source": [
    "SVRR_model = SVRR_grid.fit(X, y)"
   ]
  },
  {
   "cell_type": "code",
   "execution_count": 99,
   "metadata": {},
   "outputs": [
    {
     "data": {
      "text/plain": [
       "SVR(C=10.0, cache_size=200, coef0=0.0, degree=3, epsilon=0.1, gamma=0.001,\n",
       "    kernel='rbf', max_iter=-1, shrinking=True, tol=0.001, verbose=False)"
      ]
     },
     "execution_count": 99,
     "metadata": {},
     "output_type": "execute_result"
    }
   ],
   "source": [
    "SVRR_model.best_estimator_"
   ]
  },
  {
   "cell_type": "code",
   "execution_count": 100,
   "metadata": {},
   "outputs": [
    {
     "data": {
      "text/plain": [
       "(0.11142739818084645, 0.008970344564367629)"
      ]
     },
     "execution_count": 100,
     "metadata": {},
     "output_type": "execute_result"
    }
   ],
   "source": [
    "# Borra alertas DeprecationWarning\n",
    "warnings.filterwarnings(\"ignore\", category=DeprecationWarning)\n",
    "warnings.filterwarnings(\"ignore\", category=UserWarning)\n",
    "\n",
    "score['SVRR'] = cv_rmse(SVRR_model.best_estimator_, X=X)\n",
    "\n",
    "(score['SVRR'].mean(), score['SVRR'].std())"
   ]
  },
  {
   "cell_type": "code",
   "execution_count": 101,
   "metadata": {},
   "outputs": [
    {
     "name": "stdout",
     "output_type": "stream",
     "text": [
      "----------------------------------------------------------------------------------\n",
      "---------------------------------MODELO SVRR------------------------------------\n",
      "----------------------------------------------------------------------------------\n",
      "\n",
      "TUNEADO\n",
      "Mejor modelo (PARAMETROS):-------------------> {'gamma': 0.001, 'C': 10.0}\n",
      "Tiempo medio de TRAINING---------------------> 0.16289808182716367 sg\n",
      "Tiempo medio de SCORING----------------------> 0.02637574770450592 sg\n",
      "Tiempo medio de TRAINING mejor modelo--------> 0.11030197143554688 sg\n",
      "\n",
      "PREDICCION DATOS\n",
      "Para datos Train:----------------------------> 0.049349312782287595 sg\n",
      "Para datos Test:-----------------------------> 0.04961115717887878 sg\n",
      "\n",
      "PREDICCION + SCORING DATOS\n",
      "Para datos Train:----------------------------> 0.050379128456115724 sg\n",
      "Para datos Test:-----------------------------> nan sg\n"
     ]
    }
   ],
   "source": [
    "timer.update(resumenModelo(SVRR_model, 'SVRR'))"
   ]
  },
  {
   "cell_type": "markdown",
   "metadata": {},
   "source": [
    "# Redes Neuronales"
   ]
  },
  {
   "cell_type": "code",
   "execution_count": 102,
   "metadata": {},
   "outputs": [],
   "source": [
    "NN = MLPRegressor(early_stopping=True, random_state=12345)"
   ]
  },
  {
   "cell_type": "code",
   "execution_count": 103,
   "metadata": {},
   "outputs": [],
   "source": [
    "NN_param = {\"hidden_layer_sizes\": [(10, ), (15, ), (20, )],\n",
    "            \"learning_rate_init\": [0.001, 0.01, 0.1, 1],\n",
    "            \"activation\": ['logistic', 'tanh', 'relu'],\n",
    "            \"alpha\": [0.001, 0.01, 0.1, 1, 10],\n",
    "            \"early_stopping\": [True, False]}\n",
    "\n",
    "NN_grid = RandomizedSearchCV(NN, \n",
    "                             NN_param,\n",
    "                             n_jobs=-1,\n",
    "                             iid=False,\n",
    "                             cv=kfolds,\n",
    "                             n_iter=N_iter)"
   ]
  },
  {
   "cell_type": "code",
   "execution_count": 104,
   "metadata": {},
   "outputs": [],
   "source": [
    "NN_model = NN_grid.fit(X, y)"
   ]
  },
  {
   "cell_type": "code",
   "execution_count": 105,
   "metadata": {},
   "outputs": [
    {
     "data": {
      "text/plain": [
       "MLPRegressor(activation='logistic', alpha=0.1, batch_size='auto', beta_1=0.9,\n",
       "             beta_2=0.999, early_stopping=True, epsilon=1e-08,\n",
       "             hidden_layer_sizes=(20,), learning_rate='constant',\n",
       "             learning_rate_init=0.01, max_iter=200, momentum=0.9,\n",
       "             n_iter_no_change=10, nesterovs_momentum=True, power_t=0.5,\n",
       "             random_state=12345, shuffle=True, solver='adam', tol=0.0001,\n",
       "             validation_fraction=0.1, verbose=False, warm_start=False)"
      ]
     },
     "execution_count": 105,
     "metadata": {},
     "output_type": "execute_result"
    }
   ],
   "source": [
    "NN_model.best_estimator_"
   ]
  },
  {
   "cell_type": "code",
   "execution_count": 106,
   "metadata": {},
   "outputs": [
    {
     "data": {
      "text/plain": [
       "(0.1239072528219059, 0.009025604204241975)"
      ]
     },
     "execution_count": 106,
     "metadata": {},
     "output_type": "execute_result"
    }
   ],
   "source": [
    "# Borra alertas DeprecationWarning\n",
    "warnings.filterwarnings(\"ignore\", category=DeprecationWarning)\n",
    "warnings.filterwarnings(\"ignore\", category=UserWarning)\n",
    "\n",
    "score['NN'] = cv_rmse(NN_model.best_estimator_, X=X)\n",
    "\n",
    "(score['NN'].mean(), score['NN'].std())"
   ]
  },
  {
   "cell_type": "code",
   "execution_count": 107,
   "metadata": {},
   "outputs": [
    {
     "name": "stdout",
     "output_type": "stream",
     "text": [
      "----------------------------------------------------------------------------------\n",
      "---------------------------------MODELO NN------------------------------------\n",
      "----------------------------------------------------------------------------------\n",
      "\n",
      "TUNEADO\n",
      "Mejor modelo (PARAMETROS):-------------------> {'hidden_layer_sizes': (20,), 'activation': 'logistic', 'learning_rate_init': 0.01, 'early_stopping': True, 'alpha': 0.1}\n",
      "Tiempo medio de TRAINING---------------------> 1.0649994052171707 sg\n",
      "Tiempo medio de SCORING----------------------> 0.009514926528930663 sg\n",
      "Tiempo medio de TRAINING mejor modelo--------> 1.0484936237335205 sg\n",
      "\n",
      "PREDICCION DATOS\n",
      "Para datos Train:----------------------------> 0.004095224142074585 sg\n",
      "Para datos Test:-----------------------------> 0.0037916016578674314 sg\n",
      "\n",
      "PREDICCION + SCORING DATOS\n",
      "Para datos Train:----------------------------> 0.004537060260772705 sg\n",
      "Para datos Test:-----------------------------> nan sg\n"
     ]
    }
   ],
   "source": [
    "timer.update(resumenModelo(NN_model, 'NN'))"
   ]
  },
  {
   "cell_type": "markdown",
   "metadata": {},
   "source": [
    "# Ensembles models"
   ]
  },
  {
   "cell_type": "markdown",
   "metadata": {},
   "source": [
    "## Ensemble model 1"
   ]
  },
  {
   "cell_type": "markdown",
   "metadata": {},
   "source": [
    "Se prueban los siguientes estimadores."
   ]
  },
  {
   "cell_type": "code",
   "execution_count": 108,
   "metadata": {},
   "outputs": [],
   "source": [
    "ens1 = [(\"Lasso\", lasso_model.best_estimator_), \n",
    "        (\"Ridge\", ridge_model.best_estimator_)]"
   ]
  },
  {
   "cell_type": "markdown",
   "metadata": {},
   "source": [
    "Los pesos a asignar en este modelo son los que a continuación se definen."
   ]
  },
  {
   "cell_type": "code",
   "execution_count": 109,
   "metadata": {},
   "outputs": [],
   "source": [
    "weights1 = [0.5, 0.5]"
   ]
  },
  {
   "cell_type": "code",
   "execution_count": 110,
   "metadata": {},
   "outputs": [],
   "source": [
    "ensemb1 = VotingRegressor(ens1, weights1, n_jobs=-1)"
   ]
  },
  {
   "cell_type": "code",
   "execution_count": 111,
   "metadata": {},
   "outputs": [],
   "source": [
    "ensemb1_model = ensemb1.fit(X, y)"
   ]
  },
  {
   "cell_type": "code",
   "execution_count": 112,
   "metadata": {},
   "outputs": [
    {
     "data": {
      "text/plain": [
       "(0.11066422647953683, 0.00858727385650396)"
      ]
     },
     "execution_count": 112,
     "metadata": {},
     "output_type": "execute_result"
    }
   ],
   "source": [
    "# Borra alertas DeprecationWarning\n",
    "warnings.filterwarnings(\"ignore\", category=DeprecationWarning)\n",
    "warnings.filterwarnings(\"ignore\", category=UserWarning)\n",
    "\n",
    "score['Ensemb1'] = cv_rmse(ensemb1_model, X=X)\n",
    "\n",
    "(score['Ensemb1'].mean(), score['Ensemb1'].std())"
   ]
  },
  {
   "cell_type": "code",
   "execution_count": 113,
   "metadata": {},
   "outputs": [
    {
     "name": "stdout",
     "output_type": "stream",
     "text": [
      "----------------------------------------------------------------------------------\n",
      "---------------------------------MODELO Ensemb1------------------------------------\n",
      "----------------------------------------------------------------------------------\n",
      "\n",
      "PREDICCION DATOS\n",
      "Para datos Train:----------------------------> 0.005073760747909546 sg\n",
      "Para datos Test:-----------------------------> 0.004631029367446899 sg\n",
      "\n",
      "PREDICCION + SCORING DATOS\n",
      "Para datos Train:----------------------------> 0.0053667759895324706 sg\n",
      "Para datos Test:-----------------------------> nan sg\n"
     ]
    }
   ],
   "source": [
    "timer.update(resumenModelo(ensemb1_model, 'Ensemb1', flag=False))"
   ]
  },
  {
   "cell_type": "markdown",
   "metadata": {},
   "source": [
    "## Ensemble model 2"
   ]
  },
  {
   "cell_type": "markdown",
   "metadata": {},
   "source": [
    "Se prueban los siguientes estimadores."
   ]
  },
  {
   "cell_type": "code",
   "execution_count": 114,
   "metadata": {},
   "outputs": [],
   "source": [
    "ens2 = [(\"Lasso\", lasso_model.best_estimator_), \n",
    "        (\"Ridge\", ridge_model.best_estimator_), \n",
    "        (\"Elasticnet\", elasticnet_model.best_estimator_)]"
   ]
  },
  {
   "cell_type": "markdown",
   "metadata": {},
   "source": [
    "Los pesos a asignar en este modelo son los que a continuación se definen."
   ]
  },
  {
   "cell_type": "code",
   "execution_count": 115,
   "metadata": {},
   "outputs": [],
   "source": [
    "weights2 = [0.2, 0.2, 0.6]"
   ]
  },
  {
   "cell_type": "code",
   "execution_count": 116,
   "metadata": {},
   "outputs": [],
   "source": [
    "ensemb2 = VotingRegressor(ens2, weights2, n_jobs=-1)"
   ]
  },
  {
   "cell_type": "code",
   "execution_count": 117,
   "metadata": {},
   "outputs": [],
   "source": [
    "ensemb2_model = ensemb2.fit(X, y)"
   ]
  },
  {
   "cell_type": "code",
   "execution_count": 118,
   "metadata": {},
   "outputs": [
    {
     "name": "stdout",
     "output_type": "stream",
     "text": [
      "----------------------------------------------------------------------------------\n",
      "---------------------------------MODELO Ensemb1------------------------------------\n",
      "----------------------------------------------------------------------------------\n",
      "\n",
      "PREDICCION DATOS\n",
      "Para datos Train:----------------------------> 0.0051065957546234135 sg\n",
      "Para datos Test:-----------------------------> 0.0046576809883117675 sg\n",
      "\n",
      "PREDICCION + SCORING DATOS\n",
      "Para datos Train:----------------------------> 0.005385216474533081 sg\n",
      "Para datos Test:-----------------------------> nan sg\n"
     ]
    },
    {
     "data": {
      "text/plain": [
       "(0.1090938152854093, 0.008183859022944677)"
      ]
     },
     "execution_count": 118,
     "metadata": {},
     "output_type": "execute_result"
    }
   ],
   "source": [
    "# Borra alertas DeprecationWarning\n",
    "warnings.filterwarnings(\"ignore\", category=DeprecationWarning)\n",
    "warnings.filterwarnings(\"ignore\", category=UserWarning)\n",
    "\n",
    "score['Ensemb2'] = cv_rmse(ensemb2_model, X=X)\n",
    "timer.update(resumenModelo(ensemb1_model, 'Ensemb1', flag=False))\n",
    "(score['Ensemb2'].mean(), score['Ensemb2'].std())"
   ]
  },
  {
   "cell_type": "code",
   "execution_count": 119,
   "metadata": {},
   "outputs": [
    {
     "name": "stdout",
     "output_type": "stream",
     "text": [
      "----------------------------------------------------------------------------------\n",
      "---------------------------------MODELO Ensemb2------------------------------------\n",
      "----------------------------------------------------------------------------------\n",
      "\n",
      "PREDICCION DATOS\n",
      "Para datos Train:----------------------------> 0.00696964144706726 sg\n",
      "Para datos Test:-----------------------------> 0.006827548742294311 sg\n",
      "\n",
      "PREDICCION + SCORING DATOS\n",
      "Para datos Train:----------------------------> 0.007502124309539795 sg\n",
      "Para datos Test:-----------------------------> nan sg\n"
     ]
    }
   ],
   "source": [
    "timer.update(resumenModelo(ensemb2_model, 'Ensemb2', flag=False))"
   ]
  },
  {
   "cell_type": "markdown",
   "metadata": {},
   "source": [
    "## Ensemble model 3"
   ]
  },
  {
   "cell_type": "markdown",
   "metadata": {},
   "source": [
    "Se prueban los siguientes estimadores."
   ]
  },
  {
   "cell_type": "code",
   "execution_count": 120,
   "metadata": {},
   "outputs": [],
   "source": [
    "ens3 = [(\"Lasso\", lasso_model.best_estimator_), \n",
    "        (\"Ridge\", ridge_model.best_estimator_), \n",
    "        (\"Elasticnet\", elasticnet_model.best_estimator_),\n",
    "       (\"SVRL\", SVRL_model.best_estimator_)]"
   ]
  },
  {
   "cell_type": "markdown",
   "metadata": {},
   "source": [
    "Los pesos a asignar en este modelo son los que a continuación se definen."
   ]
  },
  {
   "cell_type": "code",
   "execution_count": 121,
   "metadata": {},
   "outputs": [],
   "source": [
    "weights3 = [0.2, 0.2, 0.4, 0.2]"
   ]
  },
  {
   "cell_type": "code",
   "execution_count": 122,
   "metadata": {},
   "outputs": [],
   "source": [
    "ensemb3 = VotingRegressor(ens3, weights3, n_jobs=-1)"
   ]
  },
  {
   "cell_type": "code",
   "execution_count": 123,
   "metadata": {},
   "outputs": [],
   "source": [
    "ensemb3_model = ensemb3.fit(X, y)"
   ]
  },
  {
   "cell_type": "code",
   "execution_count": 124,
   "metadata": {},
   "outputs": [
    {
     "data": {
      "text/plain": [
       "(0.10902480280836813, 0.008193431884924253)"
      ]
     },
     "execution_count": 124,
     "metadata": {},
     "output_type": "execute_result"
    }
   ],
   "source": [
    "# Borra alertas DeprecationWarning\n",
    "warnings.filterwarnings(\"ignore\", category=DeprecationWarning)\n",
    "warnings.filterwarnings(\"ignore\", category=UserWarning)\n",
    "\n",
    "score['Ensemb3'] = cv_rmse(ensemb3_model, X=X)\n",
    "\n",
    "(score['Ensemb3'].mean(), score['Ensemb3'].std())"
   ]
  },
  {
   "cell_type": "code",
   "execution_count": 125,
   "metadata": {},
   "outputs": [
    {
     "name": "stdout",
     "output_type": "stream",
     "text": [
      "----------------------------------------------------------------------------------\n",
      "---------------------------------MODELO Ensemb3------------------------------------\n",
      "----------------------------------------------------------------------------------\n",
      "\n",
      "PREDICCION DATOS\n",
      "Para datos Train:----------------------------> 0.07188030004501343 sg\n",
      "Para datos Test:-----------------------------> 0.07136400103569031 sg\n",
      "\n",
      "PREDICCION + SCORING DATOS\n",
      "Para datos Train:----------------------------> 0.07246153235435486 sg\n",
      "Para datos Test:-----------------------------> nan sg\n"
     ]
    }
   ],
   "source": [
    "timer.update(resumenModelo(ensemb3_model, 'Ensemb3', flag=False))"
   ]
  },
  {
   "cell_type": "markdown",
   "metadata": {},
   "source": [
    "## Ensemble model 4"
   ]
  },
  {
   "cell_type": "markdown",
   "metadata": {},
   "source": [
    "Se prueban los siguientes estimadores."
   ]
  },
  {
   "cell_type": "code",
   "execution_count": 126,
   "metadata": {},
   "outputs": [],
   "source": [
    "ens4 = [(\"Lasso\", lasso_model.best_estimator_), \n",
    "        (\"Ridge\", ridge_model.best_estimator_), \n",
    "        (\"Elasticnet\", elasticnet_model.best_estimator_),\n",
    "        (\"SVRL\", SVRL_model.best_estimator_),\n",
    "        (\"Gbm\", gbm_model.best_estimator_)]"
   ]
  },
  {
   "cell_type": "markdown",
   "metadata": {},
   "source": [
    "Los pesos a asignar en este modelo son los que a continuación se definen."
   ]
  },
  {
   "cell_type": "code",
   "execution_count": 127,
   "metadata": {},
   "outputs": [],
   "source": [
    "weights4 = [0.2, 0.2, 0.2, 0.2, 0.2]"
   ]
  },
  {
   "cell_type": "code",
   "execution_count": 128,
   "metadata": {},
   "outputs": [],
   "source": [
    "ensemb4 = VotingRegressor(ens4, weights4, n_jobs=-1)"
   ]
  },
  {
   "cell_type": "code",
   "execution_count": 129,
   "metadata": {},
   "outputs": [],
   "source": [
    "ensemb4_model = ensemb4.fit(X, y)"
   ]
  },
  {
   "cell_type": "code",
   "execution_count": 130,
   "metadata": {},
   "outputs": [
    {
     "data": {
      "text/plain": [
       "(0.1081537143272088, 0.00854808169894644)"
      ]
     },
     "execution_count": 130,
     "metadata": {},
     "output_type": "execute_result"
    }
   ],
   "source": [
    "# Borra alertas DeprecationWarning\n",
    "warnings.filterwarnings(\"ignore\", category=DeprecationWarning)\n",
    "warnings.filterwarnings(\"ignore\", category=UserWarning)\n",
    "\n",
    "score['Ensemb4'] = cv_rmse(ensemb4_model, X=X)\n",
    "\n",
    "(score['Ensemb4'].mean(), score['Ensemb4'].std())"
   ]
  },
  {
   "cell_type": "code",
   "execution_count": 131,
   "metadata": {},
   "outputs": [
    {
     "name": "stdout",
     "output_type": "stream",
     "text": [
      "----------------------------------------------------------------------------------\n",
      "---------------------------------MODELO Ensemb4------------------------------------\n",
      "----------------------------------------------------------------------------------\n",
      "\n",
      "PREDICCION DATOS\n",
      "Para datos Train:----------------------------> 0.1316395330429077 sg\n",
      "Para datos Test:-----------------------------> 0.12948820114135742 sg\n",
      "\n",
      "PREDICCION + SCORING DATOS\n",
      "Para datos Train:----------------------------> 0.13174137711524964 sg\n",
      "Para datos Test:-----------------------------> nan sg\n"
     ]
    }
   ],
   "source": [
    "timer.update(resumenModelo(ensemb4_model, 'Ensemb4', flag=False))"
   ]
  },
  {
   "cell_type": "markdown",
   "metadata": {},
   "source": [
    "# Stacking models"
   ]
  },
  {
   "cell_type": "markdown",
   "metadata": {},
   "source": [
    "## Stack Model 1"
   ]
  },
  {
   "cell_type": "markdown",
   "metadata": {},
   "source": [
    "Se prueban los siguientes estimadores."
   ]
  },
  {
   "cell_type": "code",
   "execution_count": 132,
   "metadata": {},
   "outputs": [],
   "source": [
    "stack_reg1= [lasso_model.best_estimator_, ridge_model.best_estimator_, SVRL_model.best_estimator_]"
   ]
  },
  {
   "cell_type": "code",
   "execution_count": 133,
   "metadata": {},
   "outputs": [],
   "source": [
    "stack1 = StackingCVRegressor(regressors=stack_reg1, \n",
    "                   meta_regressor=RANSAC_model.best_estimator_, random_state=12345, n_jobs=-1, cv=10)"
   ]
  },
  {
   "cell_type": "code",
   "execution_count": 134,
   "metadata": {},
   "outputs": [],
   "source": [
    "stack1_model = stack1.fit(X, y)"
   ]
  },
  {
   "cell_type": "code",
   "execution_count": 135,
   "metadata": {},
   "outputs": [
    {
     "data": {
      "text/plain": [
       "(0.11056296008772071, 0.008317071989169245)"
      ]
     },
     "execution_count": 135,
     "metadata": {},
     "output_type": "execute_result"
    }
   ],
   "source": [
    "# Borra alertas DeprecationWarning\n",
    "warnings.filterwarnings(\"ignore\", category=DeprecationWarning)\n",
    "warnings.filterwarnings(\"ignore\", category=UserWarning)\n",
    "\n",
    "score['Stack1'] = cv_rmse(stack1_model, X=X)\n",
    "\n",
    "(score['Stack1'].mean(), score['Stack1'].std())"
   ]
  },
  {
   "cell_type": "code",
   "execution_count": 156,
   "metadata": {},
   "outputs": [
    {
     "name": "stdout",
     "output_type": "stream",
     "text": [
      "----------------------------------------------------------------------------------\n",
      "---------------------------------MODELO Stack1------------------------------------\n",
      "----------------------------------------------------------------------------------\n",
      "\n",
      "PREDICCION DATOS\n",
      "Para datos Train:----------------------------> 0.0695607316493988 sg\n",
      "Para datos Test:-----------------------------> 0.06945179700851441 sg\n",
      "\n",
      "PREDICCION + SCORING DATOS\n",
      "Para datos Train:----------------------------> 0.07031692266464233 sg\n",
      "Para datos Test:-----------------------------> nan sg\n"
     ]
    }
   ],
   "source": [
    "timer.update(resumenModelo(stack1_model, 'Stack1', flag=False))"
   ]
  },
  {
   "cell_type": "markdown",
   "metadata": {},
   "source": [
    "## Stack Model 2"
   ]
  },
  {
   "cell_type": "markdown",
   "metadata": {},
   "source": [
    "Se prueban los siguientes estimadores."
   ]
  },
  {
   "cell_type": "code",
   "execution_count": 137,
   "metadata": {},
   "outputs": [],
   "source": [
    "stack_reg2= [ridge_model.best_estimator_, SVRL_model.best_estimator_]"
   ]
  },
  {
   "cell_type": "code",
   "execution_count": 138,
   "metadata": {},
   "outputs": [],
   "source": [
    "stack2 = StackingCVRegressor(regressors=stack_reg2, \n",
    "                   meta_regressor=lasso_model.best_estimator_, random_state=12345, n_jobs=-1, cv=10)"
   ]
  },
  {
   "cell_type": "code",
   "execution_count": 139,
   "metadata": {},
   "outputs": [],
   "source": [
    "stack2_model = stack2.fit(X, y)"
   ]
  },
  {
   "cell_type": "code",
   "execution_count": 140,
   "metadata": {},
   "outputs": [
    {
     "data": {
      "text/plain": [
       "(0.10932430151115097, 0.007953026314260831)"
      ]
     },
     "execution_count": 140,
     "metadata": {},
     "output_type": "execute_result"
    }
   ],
   "source": [
    "# Borra alertas DeprecationWarning\n",
    "warnings.filterwarnings(\"ignore\", category=DeprecationWarning)\n",
    "warnings.filterwarnings(\"ignore\", category=UserWarning)\n",
    "\n",
    "score['Stack2'] = cv_rmse(stack2_model, X=X)\n",
    "\n",
    "(score['Stack2'].mean(), score['Stack2'].std())"
   ]
  },
  {
   "cell_type": "code",
   "execution_count": 141,
   "metadata": {},
   "outputs": [
    {
     "name": "stdout",
     "output_type": "stream",
     "text": [
      "----------------------------------------------------------------------------------\n",
      "---------------------------------MODELO Stack2------------------------------------\n",
      "----------------------------------------------------------------------------------\n",
      "\n",
      "PREDICCION DATOS\n",
      "Para datos Train:----------------------------> 0.06658774852752686 sg\n",
      "Para datos Test:-----------------------------> 0.06606146693229675 sg\n",
      "\n",
      "PREDICCION + SCORING DATOS\n",
      "Para datos Train:----------------------------> 0.06702492356300355 sg\n",
      "Para datos Test:-----------------------------> nan sg\n"
     ]
    }
   ],
   "source": [
    "timer.update(resumenModelo(stack2_model, 'Stack2', flag=False))"
   ]
  },
  {
   "cell_type": "markdown",
   "metadata": {},
   "source": [
    "## Stack Model 3"
   ]
  },
  {
   "cell_type": "markdown",
   "metadata": {},
   "source": [
    "Se prueban los siguientes estimadores."
   ]
  },
  {
   "cell_type": "code",
   "execution_count": 142,
   "metadata": {},
   "outputs": [],
   "source": [
    "stack_reg3= [ridge_model.best_estimator_, SVRL_model.best_estimator_, elasticnet_model.best_estimator_]"
   ]
  },
  {
   "cell_type": "code",
   "execution_count": 143,
   "metadata": {},
   "outputs": [],
   "source": [
    "stack3 = StackingCVRegressor(regressors=stack_reg3, \n",
    "                   meta_regressor=lasso_model.best_estimator_, random_state=12345, n_jobs=-1, cv=10)"
   ]
  },
  {
   "cell_type": "code",
   "execution_count": 144,
   "metadata": {},
   "outputs": [],
   "source": [
    "stack3_model = stack3.fit(X, y)"
   ]
  },
  {
   "cell_type": "code",
   "execution_count": 145,
   "metadata": {},
   "outputs": [
    {
     "data": {
      "text/plain": [
       "(0.10933503510263973, 0.007942740913912541)"
      ]
     },
     "execution_count": 145,
     "metadata": {},
     "output_type": "execute_result"
    }
   ],
   "source": [
    "# Borra alertas DeprecationWarning\n",
    "warnings.filterwarnings(\"ignore\", category=DeprecationWarning)\n",
    "warnings.filterwarnings(\"ignore\", category=UserWarning)\n",
    "\n",
    "score['Stack3'] = cv_rmse(stack3_model, X=X)\n",
    "\n",
    "(score['Stack3'].mean(), score['Stack3'].std())"
   ]
  },
  {
   "cell_type": "code",
   "execution_count": 157,
   "metadata": {},
   "outputs": [
    {
     "name": "stdout",
     "output_type": "stream",
     "text": [
      "----------------------------------------------------------------------------------\n",
      "---------------------------------MODELO Stack3------------------------------------\n",
      "----------------------------------------------------------------------------------\n",
      "\n",
      "PREDICCION DATOS\n",
      "Para datos Train:----------------------------> 0.06949684381484986 sg\n",
      "Para datos Test:-----------------------------> 0.06945491433143616 sg\n",
      "\n",
      "PREDICCION + SCORING DATOS\n",
      "Para datos Train:----------------------------> 0.07034722566604615 sg\n",
      "Para datos Test:-----------------------------> nan sg\n"
     ]
    }
   ],
   "source": [
    "timer.update(resumenModelo(stack3_model, 'Stack3', flag=False))"
   ]
  },
  {
   "cell_type": "markdown",
   "metadata": {},
   "source": [
    "## Stack Model 4"
   ]
  },
  {
   "cell_type": "markdown",
   "metadata": {},
   "source": [
    "Se prueban los siguientes estimadores."
   ]
  },
  {
   "cell_type": "code",
   "execution_count": 147,
   "metadata": {},
   "outputs": [],
   "source": [
    "stack_reg4= [ridge_model.best_estimator_, SVRL_model.best_estimator_, elasticnet_model.best_estimator_,\n",
    "            lasso_model.best_estimator_]"
   ]
  },
  {
   "cell_type": "code",
   "execution_count": 148,
   "metadata": {},
   "outputs": [],
   "source": [
    "stack4 = StackingCVRegressor(regressors=stack_reg4, \n",
    "                   meta_regressor=gbm_model.best_estimator_, random_state=12345, n_jobs=-1, cv=10)"
   ]
  },
  {
   "cell_type": "code",
   "execution_count": 149,
   "metadata": {},
   "outputs": [],
   "source": [
    "stack4_model = stack4.fit(X, y)"
   ]
  },
  {
   "cell_type": "code",
   "execution_count": 150,
   "metadata": {},
   "outputs": [
    {
     "data": {
      "text/plain": [
       "(0.11839905333228437, 0.008429840137441245)"
      ]
     },
     "execution_count": 150,
     "metadata": {},
     "output_type": "execute_result"
    }
   ],
   "source": [
    "# Borra alertas DeprecationWarning\n",
    "warnings.filterwarnings(\"ignore\", category=DeprecationWarning)\n",
    "warnings.filterwarnings(\"ignore\", category=UserWarning)\n",
    "\n",
    "score['Stack4'] = cv_rmse(stack4_model, X=X)\n",
    "\n",
    "(score['Stack4'].mean(), score['Stack4'].std())"
   ]
  },
  {
   "cell_type": "code",
   "execution_count": 155,
   "metadata": {},
   "outputs": [
    {
     "name": "stdout",
     "output_type": "stream",
     "text": [
      "----------------------------------------------------------------------------------\n",
      "---------------------------------MODELO Stack4------------------------------------\n",
      "----------------------------------------------------------------------------------\n",
      "\n",
      "PREDICCION DATOS\n",
      "Para datos Train:----------------------------> 0.11389795660972596 sg\n",
      "Para datos Test:-----------------------------> 0.11931573748588561 sg\n",
      "\n",
      "PREDICCION + SCORING DATOS\n",
      "Para datos Train:----------------------------> 0.12329283475875855 sg\n",
      "Para datos Test:-----------------------------> nan sg\n"
     ]
    }
   ],
   "source": [
    "timer.update(resumenModelo(stack4_model, 'Stack4', flag=False))"
   ]
  },
  {
   "cell_type": "markdown",
   "metadata": {},
   "source": [
    "# BoxPlots"
   ]
  },
  {
   "cell_type": "code",
   "execution_count": 152,
   "metadata": {
    "scrolled": false
   },
   "outputs": [],
   "source": [
    "#score.pop('lr'), score.pop('hub')\n",
    "#score"
   ]
  },
  {
   "cell_type": "code",
   "execution_count": 158,
   "metadata": {},
   "outputs": [],
   "source": [
    "rank= pd.DataFrame(score).mean().sort_values().index\n",
    "dfBox = pd.DataFrame(score, columns=rank)"
   ]
  },
  {
   "cell_type": "code",
   "execution_count": 159,
   "metadata": {},
   "outputs": [
    {
     "data": {
      "image/png": "[encoded data removed]",
      "text/plain": [
       "<Figure size 1440x576 with 1 Axes>"
      ]
     },
     "metadata": {},
     "output_type": "display_data"
    }
   ],
   "source": [
    "dfBox.plot(kind=\"box\", figsize=(20,8), ylim =(0,0.3));"
   ]
  },
  {
   "cell_type": "code",
   "execution_count": 160,
   "metadata": {},
   "outputs": [
    {
     "data": {
      "image/png": "[encoded data removed]",
      "text/plain": [
       "<Figure size 1440x576 with 1 Axes>"
      ]
     },
     "metadata": {},
     "output_type": "display_data"
    }
   ],
   "source": [
    "dfBox.iloc[:, :10].plot(kind=\"box\", figsize=(20,8), ylim =(0,0.2));"
   ]
  },
  {
   "cell_type": "markdown",
   "metadata": {},
   "source": [
    "# Guardado de variables"
   ]
  },
  {
   "cell_type": "code",
   "execution_count": 161,
   "metadata": {},
   "outputs": [],
   "source": [
    "for key in score.keys():\n",
    "    score[key] = list(score[key])\n",
    "\n",
    "with open('score_timer_datos59.json', 'w') as file:\n",
    "    json.dump([score, timer], file, indent=4)"
   ]
  },
  {
   "cell_type": "code",
   "execution_count": null,
   "metadata": {},
   "outputs": [],
   "source": []
  }
 ],
 "metadata": {
  "@webio": {
   "lastCommId": null,
   "lastKernelId": null
  },
  "kernelspec": {
   "display_name": "Python 3",
   "language": "python",
   "name": "python3"
  },
  "language_info": {
   "codemirror_mode": {
    "name": "ipython",
    "version": 3
   },
   "file_extension": ".py",
   "mimetype": "text/x-python",
   "name": "python",
   "nbconvert_exporter": "python",
   "pygments_lexer": "ipython3",
   "version": "3.7.1"
  },
  "toc": {
   "base_numbering": 1,
   "nav_menu": {},
   "number_sections": true,
   "sideBar": true,
   "skip_h1_title": false,
   "title_cell": "ANEXO V_a. Machine Learning Google CLOUD (dataset \"embedded\")",
   "title_sidebar": "ANEXO V_a. Machine Learning Google CLOUD (dataset \"embedded\")",
   "toc_cell": true,
   "toc_position": {
    "height": "calc(100% - 180px)",
    "left": "10px",
    "top": "150px",
    "width": "200.2px"
   },
   "toc_section_display": true,
   "toc_window_display": true
  },
  "varInspector": {
   "cols": {
    "lenName": 16,
    "lenType": 16,
    "lenVar": 40
   },
   "kernels_config": {
    "python": {
     "delete_cmd_postfix": "",
     "delete_cmd_prefix": "del ",
     "library": "var_list.py",
     "varRefreshCmd": "print(var_dic_list())"
    },
    "r": {
     "delete_cmd_postfix": ") ",
     "delete_cmd_prefix": "rm(",
     "library": "var_list.r",
     "varRefreshCmd": "cat(var_dic_list()) "
    }
   },
   "types_to_exclude": [
    "module",
    "function",
    "builtin_function_or_method",
    "instance",
    "_Feature"
   ],
   "window_display": false
  }
 },
 "nbformat": 4,
 "nbformat_minor": 2
}
