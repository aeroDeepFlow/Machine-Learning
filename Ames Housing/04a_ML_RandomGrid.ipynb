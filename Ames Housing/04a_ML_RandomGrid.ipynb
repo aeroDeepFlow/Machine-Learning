{
 "cells": [
  {
   "cell_type": "markdown",
   "metadata": {
    "toc": true
   },
   "source": [
    "<h1>ANEXO IV_a. Machine Learning (dataset \"embedded\")<span class=\"tocSkip\"></span></h1>\n",
    "<div class=\"toc\"><ul class=\"toc-item\"><li><span><a href=\"#Carga-de-módulos-y-dataset\" data-toc-modified-id=\"Carga-de-módulos-y-dataset-1\"><span class=\"toc-item-num\">1&nbsp;&nbsp;</span>Carga de módulos y dataset</a></span></li><li><span><a href=\"#Carga-Librerías\" data-toc-modified-id=\"Carga-Librerías-2\"><span class=\"toc-item-num\">2&nbsp;&nbsp;</span>Carga Librerías</a></span></li><li><span><a href=\"#Carga-datos-Train-y-Test-Depurados\" data-toc-modified-id=\"Carga-datos-Train-y-Test-Depurados-3\"><span class=\"toc-item-num\">3&nbsp;&nbsp;</span>Carga datos Train y Test Depurados</a></span></li><li><span><a href=\"#Definición-de-funciones-helper\" data-toc-modified-id=\"Definición-de-funciones-helper-4\"><span class=\"toc-item-num\">4&nbsp;&nbsp;</span>Definición de funciones helper</a></span></li><li><span><a href=\"#Modelos-Lineales\" data-toc-modified-id=\"Modelos-Lineales-5\"><span class=\"toc-item-num\">5&nbsp;&nbsp;</span>Modelos Lineales</a></span><ul class=\"toc-item\"><li><span><a href=\"#Linear-Regresion-Simple\" data-toc-modified-id=\"Linear-Regresion-Simple-5.1\"><span class=\"toc-item-num\">5.1&nbsp;&nbsp;</span>Linear Regresion Simple</a></span></li><li><span><a href=\"#RANSAC-Regressor\" data-toc-modified-id=\"RANSAC-Regressor-5.2\"><span class=\"toc-item-num\">5.2&nbsp;&nbsp;</span>RANSAC Regressor</a></span></li><li><span><a href=\"#SGD-Regressor\" data-toc-modified-id=\"SGD-Regressor-5.3\"><span class=\"toc-item-num\">5.3&nbsp;&nbsp;</span>SGD Regressor</a></span></li><li><span><a href=\"#Ridge-Regression\" data-toc-modified-id=\"Ridge-Regression-5.4\"><span class=\"toc-item-num\">5.4&nbsp;&nbsp;</span>Ridge Regression</a></span></li><li><span><a href=\"#Lasso-Regression\" data-toc-modified-id=\"Lasso-Regression-5.5\"><span class=\"toc-item-num\">5.5&nbsp;&nbsp;</span>Lasso Regression</a></span></li><li><span><a href=\"#ElasticNet-Regression\" data-toc-modified-id=\"ElasticNet-Regression-5.6\"><span class=\"toc-item-num\">5.6&nbsp;&nbsp;</span>ElasticNet Regression</a></span></li><li><span><a href=\"#LarsCV\" data-toc-modified-id=\"LarsCV-5.7\"><span class=\"toc-item-num\">5.7&nbsp;&nbsp;</span>LarsCV</a></span></li><li><span><a href=\"#Huber-Regressor\" data-toc-modified-id=\"Huber-Regressor-5.8\"><span class=\"toc-item-num\">5.8&nbsp;&nbsp;</span>Huber Regressor</a></span></li></ul></li><li><span><a href=\"#Modelos-basados-en-Árboles\" data-toc-modified-id=\"Modelos-basados-en-Árboles-6\"><span class=\"toc-item-num\">6&nbsp;&nbsp;</span>Modelos basados en Árboles</a></span><ul class=\"toc-item\"><li><span><a href=\"#Random-Forest-Regressor\" data-toc-modified-id=\"Random-Forest-Regressor-6.1\"><span class=\"toc-item-num\">6.1&nbsp;&nbsp;</span>Random Forest Regressor</a></span></li><li><span><a href=\"#Extratrees-Regressor\" data-toc-modified-id=\"Extratrees-Regressor-6.2\"><span class=\"toc-item-num\">6.2&nbsp;&nbsp;</span>Extratrees Regressor</a></span></li><li><span><a href=\"#Gradient-Boosting-Regressor\" data-toc-modified-id=\"Gradient-Boosting-Regressor-6.3\"><span class=\"toc-item-num\">6.3&nbsp;&nbsp;</span>Gradient Boosting Regressor</a></span></li><li><span><a href=\"#LightGBM-Regressor\" data-toc-modified-id=\"LightGBM-Regressor-6.4\"><span class=\"toc-item-num\">6.4&nbsp;&nbsp;</span>LightGBM Regressor</a></span></li><li><span><a href=\"#XGBoost-Regressor\" data-toc-modified-id=\"XGBoost-Regressor-6.5\"><span class=\"toc-item-num\">6.5&nbsp;&nbsp;</span>XGBoost Regressor</a></span></li></ul></li><li><span><a href=\"#Support-Vector-Regressor\" data-toc-modified-id=\"Support-Vector-Regressor-7\"><span class=\"toc-item-num\">7&nbsp;&nbsp;</span>Support Vector Regressor</a></span><ul class=\"toc-item\"><li><span><a href=\"#Kernell-Lineal\" data-toc-modified-id=\"Kernell-Lineal-7.1\"><span class=\"toc-item-num\">7.1&nbsp;&nbsp;</span>Kernell Lineal</a></span></li><li><span><a href=\"#Kernell-Polinómico\" data-toc-modified-id=\"Kernell-Polinómico-7.2\"><span class=\"toc-item-num\">7.2&nbsp;&nbsp;</span>Kernell Polinómico</a></span></li><li><span><a href=\"#Kernel-Radial\" data-toc-modified-id=\"Kernel-Radial-7.3\"><span class=\"toc-item-num\">7.3&nbsp;&nbsp;</span>Kernel Radial</a></span></li></ul></li><li><span><a href=\"#Redes-Neuronales\" data-toc-modified-id=\"Redes-Neuronales-8\"><span class=\"toc-item-num\">8&nbsp;&nbsp;</span>Redes Neuronales</a></span></li><li><span><a href=\"#Ensembles-models\" data-toc-modified-id=\"Ensembles-models-9\"><span class=\"toc-item-num\">9&nbsp;&nbsp;</span>Ensembles models</a></span><ul class=\"toc-item\"><li><span><a href=\"#Ensemble-model-1\" data-toc-modified-id=\"Ensemble-model-1-9.1\"><span class=\"toc-item-num\">9.1&nbsp;&nbsp;</span>Ensemble model 1</a></span></li><li><span><a href=\"#Ensemble-model-2\" data-toc-modified-id=\"Ensemble-model-2-9.2\"><span class=\"toc-item-num\">9.2&nbsp;&nbsp;</span>Ensemble model 2</a></span></li><li><span><a href=\"#Ensemble-model-3\" data-toc-modified-id=\"Ensemble-model-3-9.3\"><span class=\"toc-item-num\">9.3&nbsp;&nbsp;</span>Ensemble model 3</a></span></li><li><span><a href=\"#Ensemble-model-4\" data-toc-modified-id=\"Ensemble-model-4-9.4\"><span class=\"toc-item-num\">9.4&nbsp;&nbsp;</span>Ensemble model 4</a></span></li></ul></li><li><span><a href=\"#Stacking-models\" data-toc-modified-id=\"Stacking-models-10\"><span class=\"toc-item-num\">10&nbsp;&nbsp;</span>Stacking models</a></span><ul class=\"toc-item\"><li><span><a href=\"#Stack-Model-1\" data-toc-modified-id=\"Stack-Model-1-10.1\"><span class=\"toc-item-num\">10.1&nbsp;&nbsp;</span>Stack Model 1</a></span></li><li><span><a href=\"#Stack-Model-2\" data-toc-modified-id=\"Stack-Model-2-10.2\"><span class=\"toc-item-num\">10.2&nbsp;&nbsp;</span>Stack Model 2</a></span></li><li><span><a href=\"#Stack-Model-3\" data-toc-modified-id=\"Stack-Model-3-10.3\"><span class=\"toc-item-num\">10.3&nbsp;&nbsp;</span>Stack Model 3</a></span></li><li><span><a href=\"#Stack-Model-4\" data-toc-modified-id=\"Stack-Model-4-10.4\"><span class=\"toc-item-num\">10.4&nbsp;&nbsp;</span>Stack Model 4</a></span></li></ul></li><li><span><a href=\"#BoxPlots\" data-toc-modified-id=\"BoxPlots-11\"><span class=\"toc-item-num\">11&nbsp;&nbsp;</span>BoxPlots</a></span></li><li><span><a href=\"#Guardado-de-variables\" data-toc-modified-id=\"Guardado-de-variables-12\"><span class=\"toc-item-num\">12&nbsp;&nbsp;</span>Guardado de variables</a></span></li></ul></div>"
   ]
  },
  {
   "cell_type": "markdown",
   "metadata": {},
   "source": [
    "* *******"
   ]
  },
  {
   "cell_type": "markdown",
   "metadata": {},
   "source": [
    "En este Anexo, se llevan a cabo los algoritmos siguientes de Machine Learning con el set de datos obtenido como resultado de aplicar técnicas de selección de variables del Anexo 3, usando los **métodos embedded** "
   ]
  },
  {
   "cell_type": "markdown",
   "metadata": {},
   "source": [
    "* *******"
   ]
  },
  {
   "cell_type": "markdown",
   "metadata": {},
   "source": [
    "# Carga de módulos y dataset"
   ]
  },
  {
   "cell_type": "markdown",
   "metadata": {},
   "source": [
    "Se muestran a continuación las versiones tanto del OS usado así como de Python usados en el presente notebook."
   ]
  },
  {
   "cell_type": "code",
   "execution_count": 1,
   "metadata": {
    "scrolled": true
   },
   "outputs": [
    {
     "name": "stderr",
     "output_type": "stream",
     "text": [
      "\"lsb_release\" no se reconoce como un comando interno o externo,\n",
      "programa o archivo por lotes ejecutable.\n"
     ]
    }
   ],
   "source": [
    "!lsb_release -a"
   ]
  },
  {
   "cell_type": "code",
   "execution_count": 2,
   "metadata": {},
   "outputs": [
    {
     "name": "stdout",
     "output_type": "stream",
     "text": [
      "2.10.0(0.325/5/3)\n"
     ]
    }
   ],
   "source": [
    "!uname -r"
   ]
  },
  {
   "cell_type": "code",
   "execution_count": 3,
   "metadata": {},
   "outputs": [
    {
     "name": "stdout",
     "output_type": "stream",
     "text": [
      "Python version: 3.6.8 |Anaconda, Inc.| (default, Feb 21 2019, 18:30:04) [MSC v.1916 64 bit (AMD64)]\n"
     ]
    }
   ],
   "source": [
    "import os\n",
    "import sys\n",
    "print(\"Python version: {}\". format(sys.version))"
   ]
  },
  {
   "cell_type": "markdown",
   "metadata": {},
   "source": [
    "# Carga Librerías"
   ]
  },
  {
   "cell_type": "code",
   "execution_count": 161,
   "metadata": {},
   "outputs": [],
   "source": [
    "import numpy as np\n",
    "import pandas as pd\n",
    "import matplotlib\n",
    "import matplotlib.pyplot as plt\n",
    "import seaborn as sns\n",
    "import sklearn\n",
    "import xgboost\n",
    "import lightgbm\n",
    "import mlxtend\n",
    "\n",
    "import warnings\n",
    "import time\n",
    "import json"
   ]
  },
  {
   "cell_type": "code",
   "execution_count": 76,
   "metadata": {},
   "outputs": [],
   "source": [
    "from sklearn.model_selection import RepeatedKFold, cross_val_score, RandomizedSearchCV\n",
    "from sklearn.metrics import mean_squared_error\n",
    "from sklearn.linear_model import LinearRegression, Lasso, Ridge, ElasticNet, LarsCV, HuberRegressor,\\\n",
    "            RANSACRegressor, SGDRegressor\n",
    "\n",
    "from sklearn.ensemble import RandomForestRegressor, ExtraTreesRegressor, GradientBoostingRegressor,\\\n",
    "            VotingRegressor\n",
    "\n",
    "from sklearn.svm import SVR\n",
    "\n",
    "from sklearn.neural_network import MLPRegressor\n",
    "\n",
    "from xgboost import XGBRegressor\n",
    "from lightgbm import LGBMRegressor\n",
    "\n",
    "from mlxtend.regressor import StackingCVRegressor"
   ]
  },
  {
   "cell_type": "code",
   "execution_count": 4,
   "metadata": {},
   "outputs": [
    {
     "name": "stdout",
     "output_type": "stream",
     "text": [
      "Versiones usadas en el notebook\n",
      "Numpy 1.16.4.\n",
      "Pandas 0.24.2.\n",
      "Matplotlib 3.1.0.\n",
      "Seaborn 0.9.0.\n",
      "Sklearn 0.21.2.\n",
      "XGBoost 0.90.\n",
      "LIGHTGbm 2.2.3.\n",
      "MLXtend 0.17.0.\n"
     ]
    }
   ],
   "source": [
    "# Se muestran versiones usadas\n",
    "print(\"Versiones usadas en el notebook\")\n",
    "print('Numpy {}.'.format(np.__version__))\n",
    "print('Pandas {}.'.format(pd.__version__))\n",
    "print('Matplotlib {}.'.format(matplotlib.__version__))\n",
    "print('Seaborn {}.'.format(sns.__version__))\n",
    "print('Sklearn {}.'.format(sklearn.__version__))\n",
    "print('XGBoost {}.'.format(xgboost.__version__))\n",
    "print('LIGHTGbm {}.'.format(lightgbm.__version__))\n",
    "print('MLXtend {}.'.format(mlxtend.__version__))"
   ]
  },
  {
   "cell_type": "markdown",
   "metadata": {},
   "source": [
    "# Carga datos Train y Test Depurados"
   ]
  },
  {
   "cell_type": "code",
   "execution_count": 5,
   "metadata": {},
   "outputs": [],
   "source": [
    "train_prep = pd.read_csv('X_train_embedd.csv', sep = ',')\n",
    "test_prep = pd.read_csv('X_test_embedd.csv', sep = ',')"
   ]
  },
  {
   "cell_type": "code",
   "execution_count": 6,
   "metadata": {},
   "outputs": [],
   "source": [
    "y = train_prep.SalePrice.copy()\n",
    "\n",
    "#y = np.log1p(train_prep.SalePrice.copy()) #log(1 + x) // np.expm1()\n",
    "X = train_prep.drop(\"SalePrice\", axis=1).copy()\n",
    "\n",
    "train_prep['SalePrice'] = y.values.copy()"
   ]
  },
  {
   "cell_type": "markdown",
   "metadata": {},
   "source": [
    "# Definición de funciones helper"
   ]
  },
  {
   "cell_type": "code",
   "execution_count": 7,
   "metadata": {},
   "outputs": [],
   "source": [
    "score = {}\n",
    "timer = {}"
   ]
  },
  {
   "cell_type": "code",
   "execution_count": 8,
   "metadata": {},
   "outputs": [],
   "source": [
    "N_iter = 100\n",
    "\n",
    "n_splits = 5\n",
    "n_repeats = 10\n",
    "\n",
    "kfolds = RepeatedKFold(n_splits = n_splits, n_repeats = n_repeats, random_state=12345)\n",
    "\n",
    "# model scoring and validation function\n",
    "def cv_rmse(model, X=X):\n",
    "    rmse = np.sqrt(-cross_val_score(model, X, y, scoring=\"neg_mean_squared_error\",cv=kfolds, n_jobs=-1))\n",
    "    return rmse\n",
    "\n",
    "# rmsle scoring function\n",
    "def rmsle(y, y_pred):\n",
    "    return np.sqrt(mean_squared_error(y, y_pred))\n",
    "\n",
    "# función que calcula el tiempo medio de predicción del modelo\n",
    "def timePredict(model, X, n=N_iter):\n",
    "    tm = []\n",
    "    for i in range(n):\n",
    "        ini = time.time()\n",
    "        model.predict(X)\n",
    "        tm.append(time.time()-ini)\n",
    "    return sum(tm)/n\n",
    "\n",
    "# función que calcula el tiempo medio de predicción + scoring del modelo\n",
    "def timePredictScoring(model, X, y_pred = y, n=N_iter):\n",
    "    tmP = []\n",
    "    for i in range(n):\n",
    "        ini = time.time()\n",
    "        rmsle(model.predict(X), y_pred)\n",
    "        tmP.append(time.time()-ini)\n",
    "    return sum(tmP)/n\n",
    "\n",
    "# Función resumen tiempos\n",
    "def resumenModelo(model, model_name, train=X, test=test_prep, y_pred=y, n=N_iter, timer=timer, flag=True):\n",
    "    \n",
    "\n",
    "    mean_predict_train_time = timePredict(model, train, n)\n",
    "    mean_predict_test_time = timePredict(model, test, n)\n",
    "    mean_pred_score_train_time = timePredictScoring(model, train, y_pred, n)\n",
    "    mean_pred_score_test_time = np.nan\n",
    "    \n",
    "    \n",
    "    print(\"----------------------------------------------------------------------------------\")\n",
    "    print(\"---------------------------------MODELO {}------------------------------------\".format(model_name))\n",
    "    print(\"----------------------------------------------------------------------------------\\n\")\n",
    "    if flag:\n",
    "        best_params = model.best_params_    \n",
    "        mean_fit_time = model.cv_results_['mean_fit_time'].mean()\n",
    "        mean_score_time = model.cv_results_['mean_score_time'].mean()\n",
    "        refit_model = model.refit_time_\n",
    "        \n",
    "        print(\"TUNEADO\")\n",
    "        print(\"Mejor modelo (PARAMETROS):-------------------> {}\".format(best_params)) \n",
    "        print(\"Tiempo medio de TRAINING---------------------> {} sg\".format(mean_fit_time))\n",
    "        print(\"Tiempo medio de SCORING----------------------> {} sg\".format(mean_score_time))\n",
    "        print(\"Tiempo medio de TRAINING mejor modelo--------> {} sg\\n\".format(refit_model))\n",
    "    \n",
    "    print(\"PREDICCION DATOS\")\n",
    "    print(\"Para datos Train:----------------------------> {} sg\".format(mean_predict_train_time))\n",
    "    print(\"Para datos Test:-----------------------------> {} sg\\n\".format(mean_predict_test_time))\n",
    "    print(\"PREDICCION + SCORING DATOS\")    \n",
    "    print(\"Para datos Train:----------------------------> {} sg\".format(mean_pred_score_train_time))\n",
    "    print(\"Para datos Test:-----------------------------> {} sg\".format(mean_pred_score_test_time))\n",
    "    \n",
    "    if flag:\n",
    "        return {model_name: {\"mean_fit_time\": mean_fit_time, \n",
    "                             \"mean_score_time\": mean_score_time,\n",
    "                             \"refit_best_model\": refit_model,\n",
    "                             \"mean_predict_train_time\": mean_predict_train_time,\n",
    "                             \"mean_predict_test_time\": mean_predict_test_time,\n",
    "                             \"mean_pred_score_train_time\": mean_pred_score_train_time,\n",
    "                             \"mean_pred_score_test_time\": np.nan}}\n",
    "    else:\n",
    "        return {model_name: {\"mean_fit_time\": np.nan, \n",
    "                             \"mean_score_time\": np.nan,\n",
    "                             \"refit_best_model\": np.nan,\n",
    "                             \"mean_predict_train_time\": mean_predict_train_time,\n",
    "                             \"mean_predict_test_time\": mean_predict_test_time,\n",
    "                             \"mean_pred_score_train_time\": mean_pred_score_train_time,\n",
    "                             \"mean_pred_score_test_time\": np.nan}}"
   ]
  },
  {
   "cell_type": "markdown",
   "metadata": {},
   "source": [
    "# Modelos Lineales"
   ]
  },
  {
   "cell_type": "markdown",
   "metadata": {},
   "source": [
    "## Linear Regresion Simple"
   ]
  },
  {
   "cell_type": "code",
   "execution_count": 9,
   "metadata": {},
   "outputs": [],
   "source": [
    "# Regresión Linear Simple\n",
    "lr = LinearRegression()"
   ]
  },
  {
   "cell_type": "code",
   "execution_count": 10,
   "metadata": {},
   "outputs": [],
   "source": [
    "# Entrenamiento del modelo\n",
    "lr_model = lr.fit(X, y);"
   ]
  },
  {
   "cell_type": "code",
   "execution_count": 11,
   "metadata": {},
   "outputs": [
    {
     "data": {
      "text/plain": [
       "(8661814929.152477, 42435654989.98989)"
      ]
     },
     "execution_count": 11,
     "metadata": {},
     "output_type": "execute_result"
    }
   ],
   "source": [
    "# Elimina warnings DeprecationWarning\n",
    "warnings.filterwarnings(\"ignore\", category=DeprecationWarning)\n",
    "\n",
    "score['lr'] = cv_rmse(lr_model, X=X)\n",
    "\n",
    "(score['lr'].mean(), score['lr'].std())"
   ]
  },
  {
   "cell_type": "code",
   "execution_count": 12,
   "metadata": {},
   "outputs": [
    {
     "name": "stdout",
     "output_type": "stream",
     "text": [
      "----------------------------------------------------------------------------------\n",
      "---------------------------------MODELO lr------------------------------------\n",
      "----------------------------------------------------------------------------------\n",
      "\n",
      "PREDICCION DATOS\n",
      "Para datos Train:----------------------------> 0.0031300091743469236 sg\n",
      "Para datos Test:-----------------------------> 0.0025100111961364746 sg\n",
      "\n",
      "PREDICCION + SCORING DATOS\n",
      "Para datos Train:----------------------------> 0.003150029182434082 sg\n",
      "Para datos Test:-----------------------------> nan sg\n"
     ]
    }
   ],
   "source": [
    "timer.update(resumenModelo(lr_model, 'lr', flag=False))"
   ]
  },
  {
   "cell_type": "markdown",
   "metadata": {},
   "source": [
    "## RANSAC Regressor"
   ]
  },
  {
   "cell_type": "code",
   "execution_count": 13,
   "metadata": {},
   "outputs": [],
   "source": [
    "RANSAC = RANSACRegressor(base_estimator=LinearRegression(), random_state=12345)"
   ]
  },
  {
   "cell_type": "code",
   "execution_count": 14,
   "metadata": {},
   "outputs": [],
   "source": [
    "RANSAC_param = {\"min_samples\": list(range(1, 300, 1))}\n",
    "\n",
    "RANSAC_grid = RandomizedSearchCV(RANSAC,\n",
    "                                 RANSAC_param,\n",
    "                                 iid=False,\n",
    "                                 cv=kfolds,\n",
    "                                 n_jobs=-1,\n",
    "                                 scoring='neg_mean_squared_error',\n",
    "                                 n_iter=N_iter)"
   ]
  },
  {
   "cell_type": "code",
   "execution_count": 15,
   "metadata": {},
   "outputs": [],
   "source": [
    "# Entrenamiento del modelo\n",
    "# Borra alertas DeprecationWarning\n",
    "warnings.filterwarnings(\"ignore\", category=UserWarning)\n",
    "\n",
    "RANSAC_model = RANSAC_grid.fit(X, y);"
   ]
  },
  {
   "cell_type": "code",
   "execution_count": 16,
   "metadata": {},
   "outputs": [
    {
     "data": {
      "text/plain": [
       "RANSACRegressor(base_estimator=LinearRegression(copy_X=True, fit_intercept=True,\n",
       "                                                n_jobs=None, normalize=False),\n",
       "                is_data_valid=None, is_model_valid=None, loss='absolute_loss',\n",
       "                max_skips=inf, max_trials=100, min_samples=26,\n",
       "                random_state=12345, residual_threshold=None, stop_n_inliers=inf,\n",
       "                stop_probability=0.99, stop_score=inf)"
      ]
     },
     "execution_count": 16,
     "metadata": {},
     "output_type": "execute_result"
    }
   ],
   "source": [
    "RANSAC_model.best_estimator_"
   ]
  },
  {
   "cell_type": "code",
   "execution_count": 17,
   "metadata": {},
   "outputs": [
    {
     "data": {
      "text/plain": [
       "(11521887801.762789, 25045843073.54457)"
      ]
     },
     "execution_count": 17,
     "metadata": {},
     "output_type": "execute_result"
    }
   ],
   "source": [
    "# Elimina warnings DeprecationWarning\n",
    "warnings.filterwarnings(\"ignore\", category=DeprecationWarning)\n",
    "\n",
    "score['RANSAC'] = cv_rmse(RANSAC_model.best_estimator_, X=X)\n",
    "\n",
    "(score['RANSAC'].mean(), score['RANSAC'].std())"
   ]
  },
  {
   "cell_type": "code",
   "execution_count": 18,
   "metadata": {},
   "outputs": [
    {
     "name": "stdout",
     "output_type": "stream",
     "text": [
      "----------------------------------------------------------------------------------\n",
      "---------------------------------MODELO RANSAC------------------------------------\n",
      "----------------------------------------------------------------------------------\n",
      "\n",
      "TUNEADO\n",
      "Mejor modelo (PARAMETROS):-------------------> {'min_samples': 26}\n",
      "Tiempo medio de TRAINING---------------------> 0.32331160969734185 sg\n",
      "Tiempo medio de SCORING----------------------> 0.0029985626697540285 sg\n",
      "Tiempo medio de TRAINING mejor modelo--------> 0.05699968338012695 sg\n",
      "\n",
      "PREDICCION DATOS\n",
      "Para datos Train:----------------------------> 0.0018499302864074707 sg\n",
      "Para datos Test:-----------------------------> 0.0010000205039978028 sg\n",
      "\n",
      "PREDICCION + SCORING DATOS\n",
      "Para datos Train:----------------------------> 0.0012698984146118164 sg\n",
      "Para datos Test:-----------------------------> nan sg\n"
     ]
    }
   ],
   "source": [
    "timer.update(resumenModelo(RANSAC_model, 'RANSAC'))"
   ]
  },
  {
   "cell_type": "markdown",
   "metadata": {},
   "source": [
    "## SGD Regressor"
   ]
  },
  {
   "cell_type": "code",
   "execution_count": 19,
   "metadata": {},
   "outputs": [],
   "source": [
    "sgd = SGDRegressor(random_state=12345)"
   ]
  },
  {
   "cell_type": "code",
   "execution_count": 20,
   "metadata": {},
   "outputs": [],
   "source": [
    "sgd_param = {\"penalty\": ['l2', 'l1'],\n",
    "             \"alpha\": np.linspace(0.0001, 10, 15),\n",
    "             \"l1_ratio\": np.linspace(0.001, 1, 15),\n",
    "             \"early_stopping\": [True, False]}\n",
    "\n",
    "sgd_grid = RandomizedSearchCV(sgd,\n",
    "                              sgd_param,\n",
    "                              iid=False,\n",
    "                              cv=kfolds,\n",
    "                              n_jobs=-1,\n",
    "                              n_iter=N_iter)"
   ]
  },
  {
   "cell_type": "code",
   "execution_count": 21,
   "metadata": {},
   "outputs": [],
   "source": [
    "# Entrenamiento del modelo\n",
    "# Borra alertas DeprecationWarning\n",
    "warnings.filterwarnings(\"ignore\", category=UserWarning)\n",
    "\n",
    "sgd_model = sgd_grid.fit(X, y);"
   ]
  },
  {
   "cell_type": "code",
   "execution_count": 22,
   "metadata": {},
   "outputs": [
    {
     "data": {
      "text/plain": [
       "SGDRegressor(alpha=2.857214285714286, average=False, early_stopping=False,\n",
       "             epsilon=0.1, eta0=0.01, fit_intercept=True,\n",
       "             l1_ratio=0.7859285714285714, learning_rate='invscaling',\n",
       "             loss='squared_loss', max_iter=1000, n_iter_no_change=5,\n",
       "             penalty='l2', power_t=0.25, random_state=12345, shuffle=True,\n",
       "             tol=0.001, validation_fraction=0.1, verbose=0, warm_start=False)"
      ]
     },
     "execution_count": 22,
     "metadata": {},
     "output_type": "execute_result"
    }
   ],
   "source": [
    "sgd_model.best_estimator_"
   ]
  },
  {
   "cell_type": "code",
   "execution_count": 23,
   "metadata": {},
   "outputs": [
    {
     "data": {
      "text/plain": [
       "(0.1794465622987765, 0.012069384680597383)"
      ]
     },
     "execution_count": 23,
     "metadata": {},
     "output_type": "execute_result"
    }
   ],
   "source": [
    "# Elimina warnings DeprecationWarning\n",
    "warnings.filterwarnings(\"ignore\", category=DeprecationWarning)\n",
    "\n",
    "score['SGD'] = cv_rmse(sgd_model.best_estimator_, X=X)\n",
    "\n",
    "(score['SGD'].mean(), score['SGD'].std())"
   ]
  },
  {
   "cell_type": "code",
   "execution_count": 24,
   "metadata": {},
   "outputs": [
    {
     "name": "stdout",
     "output_type": "stream",
     "text": [
      "----------------------------------------------------------------------------------\n",
      "---------------------------------MODELO SGD------------------------------------\n",
      "----------------------------------------------------------------------------------\n",
      "\n",
      "TUNEADO\n",
      "Mejor modelo (PARAMETROS):-------------------> {'penalty': 'l2', 'l1_ratio': 0.7859285714285714, 'early_stopping': False, 'alpha': 2.857214285714286}\n",
      "Tiempo medio de TRAINING---------------------> 0.026414151239395146 sg\n",
      "Tiempo medio de SCORING----------------------> 0.002698685693740845 sg\n",
      "Tiempo medio de TRAINING mejor modelo--------> 0.023987770080566406 sg\n",
      "\n",
      "PREDICCION DATOS\n",
      "Para datos Train:----------------------------> 0.001349952220916748 sg\n",
      "Para datos Test:-----------------------------> 0.0012599444389343262 sg\n",
      "\n",
      "PREDICCION + SCORING DATOS\n",
      "Para datos Train:----------------------------> 0.002369961738586426 sg\n",
      "Para datos Test:-----------------------------> nan sg\n"
     ]
    }
   ],
   "source": [
    "timer.update(resumenModelo(sgd_model, 'SGD'))"
   ]
  },
  {
   "cell_type": "markdown",
   "metadata": {},
   "source": [
    "## Ridge Regression"
   ]
  },
  {
   "cell_type": "code",
   "execution_count": 25,
   "metadata": {},
   "outputs": [],
   "source": [
    "ridge = Ridge(random_state=12345)"
   ]
  },
  {
   "cell_type": "code",
   "execution_count": 26,
   "metadata": {},
   "outputs": [],
   "source": [
    "ridge_param = {\"alpha\": np.linspace(0.001,100,1000)}\n",
    "\n",
    "ridge_grid = RandomizedSearchCV(ridge,\n",
    "                                ridge_param,\n",
    "                                iid=False,\n",
    "                                cv=kfolds,\n",
    "                                n_jobs=-1,\n",
    "                                n_iter=N_iter)"
   ]
  },
  {
   "cell_type": "code",
   "execution_count": 27,
   "metadata": {},
   "outputs": [],
   "source": [
    "# Entrenamiento del modelo\n",
    "# Borra alertas DeprecationWarning\n",
    "warnings.filterwarnings(\"ignore\", category=UserWarning)\n",
    "\n",
    "ridge_model = ridge_grid.fit(X, y);"
   ]
  },
  {
   "cell_type": "code",
   "execution_count": 28,
   "metadata": {},
   "outputs": [
    {
     "data": {
      "text/plain": [
       "Ridge(alpha=0.1010990990990991, copy_X=True, fit_intercept=True, max_iter=None,\n",
       "      normalize=False, random_state=12345, solver='auto', tol=0.001)"
      ]
     },
     "execution_count": 28,
     "metadata": {},
     "output_type": "execute_result"
    }
   ],
   "source": [
    "ridge_model.best_estimator_"
   ]
  },
  {
   "cell_type": "code",
   "execution_count": 29,
   "metadata": {},
   "outputs": [
    {
     "data": {
      "text/plain": [
       "(0.10913169234696456, 0.007776497170866073)"
      ]
     },
     "execution_count": 29,
     "metadata": {},
     "output_type": "execute_result"
    }
   ],
   "source": [
    "# Elimina warnings DeprecationWarning\n",
    "warnings.filterwarnings(\"ignore\", category=DeprecationWarning)\n",
    "\n",
    "score['Ridge'] = cv_rmse(ridge_model.best_estimator_, X=X)\n",
    "\n",
    "(score['Ridge'].mean(), score['Ridge'].std())"
   ]
  },
  {
   "cell_type": "code",
   "execution_count": 30,
   "metadata": {},
   "outputs": [
    {
     "name": "stdout",
     "output_type": "stream",
     "text": [
      "----------------------------------------------------------------------------------\n",
      "---------------------------------MODELO Ridge------------------------------------\n",
      "----------------------------------------------------------------------------------\n",
      "\n",
      "TUNEADO\n",
      "Mejor modelo (PARAMETROS):-------------------> {'alpha': 0.1010990990990991}\n",
      "Tiempo medio de TRAINING---------------------> 0.0077999799728393545 sg\n",
      "Tiempo medio de SCORING----------------------> 0.0030762824058532716 sg\n",
      "Tiempo medio de TRAINING mejor modelo--------> 0.00500178337097168 sg\n",
      "\n",
      "PREDICCION DATOS\n",
      "Para datos Train:----------------------------> 0.001949913501739502 sg\n",
      "Para datos Test:-----------------------------> 0.0016299104690551758 sg\n",
      "\n",
      "PREDICCION + SCORING DATOS\n",
      "Para datos Train:----------------------------> 0.0020599937438964843 sg\n",
      "Para datos Test:-----------------------------> nan sg\n"
     ]
    }
   ],
   "source": [
    "timer.update(resumenModelo(ridge_model, 'Ridge'))"
   ]
  },
  {
   "cell_type": "markdown",
   "metadata": {},
   "source": [
    "## Lasso Regression"
   ]
  },
  {
   "cell_type": "code",
   "execution_count": 31,
   "metadata": {},
   "outputs": [],
   "source": [
    "lasso = Lasso(max_iter=1e7, random_state=12345)"
   ]
  },
  {
   "cell_type": "code",
   "execution_count": 32,
   "metadata": {},
   "outputs": [],
   "source": [
    "lasso_param = {\"alpha\": np.linspace(0.0001, 1,1000)}\n",
    "\n",
    "lasso_grid = RandomizedSearchCV(lasso,\n",
    "                                lasso_param,\n",
    "                                iid=False,\n",
    "                                cv=kfolds,\n",
    "                                n_jobs=-1,\n",
    "                                n_iter=N_iter)"
   ]
  },
  {
   "cell_type": "code",
   "execution_count": 33,
   "metadata": {},
   "outputs": [],
   "source": [
    "# Entrenamiento del modelo\n",
    "# Borra alertas DeprecationWarning\n",
    "warnings.filterwarnings(\"ignore\", category=UserWarning)\n",
    "\n",
    "lasso_model = lasso_grid.fit(X, y);"
   ]
  },
  {
   "cell_type": "code",
   "execution_count": 34,
   "metadata": {},
   "outputs": [
    {
     "data": {
      "text/plain": [
       "Lasso(alpha=0.0021018018018018015, copy_X=True, fit_intercept=True,\n",
       "      max_iter=10000000.0, normalize=False, positive=False, precompute=False,\n",
       "      random_state=12345, selection='cyclic', tol=0.0001, warm_start=False)"
      ]
     },
     "execution_count": 34,
     "metadata": {},
     "output_type": "execute_result"
    }
   ],
   "source": [
    "lasso_model.best_estimator_"
   ]
  },
  {
   "cell_type": "code",
   "execution_count": 35,
   "metadata": {
    "scrolled": true
   },
   "outputs": [
    {
     "data": {
      "text/plain": [
       "(0.1178762161429696, 0.009213515190344454)"
      ]
     },
     "execution_count": 35,
     "metadata": {},
     "output_type": "execute_result"
    }
   ],
   "source": [
    "# Borra alertas DeprecationWarning\n",
    "warnings.filterwarnings(\"ignore\", category=DeprecationWarning)\n",
    "\n",
    "score['Lasso'] = cv_rmse(lasso_model.best_estimator_, X=X)\n",
    "\n",
    "(score['Lasso'].mean(), score['Lasso'].std())"
   ]
  },
  {
   "cell_type": "code",
   "execution_count": 36,
   "metadata": {},
   "outputs": [
    {
     "name": "stdout",
     "output_type": "stream",
     "text": [
      "----------------------------------------------------------------------------------\n",
      "---------------------------------MODELO Lasso------------------------------------\n",
      "----------------------------------------------------------------------------------\n",
      "\n",
      "TUNEADO\n",
      "Mejor modelo (PARAMETROS):-------------------> {'alpha': 0.0021018018018018015}\n",
      "Tiempo medio de TRAINING---------------------> 0.008344177293777465 sg\n",
      "Tiempo medio de SCORING----------------------> 0.003079569149017334 sg\n",
      "Tiempo medio de TRAINING mejor modelo--------> 0.0070018768310546875 sg\n",
      "\n",
      "PREDICCION DATOS\n",
      "Para datos Train:----------------------------> 0.001889963150024414 sg\n",
      "Para datos Test:-----------------------------> 0.001609950065612793 sg\n",
      "\n",
      "PREDICCION + SCORING DATOS\n",
      "Para datos Train:----------------------------> 0.0014099717140197755 sg\n",
      "Para datos Test:-----------------------------> nan sg\n"
     ]
    }
   ],
   "source": [
    "timer.update(resumenModelo(lasso_model, 'Lasso'))"
   ]
  },
  {
   "cell_type": "markdown",
   "metadata": {},
   "source": [
    "## ElasticNet Regression"
   ]
  },
  {
   "cell_type": "code",
   "execution_count": 37,
   "metadata": {},
   "outputs": [],
   "source": [
    "elasticnet = ElasticNet(max_iter=1e7, random_state=12345)"
   ]
  },
  {
   "cell_type": "code",
   "execution_count": 38,
   "metadata": {},
   "outputs": [],
   "source": [
    "elasticnet_param = {\"alpha\": np.linspace(0.0001, 1, 30),\n",
    "                    \"l1_ratio\": np.linspace(0.01, 1, 30)}\n",
    "\n",
    "elasticnet_grid = RandomizedSearchCV(elasticnet,\n",
    "                                     elasticnet_param,\n",
    "                                     iid=False,\n",
    "                                     cv=kfolds,\n",
    "                                     n_jobs=-1,\n",
    "                                     n_iter=N_iter)"
   ]
  },
  {
   "cell_type": "code",
   "execution_count": 39,
   "metadata": {},
   "outputs": [],
   "source": [
    "# Entrenamiento del modelo\n",
    "# Borra alertas DeprecationWarning\n",
    "warnings.filterwarnings(\"ignore\", category=UserWarning)\n",
    "\n",
    "elasticnet_model = elasticnet_grid.fit(X, y);"
   ]
  },
  {
   "cell_type": "code",
   "execution_count": 40,
   "metadata": {},
   "outputs": [
    {
     "data": {
      "text/plain": [
       "ElasticNet(alpha=0.0001, copy_X=True, fit_intercept=True,\n",
       "           l1_ratio=0.04413793103448276, max_iter=10000000.0, normalize=False,\n",
       "           positive=False, precompute=False, random_state=12345,\n",
       "           selection='cyclic', tol=0.0001, warm_start=False)"
      ]
     },
     "execution_count": 40,
     "metadata": {},
     "output_type": "execute_result"
    }
   ],
   "source": [
    "elasticnet_model.best_estimator_"
   ]
  },
  {
   "cell_type": "code",
   "execution_count": 41,
   "metadata": {},
   "outputs": [
    {
     "data": {
      "text/plain": [
       "(0.10913172030989088, 0.007804449292167729)"
      ]
     },
     "execution_count": 41,
     "metadata": {},
     "output_type": "execute_result"
    }
   ],
   "source": [
    "# Borra alertas DeprecationWarning\n",
    "warnings.filterwarnings(\"ignore\", category=DeprecationWarning)\n",
    "\n",
    "score['Elasticnet'] = cv_rmse(elasticnet_model.best_estimator_, X=X)\n",
    "\n",
    "(score['Elasticnet'].mean(), score['Elasticnet'].std())"
   ]
  },
  {
   "cell_type": "code",
   "execution_count": 42,
   "metadata": {},
   "outputs": [
    {
     "name": "stdout",
     "output_type": "stream",
     "text": [
      "----------------------------------------------------------------------------------\n",
      "---------------------------------MODELO Elasticnet------------------------------------\n",
      "----------------------------------------------------------------------------------\n",
      "\n",
      "TUNEADO\n",
      "Mejor modelo (PARAMETROS):-------------------> {'l1_ratio': 0.04413793103448276, 'alpha': 0.0001}\n",
      "Tiempo medio de TRAINING---------------------> 0.009951757431030274 sg\n",
      "Tiempo medio de SCORING----------------------> 0.003221938133239746 sg\n",
      "Tiempo medio de TRAINING mejor modelo--------> 0.04098701477050781 sg\n",
      "\n",
      "PREDICCION DATOS\n",
      "Para datos Train:----------------------------> 0.002919921875 sg\n",
      "Para datos Test:-----------------------------> 0.002219991683959961 sg\n",
      "\n",
      "PREDICCION + SCORING DATOS\n",
      "Para datos Train:----------------------------> 0.002509894371032715 sg\n",
      "Para datos Test:-----------------------------> nan sg\n"
     ]
    }
   ],
   "source": [
    "timer.update(resumenModelo(elasticnet_model, 'Elasticnet'))"
   ]
  },
  {
   "cell_type": "markdown",
   "metadata": {},
   "source": [
    "## LarsCV"
   ]
  },
  {
   "cell_type": "code",
   "execution_count": 43,
   "metadata": {},
   "outputs": [],
   "source": [
    "lars = LarsCV(cv = kfolds, n_jobs=-1)"
   ]
  },
  {
   "cell_type": "code",
   "execution_count": 44,
   "metadata": {},
   "outputs": [],
   "source": [
    "# Entrenamiento del modelo\n",
    "lars_model = lars.fit(X, y);"
   ]
  },
  {
   "cell_type": "code",
   "execution_count": 45,
   "metadata": {},
   "outputs": [
    {
     "data": {
      "text/plain": [
       "(0.11902992093637779, 0.01537795018732253)"
      ]
     },
     "execution_count": 45,
     "metadata": {},
     "output_type": "execute_result"
    }
   ],
   "source": [
    "# Borra alertas DeprecationWarning\n",
    "warnings.filterwarnings(\"ignore\", category=DeprecationWarning)\n",
    "\n",
    "score['Lars'] = cv_rmse(lars_model, X=X)\n",
    "\n",
    "(score['Lars'].mean(), score['Lars'].std())"
   ]
  },
  {
   "cell_type": "code",
   "execution_count": 46,
   "metadata": {},
   "outputs": [
    {
     "name": "stdout",
     "output_type": "stream",
     "text": [
      "----------------------------------------------------------------------------------\n",
      "---------------------------------MODELO Lars------------------------------------\n",
      "----------------------------------------------------------------------------------\n",
      "\n",
      "PREDICCION DATOS\n",
      "Para datos Train:----------------------------> 0.00254990816116333 sg\n",
      "Para datos Test:-----------------------------> 0.0016999983787536622 sg\n",
      "\n",
      "PREDICCION + SCORING DATOS\n",
      "Para datos Train:----------------------------> 0.002229914665222168 sg\n",
      "Para datos Test:-----------------------------> nan sg\n"
     ]
    }
   ],
   "source": [
    "timer.update(resumenModelo(lars_model, 'Lars', flag=False))"
   ]
  },
  {
   "cell_type": "markdown",
   "metadata": {},
   "source": [
    "## Huber Regressor"
   ]
  },
  {
   "cell_type": "code",
   "execution_count": 47,
   "metadata": {},
   "outputs": [],
   "source": [
    "hub = HuberRegressor()"
   ]
  },
  {
   "cell_type": "code",
   "execution_count": 48,
   "metadata": {},
   "outputs": [],
   "source": [
    "hub_param = {\"alpha\": np.linspace(0.0001, 10, 300)}\n",
    "\n",
    "hub_grid = RandomizedSearchCV(hub, \n",
    "                              hub_param,\n",
    "                              iid=False,\n",
    "                              cv=kfolds,\n",
    "                              n_jobs=-1,\n",
    "                              n_iter=N_iter)"
   ]
  },
  {
   "cell_type": "code",
   "execution_count": 49,
   "metadata": {},
   "outputs": [],
   "source": [
    "# Entrenamiento del modelo\n",
    "hub_model = hub_grid.fit(X, y);"
   ]
  },
  {
   "cell_type": "code",
   "execution_count": 50,
   "metadata": {},
   "outputs": [
    {
     "data": {
      "text/plain": [
       "(0.3432314651358082, 0.08650187253826261)"
      ]
     },
     "execution_count": 50,
     "metadata": {},
     "output_type": "execute_result"
    }
   ],
   "source": [
    "# Borra alertas DeprecationWarning\n",
    "warnings.filterwarnings(\"ignore\", category=DeprecationWarning)\n",
    "\n",
    "score['Huber'] = cv_rmse(hub_model.best_estimator_, X=X)\n",
    "\n",
    "(score['Huber'].mean(), score['Huber'].std())"
   ]
  },
  {
   "cell_type": "code",
   "execution_count": 51,
   "metadata": {},
   "outputs": [
    {
     "name": "stdout",
     "output_type": "stream",
     "text": [
      "----------------------------------------------------------------------------------\n",
      "---------------------------------MODELO Huber------------------------------------\n",
      "----------------------------------------------------------------------------------\n",
      "\n",
      "TUNEADO\n",
      "Mejor modelo (PARAMETROS):-------------------> {'alpha': 9.966555518394648}\n",
      "Tiempo medio de TRAINING---------------------> 0.22283667430877688 sg\n",
      "Tiempo medio de SCORING----------------------> 0.004650252962112428 sg\n",
      "Tiempo medio de TRAINING mejor modelo--------> 0.19800066947937012 sg\n",
      "\n",
      "PREDICCION DATOS\n",
      "Para datos Train:----------------------------> 0.0011299753189086914 sg\n",
      "Para datos Test:-----------------------------> 0.001119997501373291 sg\n",
      "\n",
      "PREDICCION + SCORING DATOS\n",
      "Para datos Train:----------------------------> 0.0015899872779846192 sg\n",
      "Para datos Test:-----------------------------> nan sg\n"
     ]
    }
   ],
   "source": [
    "timer.update(resumenModelo(hub_model, 'Huber'))"
   ]
  },
  {
   "cell_type": "markdown",
   "metadata": {},
   "source": [
    "# Modelos basados en Árboles"
   ]
  },
  {
   "cell_type": "markdown",
   "metadata": {},
   "source": [
    "## Random Forest Regressor"
   ]
  },
  {
   "cell_type": "code",
   "execution_count": 52,
   "metadata": {},
   "outputs": [],
   "source": [
    "RF = RandomForestRegressor(random_state=12345, n_jobs=-1)"
   ]
  },
  {
   "cell_type": "code",
   "execution_count": 53,
   "metadata": {},
   "outputs": [],
   "source": [
    "RF_param = {\"n_estimators\": list(range(300, 1000, 100)),\n",
    "            \"max_depth\": list(range(10, 50, 10)),\n",
    "            \"min_samples_leaf\": list(range(1, 15, 3)),\n",
    "            \"max_features\": ['auto', 'sqrt', 'log2']}\n",
    "\n",
    "RF_grid = RandomizedSearchCV(RF,\n",
    "                             RF_param,\n",
    "                             iid=False,\n",
    "                             cv=kfolds,\n",
    "                             n_jobs=-1,\n",
    "                             n_iter=N_iter)"
   ]
  },
  {
   "cell_type": "code",
   "execution_count": 54,
   "metadata": {},
   "outputs": [],
   "source": [
    "# Entrenamiento del modelo\n",
    "# Borra alertas DeprecationWarning\n",
    "warnings.filterwarnings(\"ignore\", category=UserWarning)\n",
    "\n",
    "RF_model = RF_grid.fit(X, y);"
   ]
  },
  {
   "cell_type": "code",
   "execution_count": 55,
   "metadata": {},
   "outputs": [
    {
     "data": {
      "text/plain": [
       "RandomForestRegressor(bootstrap=True, criterion='mse', max_depth=40,\n",
       "                      max_features='sqrt', max_leaf_nodes=None,\n",
       "                      min_impurity_decrease=0.0, min_impurity_split=None,\n",
       "                      min_samples_leaf=1, min_samples_split=2,\n",
       "                      min_weight_fraction_leaf=0.0, n_estimators=500, n_jobs=-1,\n",
       "                      oob_score=False, random_state=12345, verbose=0,\n",
       "                      warm_start=False)"
      ]
     },
     "execution_count": 55,
     "metadata": {},
     "output_type": "execute_result"
    }
   ],
   "source": [
    "RF_model.best_estimator_"
   ]
  },
  {
   "cell_type": "code",
   "execution_count": 56,
   "metadata": {},
   "outputs": [
    {
     "data": {
      "text/plain": [
       "(0.129369847352681, 0.010345304165752026)"
      ]
     },
     "execution_count": 56,
     "metadata": {},
     "output_type": "execute_result"
    }
   ],
   "source": [
    "# Borra alertas DeprecationWarning\n",
    "warnings.filterwarnings(\"ignore\", category=DeprecationWarning)\n",
    "warnings.filterwarnings(\"ignore\", category=UserWarning)\n",
    "\n",
    "score['RF'] = cv_rmse(RF_model.best_estimator_, X=X)\n",
    "\n",
    "(score['RF'].mean(), score['RF'].std())"
   ]
  },
  {
   "cell_type": "code",
   "execution_count": 57,
   "metadata": {},
   "outputs": [
    {
     "name": "stdout",
     "output_type": "stream",
     "text": [
      "----------------------------------------------------------------------------------\n",
      "---------------------------------MODELO RF------------------------------------\n",
      "----------------------------------------------------------------------------------\n",
      "\n",
      "TUNEADO\n",
      "Mejor modelo (PARAMETROS):-------------------> {'n_estimators': 500, 'min_samples_leaf': 1, 'max_features': 'sqrt', 'max_depth': 40}\n",
      "Tiempo medio de TRAINING---------------------> 3.014901459026337 sg\n",
      "Tiempo medio de SCORING----------------------> 0.43558103322982783 sg\n",
      "Tiempo medio de TRAINING mejor modelo--------> 0.9090104103088379 sg\n",
      "\n",
      "PREDICCION DATOS\n",
      "Para datos Train:----------------------------> 0.20411902904510498 sg\n",
      "Para datos Test:-----------------------------> 0.1943361282348633 sg\n",
      "\n",
      "PREDICCION + SCORING DATOS\n",
      "Para datos Train:----------------------------> 0.1903790307044983 sg\n",
      "Para datos Test:-----------------------------> nan sg\n"
     ]
    }
   ],
   "source": [
    "timer.update(resumenModelo(RF_model, 'RF'))"
   ]
  },
  {
   "cell_type": "markdown",
   "metadata": {},
   "source": [
    "## Extratrees Regressor"
   ]
  },
  {
   "cell_type": "code",
   "execution_count": 58,
   "metadata": {},
   "outputs": [],
   "source": [
    "ExT = ExtraTreesRegressor(random_state=12345, n_jobs=-1)"
   ]
  },
  {
   "cell_type": "code",
   "execution_count": 59,
   "metadata": {},
   "outputs": [],
   "source": [
    "ExT_param = {\"n_estimators\": list(range(300, 1000, 100)),\n",
    "             \"max_depth\": list(range(10, 50, 10)),\n",
    "             \"min_samples_leaf\": list(range(1, 15, 3)),\n",
    "             \"max_features\": ['auto', 'sqrt', 'log2']}\n",
    "\n",
    "ExT_grid = RandomizedSearchCV(ExT, \n",
    "                              ExT_param,\n",
    "                              iid=False,\n",
    "                              cv=kfolds,\n",
    "                              n_jobs=-1,\n",
    "                              n_iter=N_iter)"
   ]
  },
  {
   "cell_type": "code",
   "execution_count": 60,
   "metadata": {},
   "outputs": [],
   "source": [
    "# Entrenamiento del modelo\n",
    "# Borra alertas DeprecationWarning\n",
    "warnings.filterwarnings(\"ignore\", category=UserWarning)\n",
    "\n",
    "ExT_model = ExT_grid.fit(X, y);"
   ]
  },
  {
   "cell_type": "code",
   "execution_count": 61,
   "metadata": {},
   "outputs": [
    {
     "data": {
      "text/plain": [
       "ExtraTreesRegressor(bootstrap=False, criterion='mse', max_depth=20,\n",
       "                    max_features='auto', max_leaf_nodes=None,\n",
       "                    min_impurity_decrease=0.0, min_impurity_split=None,\n",
       "                    min_samples_leaf=1, min_samples_split=2,\n",
       "                    min_weight_fraction_leaf=0.0, n_estimators=800, n_jobs=-1,\n",
       "                    oob_score=False, random_state=12345, verbose=0,\n",
       "                    warm_start=False)"
      ]
     },
     "execution_count": 61,
     "metadata": {},
     "output_type": "execute_result"
    }
   ],
   "source": [
    "ExT_model.best_estimator_"
   ]
  },
  {
   "cell_type": "code",
   "execution_count": 62,
   "metadata": {},
   "outputs": [
    {
     "data": {
      "text/plain": [
       "(0.1289526157325549, 0.009480372510673647)"
      ]
     },
     "execution_count": 62,
     "metadata": {},
     "output_type": "execute_result"
    }
   ],
   "source": [
    "# Borra alertas DeprecationWarning\n",
    "warnings.filterwarnings(\"ignore\", category=DeprecationWarning)\n",
    "warnings.filterwarnings(\"ignore\", category=UserWarning)\n",
    "\n",
    "score['ExT'] = cv_rmse(ExT_model.best_estimator_, X=X)\n",
    "\n",
    "(score['ExT'].mean(), score['ExT'].std())"
   ]
  },
  {
   "cell_type": "code",
   "execution_count": 63,
   "metadata": {},
   "outputs": [
    {
     "name": "stdout",
     "output_type": "stream",
     "text": [
      "----------------------------------------------------------------------------------\n",
      "---------------------------------MODELO ExT------------------------------------\n",
      "----------------------------------------------------------------------------------\n",
      "\n",
      "TUNEADO\n",
      "Mejor modelo (PARAMETROS):-------------------> {'n_estimators': 800, 'min_samples_leaf': 1, 'max_features': 'auto', 'max_depth': 20}\n",
      "Tiempo medio de TRAINING---------------------> 2.5235886574268336 sg\n",
      "Tiempo medio de SCORING----------------------> 0.4168912590026856 sg\n",
      "Tiempo medio de TRAINING mejor modelo--------> 3.5440995693206787 sg\n",
      "\n",
      "PREDICCION DATOS\n",
      "Para datos Train:----------------------------> 0.29874089956283567 sg\n",
      "Para datos Test:-----------------------------> 0.3020947813987732 sg\n",
      "\n",
      "PREDICCION + SCORING DATOS\n",
      "Para datos Train:----------------------------> 0.28691801071166995 sg\n",
      "Para datos Test:-----------------------------> nan sg\n"
     ]
    }
   ],
   "source": [
    "timer.update(resumenModelo(ExT_model, 'ExT'))"
   ]
  },
  {
   "cell_type": "markdown",
   "metadata": {},
   "source": [
    "## Gradient Boosting Regressor"
   ]
  },
  {
   "cell_type": "code",
   "execution_count": 64,
   "metadata": {},
   "outputs": [],
   "source": [
    "gbm = GradientBoostingRegressor(random_state=12345)"
   ]
  },
  {
   "cell_type": "code",
   "execution_count": 65,
   "metadata": {},
   "outputs": [],
   "source": [
    "gbm_param = {\"n_estimators\": list(range(400, 1000, 100)),\n",
    "             \"max_depth\": list(range(1, 10, 2)),\n",
    "             \"min_samples_leaf\": list(range(1, 15, 5)),\n",
    "             \"learning_rate\": [0.001, 0.01, 0.1, 1],  \n",
    "             \"max_features\": ['auto', 'sqrt']}\n",
    "\n",
    "gbm_grid = RandomizedSearchCV(gbm, \n",
    "                              gbm_param,  \n",
    "                              n_jobs=-1, \n",
    "                              iid=False,\n",
    "                              cv=kfolds,\n",
    "                              n_iter=N_iter,\n",
    "                              error_score=0)"
   ]
  },
  {
   "cell_type": "code",
   "execution_count": 66,
   "metadata": {},
   "outputs": [],
   "source": [
    "# Entrenamiento del modelo\n",
    "# Borra alertas DeprecationWarning\n",
    "warnings.filterwarnings(\"ignore\", category=UserWarning)\n",
    "\n",
    "gbm_model = gbm_grid.fit(X, y);"
   ]
  },
  {
   "cell_type": "code",
   "execution_count": 67,
   "metadata": {},
   "outputs": [
    {
     "data": {
      "text/plain": [
       "GradientBoostingRegressor(alpha=0.9, criterion='friedman_mse', init=None,\n",
       "                          learning_rate=0.01, loss='ls', max_depth=9,\n",
       "                          max_features='sqrt', max_leaf_nodes=None,\n",
       "                          min_impurity_decrease=0.0, min_impurity_split=None,\n",
       "                          min_samples_leaf=11, min_samples_split=2,\n",
       "                          min_weight_fraction_leaf=0.0, n_estimators=800,\n",
       "                          n_iter_no_change=None, presort='auto',\n",
       "                          random_state=12345, subsample=1.0, tol=0.0001,\n",
       "                          validation_fraction=0.1, verbose=0, warm_start=False)"
      ]
     },
     "execution_count": 67,
     "metadata": {},
     "output_type": "execute_result"
    }
   ],
   "source": [
    "gbm_model.best_estimator_"
   ]
  },
  {
   "cell_type": "code",
   "execution_count": 68,
   "metadata": {},
   "outputs": [
    {
     "data": {
      "text/plain": [
       "(0.11688507052325486, 0.00904374902581571)"
      ]
     },
     "execution_count": 68,
     "metadata": {},
     "output_type": "execute_result"
    }
   ],
   "source": [
    "# Borra alertas DeprecationWarning\n",
    "warnings.filterwarnings(\"ignore\", category=DeprecationWarning)\n",
    "warnings.filterwarnings(\"ignore\", category=UserWarning)\n",
    "\n",
    "score['Gbm'] = cv_rmse(gbm_model.best_estimator_, X=X)\n",
    "\n",
    "(score['Gbm'].mean(), score['Gbm'].std())"
   ]
  },
  {
   "cell_type": "code",
   "execution_count": 69,
   "metadata": {},
   "outputs": [
    {
     "name": "stdout",
     "output_type": "stream",
     "text": [
      "----------------------------------------------------------------------------------\n",
      "---------------------------------MODELO Gbm------------------------------------\n",
      "----------------------------------------------------------------------------------\n",
      "\n",
      "TUNEADO\n",
      "Mejor modelo (PARAMETROS):-------------------> {'n_estimators': 800, 'min_samples_leaf': 11, 'max_features': 'sqrt', 'max_depth': 9, 'learning_rate': 0.01}\n",
      "Tiempo medio de TRAINING---------------------> 2.6518434128761292 sg\n",
      "Tiempo medio de SCORING----------------------> 0.00986781439781189 sg\n",
      "Tiempo medio de TRAINING mejor modelo--------> 1.743011474609375 sg\n",
      "\n",
      "PREDICCION DATOS\n",
      "Para datos Train:----------------------------> 0.061460747718811035 sg\n",
      "Para datos Test:-----------------------------> 0.05716000556945801 sg\n",
      "\n",
      "PREDICCION + SCORING DATOS\n",
      "Para datos Train:----------------------------> 0.05969038724899292 sg\n",
      "Para datos Test:-----------------------------> nan sg\n"
     ]
    }
   ],
   "source": [
    "timer.update(resumenModelo(gbm_model, 'Gbm'))"
   ]
  },
  {
   "cell_type": "markdown",
   "metadata": {},
   "source": [
    "## LightGBM Regressor"
   ]
  },
  {
   "cell_type": "code",
   "execution_count": 70,
   "metadata": {},
   "outputs": [],
   "source": [
    "lgbm = LGBMRegressor(random_state=12345, n_jobs=-1)"
   ]
  },
  {
   "cell_type": "code",
   "execution_count": 71,
   "metadata": {},
   "outputs": [],
   "source": [
    "lgbm_param = {\"n_estimators\": list(range(400, 1000, 100)),\n",
    "              \"max_depth\": list(range(10, 50, 10)),\n",
    "              \"learning_rate\": [0.001, 0.01, 0.1, 1],  \n",
    "              \"reg_alpha\": [0.001, 0.01, 0.1, 1],\n",
    "              \"reg_lambda\": [0.001, 0.01, 0.1, 1]}\n",
    "\n",
    "lgbm_grid = RandomizedSearchCV(lgbm, \n",
    "                               lgbm_param,  \n",
    "                               n_jobs=-1, \n",
    "                               iid=False,\n",
    "                               cv=kfolds,\n",
    "                               n_iter=N_iter)"
   ]
  },
  {
   "cell_type": "code",
   "execution_count": 72,
   "metadata": {},
   "outputs": [],
   "source": [
    "# Entrenamiento del modelo\n",
    "# Borra alertas DeprecationWarning\n",
    "warnings.filterwarnings(\"ignore\", category=FutureWarning)\n",
    "warnings.filterwarnings(\"ignore\", category=UserWarning)\n",
    "\n",
    "lgbm_model = lgbm_grid.fit(X, y);"
   ]
  },
  {
   "cell_type": "code",
   "execution_count": 73,
   "metadata": {},
   "outputs": [
    {
     "data": {
      "text/plain": [
       "LGBMRegressor(boosting_type='gbdt', class_weight=None, colsample_bytree=1.0,\n",
       "              importance_type='split', learning_rate=0.01, max_depth=10,\n",
       "              min_child_samples=20, min_child_weight=0.001, min_split_gain=0.0,\n",
       "              n_estimators=900, n_jobs=-1, num_leaves=31, objective=None,\n",
       "              random_state=12345, reg_alpha=0.001, reg_lambda=0.01, silent=True,\n",
       "              subsample=1.0, subsample_for_bin=200000, subsample_freq=0)"
      ]
     },
     "execution_count": 73,
     "metadata": {},
     "output_type": "execute_result"
    }
   ],
   "source": [
    "lgbm_model.best_estimator_"
   ]
  },
  {
   "cell_type": "code",
   "execution_count": 74,
   "metadata": {},
   "outputs": [
    {
     "data": {
      "text/plain": [
       "(0.12614338892310997, 0.00906632784261127)"
      ]
     },
     "execution_count": 74,
     "metadata": {},
     "output_type": "execute_result"
    }
   ],
   "source": [
    "# Borra alertas DeprecationWarning\n",
    "warnings.filterwarnings(\"ignore\", category=DeprecationWarning)\n",
    "warnings.filterwarnings(\"ignore\", category=UserWarning)\n",
    "\n",
    "score['LGBm'] = cv_rmse(lgbm_model.best_estimator_, X=X)\n",
    "\n",
    "(score['LGBm'].mean(), score['LGBm'].std())"
   ]
  },
  {
   "cell_type": "code",
   "execution_count": 75,
   "metadata": {},
   "outputs": [
    {
     "name": "stdout",
     "output_type": "stream",
     "text": [
      "----------------------------------------------------------------------------------\n",
      "---------------------------------MODELO LGBm------------------------------------\n",
      "----------------------------------------------------------------------------------\n",
      "\n",
      "TUNEADO\n",
      "Mejor modelo (PARAMETROS):-------------------> {'reg_lambda': 0.01, 'reg_alpha': 0.001, 'n_estimators': 900, 'max_depth': 10, 'learning_rate': 0.01}\n",
      "Tiempo medio de TRAINING---------------------> 1.5854483483314512 sg\n",
      "Tiempo medio de SCORING----------------------> 0.04075429353713989 sg\n",
      "Tiempo medio de TRAINING mejor modelo--------> 2.2700278759002686 sg\n",
      "\n",
      "PREDICCION DATOS\n",
      "Para datos Train:----------------------------> 0.08466104507446288 sg\n",
      "Para datos Test:-----------------------------> 0.08683111906051635 sg\n",
      "\n",
      "PREDICCION + SCORING DATOS\n",
      "Para datos Train:----------------------------> 0.08290101528167725 sg\n",
      "Para datos Test:-----------------------------> nan sg\n"
     ]
    }
   ],
   "source": [
    "timer.update(resumenModelo(lgbm_model, 'LGBm'))"
   ]
  },
  {
   "cell_type": "markdown",
   "metadata": {},
   "source": [
    "## XGBoost Regressor"
   ]
  },
  {
   "cell_type": "code",
   "execution_count": 77,
   "metadata": {},
   "outputs": [],
   "source": [
    "xgbm = XGBRegressor(random_state=12345, objective='reg:squarederror', n_jobs=-1)"
   ]
  },
  {
   "cell_type": "code",
   "execution_count": 78,
   "metadata": {},
   "outputs": [],
   "source": [
    "xgbm_param = {\"n_estimators\": list(range(400, 1000, 100)),\n",
    "              \"max_depth\": list(range(10, 50, 10)),\n",
    "              \"learning_rate\": [0.001, 0.01, 0.1, 1],  \n",
    "              \"reg_alpha\": [0.001, 0.01, 0.1, 1, 10],\n",
    "              \"reg_lambda\": [0.001, 0.01, 0.1, 1]}\n",
    "\n",
    "xgbm_grid = RandomizedSearchCV(xgbm, \n",
    "                               xgbm_param,  \n",
    "                               n_jobs=-1, \n",
    "                               iid=False,\n",
    "                               cv=kfolds,\n",
    "                               n_iter=N_iter)"
   ]
  },
  {
   "cell_type": "code",
   "execution_count": 79,
   "metadata": {},
   "outputs": [],
   "source": [
    "# Entrenamiento del modelo\n",
    "# Borra alertas DeprecationWarning\n",
    "warnings.filterwarnings(\"ignore\", category=FutureWarning)\n",
    "warnings.filterwarnings(\"ignore\", category=UserWarning)\n",
    "\n",
    "xgbm_model = xgbm_grid.fit(X, y);"
   ]
  },
  {
   "cell_type": "code",
   "execution_count": 80,
   "metadata": {},
   "outputs": [
    {
     "data": {
      "text/plain": [
       "XGBRegressor(base_score=0.5, booster='gbtree', colsample_bylevel=1,\n",
       "             colsample_bynode=1, colsample_bytree=1, gamma=0,\n",
       "             importance_type='gain', learning_rate=0.01, max_delta_step=0,\n",
       "             max_depth=20, min_child_weight=1, missing=None, n_estimators=900,\n",
       "             n_jobs=-1, nthread=None, objective='reg:squarederror',\n",
       "             random_state=12345, reg_alpha=0.01, reg_lambda=0.1,\n",
       "             scale_pos_weight=1, seed=None, silent=None, subsample=1,\n",
       "             verbosity=1)"
      ]
     },
     "execution_count": 80,
     "metadata": {},
     "output_type": "execute_result"
    }
   ],
   "source": [
    "xgbm_model.best_estimator_"
   ]
  },
  {
   "cell_type": "code",
   "execution_count": 81,
   "metadata": {},
   "outputs": [
    {
     "data": {
      "text/plain": [
       "(0.12329903775486102, 0.0096989143541494)"
      ]
     },
     "execution_count": 81,
     "metadata": {},
     "output_type": "execute_result"
    }
   ],
   "source": [
    "# Borra alertas DeprecationWarning\n",
    "warnings.filterwarnings(\"ignore\", category=DeprecationWarning)\n",
    "warnings.filterwarnings(\"ignore\", category=UserWarning)\n",
    "\n",
    "score['XGBm'] = cv_rmse(xgbm_model.best_estimator_, X=X)\n",
    "\n",
    "(score['XGBm'].mean(), score['XGBm'].std())"
   ]
  },
  {
   "cell_type": "code",
   "execution_count": 82,
   "metadata": {},
   "outputs": [
    {
     "name": "stdout",
     "output_type": "stream",
     "text": [
      "----------------------------------------------------------------------------------\n",
      "---------------------------------MODELO XGBm------------------------------------\n",
      "----------------------------------------------------------------------------------\n",
      "\n",
      "TUNEADO\n",
      "Mejor modelo (PARAMETROS):-------------------> {'reg_lambda': 0.1, 'reg_alpha': 0.01, 'n_estimators': 900, 'max_depth': 20, 'learning_rate': 0.01}\n",
      "Tiempo medio de TRAINING---------------------> 4.849578244447708 sg\n",
      "Tiempo medio de SCORING----------------------> 0.015157670259475708 sg\n",
      "Tiempo medio de TRAINING mejor modelo--------> 8.551002025604248 sg\n",
      "\n",
      "PREDICCION DATOS\n",
      "Para datos Train:----------------------------> 0.1498200488090515 sg\n",
      "Para datos Test:-----------------------------> 0.1443899989128113 sg\n",
      "\n",
      "PREDICCION + SCORING DATOS\n",
      "Para datos Train:----------------------------> 0.15625000715255738 sg\n",
      "Para datos Test:-----------------------------> nan sg\n"
     ]
    }
   ],
   "source": [
    "timer.update(resumenModelo(xgbm_model, 'XGBm'))"
   ]
  },
  {
   "cell_type": "markdown",
   "metadata": {},
   "source": [
    "# Support Vector Regressor"
   ]
  },
  {
   "cell_type": "markdown",
   "metadata": {},
   "source": [
    "## Kernell Lineal"
   ]
  },
  {
   "cell_type": "code",
   "execution_count": 83,
   "metadata": {},
   "outputs": [],
   "source": [
    "SVRL = SVR(kernel=\"linear\")"
   ]
  },
  {
   "cell_type": "code",
   "execution_count": 84,
   "metadata": {},
   "outputs": [],
   "source": [
    "SVRL_param = {\"C\": np.linspace(0.0001, 10, 500)}\n",
    "\n",
    "SVRL_grid = RandomizedSearchCV(SVRL, \n",
    "                               SVRL_param,\n",
    "                               n_jobs=-1,\n",
    "                               iid=False,\n",
    "                               cv=kfolds,\n",
    "                               n_iter=N_iter)"
   ]
  },
  {
   "cell_type": "code",
   "execution_count": 85,
   "metadata": {},
   "outputs": [],
   "source": [
    "SVRL_model = SVRL_grid.fit(X, y)"
   ]
  },
  {
   "cell_type": "code",
   "execution_count": 86,
   "metadata": {},
   "outputs": [
    {
     "data": {
      "text/plain": [
       "SVR(C=0.9419743486973948, cache_size=200, coef0=0.0, degree=3, epsilon=0.1,\n",
       "    gamma='auto_deprecated', kernel='linear', max_iter=-1, shrinking=True,\n",
       "    tol=0.001, verbose=False)"
      ]
     },
     "execution_count": 86,
     "metadata": {},
     "output_type": "execute_result"
    }
   ],
   "source": [
    "SVRL_model.best_estimator_"
   ]
  },
  {
   "cell_type": "code",
   "execution_count": 87,
   "metadata": {},
   "outputs": [
    {
     "data": {
      "text/plain": [
       "(0.109876762140935, 0.007947825340154273)"
      ]
     },
     "execution_count": 87,
     "metadata": {},
     "output_type": "execute_result"
    }
   ],
   "source": [
    "# Borra alertas DeprecationWarning\n",
    "warnings.filterwarnings(\"ignore\", category=DeprecationWarning)\n",
    "warnings.filterwarnings(\"ignore\", category=UserWarning)\n",
    "\n",
    "score['SVRL'] = cv_rmse(SVRL_model.best_estimator_, X=X)\n",
    "\n",
    "(score['SVRL'].mean(), score['SVRL'].std())"
   ]
  },
  {
   "cell_type": "code",
   "execution_count": 88,
   "metadata": {},
   "outputs": [
    {
     "name": "stdout",
     "output_type": "stream",
     "text": [
      "----------------------------------------------------------------------------------\n",
      "---------------------------------MODELO SVRL------------------------------------\n",
      "----------------------------------------------------------------------------------\n",
      "\n",
      "TUNEADO\n",
      "Mejor modelo (PARAMETROS):-------------------> {'C': 0.9419743486973948}\n",
      "Tiempo medio de TRAINING---------------------> 3.4690014961719515 sg\n",
      "Tiempo medio de SCORING----------------------> 0.00973581066131592 sg\n",
      "Tiempo medio de TRAINING mejor modelo--------> 0.5360000133514404 sg\n",
      "\n",
      "PREDICCION DATOS\n",
      "Para datos Train:----------------------------> 0.03156994104385376 sg\n",
      "Para datos Test:-----------------------------> 0.03059999942779541 sg\n",
      "\n",
      "PREDICCION + SCORING DATOS\n",
      "Para datos Train:----------------------------> 0.03100026845932007 sg\n",
      "Para datos Test:-----------------------------> nan sg\n"
     ]
    }
   ],
   "source": [
    "timer.update(resumenModelo(SVRL_model, 'SVRL'))"
   ]
  },
  {
   "cell_type": "markdown",
   "metadata": {},
   "source": [
    "## Kernell Polinómico"
   ]
  },
  {
   "cell_type": "code",
   "execution_count": 89,
   "metadata": {},
   "outputs": [],
   "source": [
    "SVRP = SVR(kernel=\"poly\")"
   ]
  },
  {
   "cell_type": "code",
   "execution_count": 90,
   "metadata": {},
   "outputs": [],
   "source": [
    "SVRP_param = {\"C\": np.linspace(0.0001, 10, 50),\n",
    "              \"degree\": [2, 3],\n",
    "              \"gamma\": [0.001, 0.01, 0.1, 1, 10]}\n",
    "\n",
    "SVRP_grid = RandomizedSearchCV(SVRP, \n",
    "                               SVRP_param,\n",
    "                               n_jobs=-1,\n",
    "                               iid=False,\n",
    "                               cv=kfolds,\n",
    "                               n_iter=N_iter)"
   ]
  },
  {
   "cell_type": "code",
   "execution_count": 91,
   "metadata": {},
   "outputs": [],
   "source": [
    "SVRP_model = SVRP_grid.fit(X, y)"
   ]
  },
  {
   "cell_type": "code",
   "execution_count": 92,
   "metadata": {},
   "outputs": [
    {
     "data": {
      "text/plain": [
       "SVR(C=1.6327367346938775, cache_size=200, coef0=0.0, degree=2, epsilon=0.1,\n",
       "    gamma=0.01, kernel='poly', max_iter=-1, shrinking=True, tol=0.001,\n",
       "    verbose=False)"
      ]
     },
     "execution_count": 92,
     "metadata": {},
     "output_type": "execute_result"
    }
   ],
   "source": [
    "SVRP_model.best_estimator_"
   ]
  },
  {
   "cell_type": "code",
   "execution_count": 93,
   "metadata": {},
   "outputs": [
    {
     "data": {
      "text/plain": [
       "(0.11481501321187404, 0.009585415264641718)"
      ]
     },
     "execution_count": 93,
     "metadata": {},
     "output_type": "execute_result"
    }
   ],
   "source": [
    "# Borra alertas DeprecationWarning\n",
    "warnings.filterwarnings(\"ignore\", category=DeprecationWarning)\n",
    "warnings.filterwarnings(\"ignore\", category=UserWarning)\n",
    "\n",
    "score['SVRP'] = cv_rmse(SVRP_model.best_estimator_, X=X)\n",
    "\n",
    "(score['SVRP'].mean(), score['SVRP'].std())"
   ]
  },
  {
   "cell_type": "code",
   "execution_count": 94,
   "metadata": {},
   "outputs": [
    {
     "name": "stdout",
     "output_type": "stream",
     "text": [
      "----------------------------------------------------------------------------------\n",
      "---------------------------------MODELO SVRP------------------------------------\n",
      "----------------------------------------------------------------------------------\n",
      "\n",
      "TUNEADO\n",
      "Mejor modelo (PARAMETROS):-------------------> {'gamma': 0.01, 'degree': 2, 'C': 1.6327367346938775}\n",
      "Tiempo medio de TRAINING---------------------> 5.123257750177384 sg\n",
      "Tiempo medio de SCORING----------------------> 0.01434852123260498 sg\n",
      "Tiempo medio de TRAINING mejor modelo--------> 0.0919952392578125 sg\n",
      "\n",
      "PREDICCION DATOS\n",
      "Para datos Train:----------------------------> 0.037009947299957276 sg\n",
      "Para datos Test:-----------------------------> 0.03717005729675293 sg\n",
      "\n",
      "PREDICCION + SCORING DATOS\n",
      "Para datos Train:----------------------------> 0.03956994771957398 sg\n",
      "Para datos Test:-----------------------------> nan sg\n"
     ]
    }
   ],
   "source": [
    "timer.update(resumenModelo(SVRP_model, 'SVRP'))"
   ]
  },
  {
   "cell_type": "markdown",
   "metadata": {},
   "source": [
    "## Kernel Radial"
   ]
  },
  {
   "cell_type": "code",
   "execution_count": 95,
   "metadata": {},
   "outputs": [],
   "source": [
    "SVRR = SVR(kernel=\"rbf\")"
   ]
  },
  {
   "cell_type": "code",
   "execution_count": 96,
   "metadata": {},
   "outputs": [],
   "source": [
    "SVRR_param = {\"C\": np.linspace(0.0001, 10, 100),\n",
    "              \"gamma\": [0.001, 0.01, 0.1, 1, 10]}"
   ]
  },
  {
   "cell_type": "code",
   "execution_count": 97,
   "metadata": {},
   "outputs": [],
   "source": [
    "SVRR_grid = RandomizedSearchCV(SVRR, \n",
    "                               SVRR_param,\n",
    "                               n_jobs=-1,\n",
    "                               iid=False,\n",
    "                               cv=kfolds,\n",
    "                               n_iter=N_iter)"
   ]
  },
  {
   "cell_type": "code",
   "execution_count": 98,
   "metadata": {},
   "outputs": [],
   "source": [
    "SVRR_model = SVRR_grid.fit(X, y)"
   ]
  },
  {
   "cell_type": "code",
   "execution_count": 99,
   "metadata": {},
   "outputs": [
    {
     "data": {
      "text/plain": [
       "SVR(C=9.090918181818182, cache_size=200, coef0=0.0, degree=3, epsilon=0.1,\n",
       "    gamma=0.001, kernel='rbf', max_iter=-1, shrinking=True, tol=0.001,\n",
       "    verbose=False)"
      ]
     },
     "execution_count": 99,
     "metadata": {},
     "output_type": "execute_result"
    }
   ],
   "source": [
    "SVRR_model.best_estimator_"
   ]
  },
  {
   "cell_type": "code",
   "execution_count": 100,
   "metadata": {},
   "outputs": [
    {
     "data": {
      "text/plain": [
       "(0.11154114114639507, 0.00897036201049407)"
      ]
     },
     "execution_count": 100,
     "metadata": {},
     "output_type": "execute_result"
    }
   ],
   "source": [
    "# Borra alertas DeprecationWarning\n",
    "warnings.filterwarnings(\"ignore\", category=DeprecationWarning)\n",
    "warnings.filterwarnings(\"ignore\", category=UserWarning)\n",
    "\n",
    "score['SVRR'] = cv_rmse(SVRR_model.best_estimator_, X=X)\n",
    "\n",
    "(score['SVRR'].mean(), score['SVRR'].std())"
   ]
  },
  {
   "cell_type": "code",
   "execution_count": 101,
   "metadata": {},
   "outputs": [
    {
     "name": "stdout",
     "output_type": "stream",
     "text": [
      "----------------------------------------------------------------------------------\n",
      "---------------------------------MODELO SVRR------------------------------------\n",
      "----------------------------------------------------------------------------------\n",
      "\n",
      "TUNEADO\n",
      "Mejor modelo (PARAMETROS):-------------------> {'gamma': 0.001, 'C': 9.090918181818182}\n",
      "Tiempo medio de TRAINING---------------------> 0.13511176257133484 sg\n",
      "Tiempo medio de SCORING----------------------> 0.021201945781707768 sg\n",
      "Tiempo medio de TRAINING mejor modelo--------> 0.1119990348815918 sg\n",
      "\n",
      "PREDICCION DATOS\n",
      "Para datos Train:----------------------------> 0.054339962005615236 sg\n",
      "Para datos Test:-----------------------------> 0.05180997610092163 sg\n",
      "\n",
      "PREDICCION + SCORING DATOS\n",
      "Para datos Train:----------------------------> 0.05037006616592407 sg\n",
      "Para datos Test:-----------------------------> nan sg\n"
     ]
    }
   ],
   "source": [
    "timer.update(resumenModelo(SVRR_model, 'SVRR'))"
   ]
  },
  {
   "cell_type": "markdown",
   "metadata": {},
   "source": [
    "# Redes Neuronales"
   ]
  },
  {
   "cell_type": "code",
   "execution_count": 102,
   "metadata": {},
   "outputs": [],
   "source": [
    "NN = MLPRegressor(early_stopping=True, random_state=12345)"
   ]
  },
  {
   "cell_type": "code",
   "execution_count": 103,
   "metadata": {},
   "outputs": [],
   "source": [
    "NN_param = {\"hidden_layer_sizes\": [(10, ), (15, ), (20, )],\n",
    "            \"learning_rate_init\": [0.001, 0.01, 0.1, 1],\n",
    "            \"activation\": ['logistic', 'tanh', 'relu'],\n",
    "            \"alpha\": [0.001, 0.01, 0.1, 1, 10],\n",
    "            \"early_stopping\": [True, False]}\n",
    "\n",
    "NN_grid = RandomizedSearchCV(NN, \n",
    "                             NN_param,\n",
    "                             n_jobs=-1,\n",
    "                             iid=False,\n",
    "                             cv=kfolds,\n",
    "                             n_iter=N_iter)"
   ]
  },
  {
   "cell_type": "code",
   "execution_count": 104,
   "metadata": {},
   "outputs": [],
   "source": [
    "NN_model = NN_grid.fit(X, y)"
   ]
  },
  {
   "cell_type": "code",
   "execution_count": 105,
   "metadata": {},
   "outputs": [
    {
     "data": {
      "text/plain": [
       "MLPRegressor(activation='tanh', alpha=1, batch_size='auto', beta_1=0.9,\n",
       "             beta_2=0.999, early_stopping=False, epsilon=1e-08,\n",
       "             hidden_layer_sizes=(15,), learning_rate='constant',\n",
       "             learning_rate_init=0.01, max_iter=200, momentum=0.9,\n",
       "             n_iter_no_change=10, nesterovs_momentum=True, power_t=0.5,\n",
       "             random_state=12345, shuffle=True, solver='adam', tol=0.0001,\n",
       "             validation_fraction=0.1, verbose=False, warm_start=False)"
      ]
     },
     "execution_count": 105,
     "metadata": {},
     "output_type": "execute_result"
    }
   ],
   "source": [
    "NN_model.best_estimator_"
   ]
  },
  {
   "cell_type": "code",
   "execution_count": 106,
   "metadata": {},
   "outputs": [
    {
     "data": {
      "text/plain": [
       "(0.1274760803225653, 0.010566651537362522)"
      ]
     },
     "execution_count": 106,
     "metadata": {},
     "output_type": "execute_result"
    }
   ],
   "source": [
    "# Borra alertas DeprecationWarning\n",
    "warnings.filterwarnings(\"ignore\", category=DeprecationWarning)\n",
    "warnings.filterwarnings(\"ignore\", category=UserWarning)\n",
    "\n",
    "score['NN'] = cv_rmse(NN_model.best_estimator_, X=X)\n",
    "\n",
    "(score['NN'].mean(), score['NN'].std())"
   ]
  },
  {
   "cell_type": "code",
   "execution_count": 107,
   "metadata": {},
   "outputs": [
    {
     "name": "stdout",
     "output_type": "stream",
     "text": [
      "----------------------------------------------------------------------------------\n",
      "---------------------------------MODELO NN------------------------------------\n",
      "----------------------------------------------------------------------------------\n",
      "\n",
      "TUNEADO\n",
      "Mejor modelo (PARAMETROS):-------------------> {'learning_rate_init': 0.01, 'hidden_layer_sizes': (15,), 'early_stopping': False, 'alpha': 1, 'activation': 'tanh'}\n",
      "Tiempo medio de TRAINING---------------------> 0.6959335011005403 sg\n",
      "Tiempo medio de SCORING----------------------> 0.003143586778640747 sg\n",
      "Tiempo medio de TRAINING mejor modelo--------> 1.1780095100402832 sg\n",
      "\n",
      "PREDICCION DATOS\n",
      "Para datos Train:----------------------------> 0.001750020980834961 sg\n",
      "Para datos Test:-----------------------------> 0.0021500182151794433 sg\n",
      "\n",
      "PREDICCION + SCORING DATOS\n",
      "Para datos Train:----------------------------> 0.002500002384185791 sg\n",
      "Para datos Test:-----------------------------> nan sg\n"
     ]
    }
   ],
   "source": [
    "timer.update(resumenModelo(NN_model, 'NN'))"
   ]
  },
  {
   "cell_type": "markdown",
   "metadata": {},
   "source": [
    "# Ensembles models"
   ]
  },
  {
   "cell_type": "markdown",
   "metadata": {},
   "source": [
    "## Ensemble model 1"
   ]
  },
  {
   "cell_type": "markdown",
   "metadata": {},
   "source": [
    "Se prueban los siguientes estimadores."
   ]
  },
  {
   "cell_type": "code",
   "execution_count": 108,
   "metadata": {},
   "outputs": [],
   "source": [
    "ens1 = [(\"Lasso\", lasso_model.best_estimator_), \n",
    "        (\"Ridge\", ridge_model.best_estimator_)]"
   ]
  },
  {
   "cell_type": "markdown",
   "metadata": {},
   "source": [
    "Los pesos a asignar en este modelo son los que a continuación se definen."
   ]
  },
  {
   "cell_type": "code",
   "execution_count": 109,
   "metadata": {},
   "outputs": [],
   "source": [
    "weights1 = [0.5, 0.5]"
   ]
  },
  {
   "cell_type": "code",
   "execution_count": 110,
   "metadata": {},
   "outputs": [],
   "source": [
    "ensemb1 = VotingRegressor(ens1, weights1, n_jobs=-1)"
   ]
  },
  {
   "cell_type": "code",
   "execution_count": 111,
   "metadata": {},
   "outputs": [],
   "source": [
    "ensemb1_model = ensemb1.fit(X, y)"
   ]
  },
  {
   "cell_type": "code",
   "execution_count": 112,
   "metadata": {},
   "outputs": [
    {
     "data": {
      "text/plain": [
       "(0.11049054656992986, 0.008546094833334506)"
      ]
     },
     "execution_count": 112,
     "metadata": {},
     "output_type": "execute_result"
    }
   ],
   "source": [
    "# Borra alertas DeprecationWarning\n",
    "warnings.filterwarnings(\"ignore\", category=DeprecationWarning)\n",
    "warnings.filterwarnings(\"ignore\", category=UserWarning)\n",
    "\n",
    "score['Ensemb1'] = cv_rmse(ensemb1_model, X=X)\n",
    "\n",
    "(score['Ensemb1'].mean(), score['Ensemb1'].std())"
   ]
  },
  {
   "cell_type": "code",
   "execution_count": 113,
   "metadata": {},
   "outputs": [
    {
     "name": "stdout",
     "output_type": "stream",
     "text": [
      "----------------------------------------------------------------------------------\n",
      "---------------------------------MODELO Ensemb1------------------------------------\n",
      "----------------------------------------------------------------------------------\n",
      "\n",
      "PREDICCION DATOS\n",
      "Para datos Train:----------------------------> 0.005130033493041992 sg\n",
      "Para datos Test:-----------------------------> 0.003700008392333984 sg\n",
      "\n",
      "PREDICCION + SCORING DATOS\n",
      "Para datos Train:----------------------------> 0.002440328598022461 sg\n",
      "Para datos Test:-----------------------------> nan sg\n"
     ]
    }
   ],
   "source": [
    "timer.update(resumenModelo(ensemb1_model, 'Ensemb1', flag=False))"
   ]
  },
  {
   "cell_type": "markdown",
   "metadata": {},
   "source": [
    "## Ensemble model 2"
   ]
  },
  {
   "cell_type": "markdown",
   "metadata": {},
   "source": [
    "Se prueban los siguientes estimadores."
   ]
  },
  {
   "cell_type": "code",
   "execution_count": 114,
   "metadata": {},
   "outputs": [],
   "source": [
    "ens2 = [(\"Lasso\", lasso_model.best_estimator_), \n",
    "        (\"Ridge\", ridge_model.best_estimator_), \n",
    "        (\"Elasticnet\", elasticnet_model.best_estimator_)]"
   ]
  },
  {
   "cell_type": "markdown",
   "metadata": {},
   "source": [
    "Los pesos a asignar en este modelo son los que a continuación se definen."
   ]
  },
  {
   "cell_type": "code",
   "execution_count": 115,
   "metadata": {},
   "outputs": [],
   "source": [
    "weights2 = [0.2, 0.2, 0.6]"
   ]
  },
  {
   "cell_type": "code",
   "execution_count": 116,
   "metadata": {},
   "outputs": [],
   "source": [
    "ensemb2 = VotingRegressor(ens2, weights2, n_jobs=-1)"
   ]
  },
  {
   "cell_type": "code",
   "execution_count": 117,
   "metadata": {},
   "outputs": [],
   "source": [
    "ensemb2_model = ensemb2.fit(X, y)"
   ]
  },
  {
   "cell_type": "code",
   "execution_count": 118,
   "metadata": {},
   "outputs": [
    {
     "name": "stdout",
     "output_type": "stream",
     "text": [
      "----------------------------------------------------------------------------------\n",
      "---------------------------------MODELO Ensemb1------------------------------------\n",
      "----------------------------------------------------------------------------------\n",
      "\n",
      "PREDICCION DATOS\n",
      "Para datos Train:----------------------------> 0.0024700498580932616 sg\n",
      "Para datos Test:-----------------------------> 0.0020399403572082518 sg\n",
      "\n",
      "PREDICCION + SCORING DATOS\n",
      "Para datos Train:----------------------------> 0.0024900054931640625 sg\n",
      "Para datos Test:-----------------------------> nan sg\n"
     ]
    },
    {
     "data": {
      "text/plain": [
       "(0.10894238652329102, 0.008103677297604967)"
      ]
     },
     "execution_count": 118,
     "metadata": {},
     "output_type": "execute_result"
    }
   ],
   "source": [
    "# Borra alertas DeprecationWarning\n",
    "warnings.filterwarnings(\"ignore\", category=DeprecationWarning)\n",
    "warnings.filterwarnings(\"ignore\", category=UserWarning)\n",
    "\n",
    "score['Ensemb2'] = cv_rmse(ensemb2_model, X=X)\n",
    "timer.update(resumenModelo(ensemb1_model, 'Ensemb1', flag=False))\n",
    "(score['Ensemb2'].mean(), score['Ensemb2'].std())"
   ]
  },
  {
   "cell_type": "code",
   "execution_count": 119,
   "metadata": {},
   "outputs": [
    {
     "name": "stdout",
     "output_type": "stream",
     "text": [
      "----------------------------------------------------------------------------------\n",
      "---------------------------------MODELO Ensemb2------------------------------------\n",
      "----------------------------------------------------------------------------------\n",
      "\n",
      "PREDICCION DATOS\n",
      "Para datos Train:----------------------------> 0.005380008220672607 sg\n",
      "Para datos Test:-----------------------------> 0.005590007305145263 sg\n",
      "\n",
      "PREDICCION + SCORING DATOS\n",
      "Para datos Train:----------------------------> 0.003990011215209961 sg\n",
      "Para datos Test:-----------------------------> nan sg\n"
     ]
    }
   ],
   "source": [
    "timer.update(resumenModelo(ensemb2_model, 'Ensemb2', flag=False))"
   ]
  },
  {
   "cell_type": "markdown",
   "metadata": {},
   "source": [
    "## Ensemble model 3"
   ]
  },
  {
   "cell_type": "markdown",
   "metadata": {},
   "source": [
    "Se prueban los siguientes estimadores."
   ]
  },
  {
   "cell_type": "code",
   "execution_count": 120,
   "metadata": {},
   "outputs": [],
   "source": [
    "ens3 = [(\"Lasso\", lasso_model.best_estimator_), \n",
    "        (\"Ridge\", ridge_model.best_estimator_), \n",
    "        (\"Elasticnet\", elasticnet_model.best_estimator_),\n",
    "       (\"SVRL\", SVRL_model.best_estimator_)]"
   ]
  },
  {
   "cell_type": "markdown",
   "metadata": {},
   "source": [
    "Los pesos a asignar en este modelo son los que a continuación se definen."
   ]
  },
  {
   "cell_type": "code",
   "execution_count": 121,
   "metadata": {},
   "outputs": [],
   "source": [
    "weights3 = [0.2, 0.2, 0.4, 0.2]"
   ]
  },
  {
   "cell_type": "code",
   "execution_count": 122,
   "metadata": {},
   "outputs": [],
   "source": [
    "ensemb3 = VotingRegressor(ens3, weights3, n_jobs=-1)"
   ]
  },
  {
   "cell_type": "code",
   "execution_count": 123,
   "metadata": {},
   "outputs": [],
   "source": [
    "ensemb3_model = ensemb3.fit(X, y)"
   ]
  },
  {
   "cell_type": "code",
   "execution_count": 124,
   "metadata": {},
   "outputs": [
    {
     "data": {
      "text/plain": [
       "(0.1088974281204038, 0.008133816719605893)"
      ]
     },
     "execution_count": 124,
     "metadata": {},
     "output_type": "execute_result"
    }
   ],
   "source": [
    "# Borra alertas DeprecationWarning\n",
    "warnings.filterwarnings(\"ignore\", category=DeprecationWarning)\n",
    "warnings.filterwarnings(\"ignore\", category=UserWarning)\n",
    "\n",
    "score['Ensemb3'] = cv_rmse(ensemb3_model, X=X)\n",
    "\n",
    "(score['Ensemb3'].mean(), score['Ensemb3'].std())"
   ]
  },
  {
   "cell_type": "code",
   "execution_count": 125,
   "metadata": {},
   "outputs": [
    {
     "name": "stdout",
     "output_type": "stream",
     "text": [
      "----------------------------------------------------------------------------------\n",
      "---------------------------------MODELO Ensemb3------------------------------------\n",
      "----------------------------------------------------------------------------------\n",
      "\n",
      "PREDICCION DATOS\n",
      "Para datos Train:----------------------------> 0.03890016555786133 sg\n",
      "Para datos Test:-----------------------------> 0.038810575008392335 sg\n",
      "\n",
      "PREDICCION + SCORING DATOS\n",
      "Para datos Train:----------------------------> 0.03990994691848755 sg\n",
      "Para datos Test:-----------------------------> nan sg\n"
     ]
    }
   ],
   "source": [
    "timer.update(resumenModelo(ensemb3_model, 'Ensemb3', flag=False))"
   ]
  },
  {
   "cell_type": "markdown",
   "metadata": {},
   "source": [
    "## Ensemble model 4"
   ]
  },
  {
   "cell_type": "markdown",
   "metadata": {},
   "source": [
    "Se prueban los siguientes estimadores."
   ]
  },
  {
   "cell_type": "code",
   "execution_count": 126,
   "metadata": {},
   "outputs": [],
   "source": [
    "ens4 = [(\"Lasso\", lasso_model.best_estimator_), \n",
    "        (\"Ridge\", ridge_model.best_estimator_), \n",
    "        (\"Elasticnet\", elasticnet_model.best_estimator_),\n",
    "        (\"SVRL\", SVRL_model.best_estimator_),\n",
    "        (\"Gbm\", gbm_model.best_estimator_)]"
   ]
  },
  {
   "cell_type": "markdown",
   "metadata": {},
   "source": [
    "Los pesos a asignar en este modelo son los que a continuación se definen."
   ]
  },
  {
   "cell_type": "code",
   "execution_count": 127,
   "metadata": {},
   "outputs": [],
   "source": [
    "weights4 = [0.2, 0.2, 0.2, 0.2, 0.2]"
   ]
  },
  {
   "cell_type": "code",
   "execution_count": 128,
   "metadata": {},
   "outputs": [],
   "source": [
    "ensemb4 = VotingRegressor(ens4, weights4, n_jobs=-1)"
   ]
  },
  {
   "cell_type": "code",
   "execution_count": 129,
   "metadata": {},
   "outputs": [],
   "source": [
    "ensemb4_model = ensemb4.fit(X, y)"
   ]
  },
  {
   "cell_type": "code",
   "execution_count": 130,
   "metadata": {},
   "outputs": [
    {
     "data": {
      "text/plain": [
       "(0.10808821332391601, 0.008414007488681765)"
      ]
     },
     "execution_count": 130,
     "metadata": {},
     "output_type": "execute_result"
    }
   ],
   "source": [
    "# Borra alertas DeprecationWarning\n",
    "warnings.filterwarnings(\"ignore\", category=DeprecationWarning)\n",
    "warnings.filterwarnings(\"ignore\", category=UserWarning)\n",
    "\n",
    "score['Ensemb4'] = cv_rmse(ensemb4_model, X=X)\n",
    "\n",
    "(score['Ensemb4'].mean(), score['Ensemb4'].std())"
   ]
  },
  {
   "cell_type": "code",
   "execution_count": 131,
   "metadata": {},
   "outputs": [
    {
     "name": "stdout",
     "output_type": "stream",
     "text": [
      "----------------------------------------------------------------------------------\n",
      "---------------------------------MODELO Ensemb4------------------------------------\n",
      "----------------------------------------------------------------------------------\n",
      "\n",
      "PREDICCION DATOS\n",
      "Para datos Train:----------------------------> 0.10426995277404785 sg\n",
      "Para datos Test:-----------------------------> 0.1008601975440979 sg\n",
      "\n",
      "PREDICCION + SCORING DATOS\n",
      "Para datos Train:----------------------------> 0.11140982151031494 sg\n",
      "Para datos Test:-----------------------------> nan sg\n"
     ]
    }
   ],
   "source": [
    "timer.update(resumenModelo(ensemb4_model, 'Ensemb4', flag=False))"
   ]
  },
  {
   "cell_type": "markdown",
   "metadata": {},
   "source": [
    "# Stacking models"
   ]
  },
  {
   "cell_type": "markdown",
   "metadata": {},
   "source": [
    "## Stack Model 1"
   ]
  },
  {
   "cell_type": "markdown",
   "metadata": {},
   "source": [
    "Se prueban los siguientes estimadores."
   ]
  },
  {
   "cell_type": "code",
   "execution_count": 132,
   "metadata": {},
   "outputs": [],
   "source": [
    "stack_reg1= [lasso_model.best_estimator_, ridge_model.best_estimator_, SVRL_model.best_estimator_]"
   ]
  },
  {
   "cell_type": "code",
   "execution_count": 133,
   "metadata": {},
   "outputs": [],
   "source": [
    "stack1 = StackingCVRegressor(regressors=stack_reg1, \n",
    "                   meta_regressor=RANSAC_model.best_estimator_, random_state=12345, n_jobs=-1, cv=10)"
   ]
  },
  {
   "cell_type": "code",
   "execution_count": 134,
   "metadata": {},
   "outputs": [],
   "source": [
    "stack1_model = stack1.fit(X, y)"
   ]
  },
  {
   "cell_type": "code",
   "execution_count": 135,
   "metadata": {},
   "outputs": [
    {
     "data": {
      "text/plain": [
       "(0.10944604270684336, 0.008225494350282386)"
      ]
     },
     "execution_count": 135,
     "metadata": {},
     "output_type": "execute_result"
    }
   ],
   "source": [
    "# Borra alertas DeprecationWarning\n",
    "warnings.filterwarnings(\"ignore\", category=DeprecationWarning)\n",
    "warnings.filterwarnings(\"ignore\", category=UserWarning)\n",
    "\n",
    "score['Stack1'] = cv_rmse(stack1_model, X=X)\n",
    "\n",
    "(score['Stack1'].mean(), score['Stack1'].std())"
   ]
  },
  {
   "cell_type": "code",
   "execution_count": 157,
   "metadata": {},
   "outputs": [
    {
     "name": "stdout",
     "output_type": "stream",
     "text": [
      "----------------------------------------------------------------------------------\n",
      "---------------------------------MODELO Stack1------------------------------------\n",
      "----------------------------------------------------------------------------------\n",
      "\n",
      "PREDICCION DATOS\n",
      "Para datos Train:----------------------------> 0.05406996011734009 sg\n",
      "Para datos Test:-----------------------------> 0.05199999094009399 sg\n",
      "\n",
      "PREDICCION + SCORING DATOS\n",
      "Para datos Train:----------------------------> 0.052290091514587404 sg\n",
      "Para datos Test:-----------------------------> nan sg\n"
     ]
    }
   ],
   "source": [
    "timer.update(resumenModelo(stack1_model, 'Stack1', flag=False))"
   ]
  },
  {
   "cell_type": "markdown",
   "metadata": {},
   "source": [
    "## Stack Model 2"
   ]
  },
  {
   "cell_type": "markdown",
   "metadata": {},
   "source": [
    "Se prueban los siguientes estimadores."
   ]
  },
  {
   "cell_type": "code",
   "execution_count": 137,
   "metadata": {},
   "outputs": [],
   "source": [
    "stack_reg2= [ridge_model.best_estimator_, SVRL_model.best_estimator_]"
   ]
  },
  {
   "cell_type": "code",
   "execution_count": 138,
   "metadata": {},
   "outputs": [],
   "source": [
    "stack2 = StackingCVRegressor(regressors=stack_reg2, \n",
    "                   meta_regressor=lasso_model.best_estimator_, random_state=12345, n_jobs=-1, cv=10)"
   ]
  },
  {
   "cell_type": "code",
   "execution_count": 139,
   "metadata": {},
   "outputs": [],
   "source": [
    "stack2_model = stack2.fit(X, y)"
   ]
  },
  {
   "cell_type": "code",
   "execution_count": 140,
   "metadata": {},
   "outputs": [
    {
     "data": {
      "text/plain": [
       "(0.10926533423026333, 0.007899615677026196)"
      ]
     },
     "execution_count": 140,
     "metadata": {},
     "output_type": "execute_result"
    }
   ],
   "source": [
    "# Borra alertas DeprecationWarning\n",
    "warnings.filterwarnings(\"ignore\", category=DeprecationWarning)\n",
    "warnings.filterwarnings(\"ignore\", category=UserWarning)\n",
    "\n",
    "score['Stack2'] = cv_rmse(stack2_model, X=X)\n",
    "\n",
    "(score['Stack2'].mean(), score['Stack2'].std())"
   ]
  },
  {
   "cell_type": "code",
   "execution_count": 141,
   "metadata": {},
   "outputs": [
    {
     "name": "stdout",
     "output_type": "stream",
     "text": [
      "----------------------------------------------------------------------------------\n",
      "---------------------------------MODELO Stack2------------------------------------\n",
      "----------------------------------------------------------------------------------\n",
      "\n",
      "PREDICCION DATOS\n",
      "Para datos Train:----------------------------> 0.036979970932006834 sg\n",
      "Para datos Test:-----------------------------> 0.0367599892616272 sg\n",
      "\n",
      "PREDICCION + SCORING DATOS\n",
      "Para datos Train:----------------------------> 0.03675999879837036 sg\n",
      "Para datos Test:-----------------------------> nan sg\n"
     ]
    }
   ],
   "source": [
    "timer.update(resumenModelo(stack2_model, 'Stack2', flag=False))"
   ]
  },
  {
   "cell_type": "markdown",
   "metadata": {},
   "source": [
    "## Stack Model 3"
   ]
  },
  {
   "cell_type": "markdown",
   "metadata": {},
   "source": [
    "Se prueban los siguientes estimadores."
   ]
  },
  {
   "cell_type": "code",
   "execution_count": 142,
   "metadata": {},
   "outputs": [],
   "source": [
    "stack_reg3= [ridge_model.best_estimator_, SVRL_model.best_estimator_, elasticnet_model.best_estimator_]"
   ]
  },
  {
   "cell_type": "code",
   "execution_count": 143,
   "metadata": {},
   "outputs": [],
   "source": [
    "stack3 = StackingCVRegressor(regressors=stack_reg3, \n",
    "                   meta_regressor=lasso_model.best_estimator_, random_state=12345, n_jobs=-1, cv=10)"
   ]
  },
  {
   "cell_type": "code",
   "execution_count": 144,
   "metadata": {},
   "outputs": [],
   "source": [
    "stack3_model = stack3.fit(X, y)"
   ]
  },
  {
   "cell_type": "code",
   "execution_count": 145,
   "metadata": {},
   "outputs": [
    {
     "data": {
      "text/plain": [
       "(0.10926532994048058, 0.007899614340985288)"
      ]
     },
     "execution_count": 145,
     "metadata": {},
     "output_type": "execute_result"
    }
   ],
   "source": [
    "# Borra alertas DeprecationWarning\n",
    "warnings.filterwarnings(\"ignore\", category=DeprecationWarning)\n",
    "warnings.filterwarnings(\"ignore\", category=UserWarning)\n",
    "\n",
    "score['Stack3'] = cv_rmse(stack3_model, X=X)\n",
    "\n",
    "(score['Stack3'].mean(), score['Stack3'].std())"
   ]
  },
  {
   "cell_type": "code",
   "execution_count": 155,
   "metadata": {},
   "outputs": [
    {
     "name": "stdout",
     "output_type": "stream",
     "text": [
      "----------------------------------------------------------------------------------\n",
      "---------------------------------MODELO Stack3------------------------------------\n",
      "----------------------------------------------------------------------------------\n",
      "\n",
      "PREDICCION DATOS\n",
      "Para datos Train:----------------------------> 0.06054022789001465 sg\n",
      "Para datos Test:-----------------------------> 0.05272995948791504 sg\n",
      "\n",
      "PREDICCION + SCORING DATOS\n",
      "Para datos Train:----------------------------> 0.05061035633087158 sg\n",
      "Para datos Test:-----------------------------> nan sg\n"
     ]
    }
   ],
   "source": [
    "timer.update(resumenModelo(stack3_model, 'Stack3', flag=False))"
   ]
  },
  {
   "cell_type": "markdown",
   "metadata": {},
   "source": [
    "## Stack Model 4"
   ]
  },
  {
   "cell_type": "markdown",
   "metadata": {},
   "source": [
    "Se prueban los siguientes estimadores."
   ]
  },
  {
   "cell_type": "code",
   "execution_count": 147,
   "metadata": {},
   "outputs": [],
   "source": [
    "stack_reg4= [ridge_model.best_estimator_, SVRL_model.best_estimator_, elasticnet_model.best_estimator_,\n",
    "            lasso_model.best_estimator_]"
   ]
  },
  {
   "cell_type": "code",
   "execution_count": 148,
   "metadata": {},
   "outputs": [],
   "source": [
    "stack4 = StackingCVRegressor(regressors=stack_reg4, \n",
    "                   meta_regressor=gbm_model.best_estimator_, random_state=12345, n_jobs=-1, cv=10)"
   ]
  },
  {
   "cell_type": "code",
   "execution_count": 149,
   "metadata": {},
   "outputs": [],
   "source": [
    "stack4_model = stack4.fit(X, y)"
   ]
  },
  {
   "cell_type": "code",
   "execution_count": 150,
   "metadata": {},
   "outputs": [
    {
     "data": {
      "text/plain": [
       "(0.11916370015050314, 0.007732487746525283)"
      ]
     },
     "execution_count": 150,
     "metadata": {},
     "output_type": "execute_result"
    }
   ],
   "source": [
    "# Borra alertas DeprecationWarning\n",
    "warnings.filterwarnings(\"ignore\", category=DeprecationWarning)\n",
    "warnings.filterwarnings(\"ignore\", category=UserWarning)\n",
    "\n",
    "score['Stack4'] = cv_rmse(stack4_model, X=X)\n",
    "\n",
    "(score['Stack4'].mean(), score['Stack4'].std())"
   ]
  },
  {
   "cell_type": "code",
   "execution_count": 156,
   "metadata": {},
   "outputs": [
    {
     "name": "stdout",
     "output_type": "stream",
     "text": [
      "----------------------------------------------------------------------------------\n",
      "---------------------------------MODELO Stack4------------------------------------\n",
      "----------------------------------------------------------------------------------\n",
      "\n",
      "PREDICCION DATOS\n",
      "Para datos Train:----------------------------> 0.12215998172760009 sg\n",
      "Para datos Test:-----------------------------> 0.12670000791549682 sg\n",
      "\n",
      "PREDICCION + SCORING DATOS\n",
      "Para datos Train:----------------------------> 0.12968001127243042 sg\n",
      "Para datos Test:-----------------------------> nan sg\n"
     ]
    }
   ],
   "source": [
    "timer.update(resumenModelo(stack4_model, 'Stack4', flag=False))"
   ]
  },
  {
   "cell_type": "markdown",
   "metadata": {},
   "source": [
    "# BoxPlots"
   ]
  },
  {
   "cell_type": "code",
   "execution_count": 19,
   "metadata": {},
   "outputs": [],
   "source": [
    "rank= pd.DataFrame(score).median().sort_values().index\n",
    "dfBox = pd.DataFrame(score)[rank]"
   ]
  },
  {
   "cell_type": "code",
   "execution_count": 20,
   "metadata": {},
   "outputs": [
    {
     "data": {
      "image/png": "[encoded data removed]",
      "text/plain": [
       "<Figure size 1440x576 with 1 Axes>"
      ]
     },
     "metadata": {
      "needs_background": "light"
     },
     "output_type": "display_data"
    }
   ],
   "source": [
    "dfBox.plot(kind=\"box\", figsize=(20,8));\n",
    "plt.xticks(rotation=90);"
   ]
  },
  {
   "cell_type": "code",
   "execution_count": 24,
   "metadata": {},
   "outputs": [
    {
     "data": {
      "image/png": "[encoded data removed]",
      "text/plain": [
       "<Figure size 1440x576 with 1 Axes>"
      ]
     },
     "metadata": {
      "needs_background": "light"
     },
     "output_type": "display_data"
    }
   ],
   "source": [
    "dfBox.plot(kind=\"box\", figsize=(20,8), ylim =(0, 0.3), title=\"Box Plot (59 variables)\");\n",
    "plt.xticks(rotation=90);"
   ]
  },
  {
   "cell_type": "code",
   "execution_count": 26,
   "metadata": {},
   "outputs": [
    {
     "data": {
      "image/png": "[encoded data removed]",
      "text/plain": [
       "<Figure size 1440x576 with 1 Axes>"
      ]
     },
     "metadata": {
      "needs_background": "light"
     },
     "output_type": "display_data"
    }
   ],
   "source": [
    "dfBox.iloc[:, :15].plot(kind=\"box\", figsize=(20,8), \\\n",
    "                        ylim =(0,0.2), title=\"Box Plot. Ranking 15 mejores modelos según mediana (59 variables)\");\n",
    "plt.xticks(rotation=90);"
   ]
  },
  {
   "cell_type": "code",
   "execution_count": 27,
   "metadata": {},
   "outputs": [
    {
     "data": {
      "text/html": [
       "<div>\n",
       "<style scoped>\n",
       "    .dataframe tbody tr th:only-of-type {\n",
       "        vertical-align: middle;\n",
       "    }\n",
       "\n",
       "    .dataframe tbody tr th {\n",
       "        vertical-align: top;\n",
       "    }\n",
       "\n",
       "    .dataframe thead th {\n",
       "        text-align: right;\n",
       "    }\n",
       "</style>\n",
       "<table border=\"1\" class=\"dataframe\">\n",
       "  <thead>\n",
       "    <tr style=\"text-align: right;\">\n",
       "      <th></th>\n",
       "      <th>Mediana</th>\n",
       "      <th>Rank Mediana</th>\n",
       "      <th>Media</th>\n",
       "      <th>Rank Media</th>\n",
       "      <th>Std</th>\n",
       "      <th>Rank Std</th>\n",
       "    </tr>\n",
       "  </thead>\n",
       "  <tbody>\n",
       "    <tr>\n",
       "      <th>Ensemb4</th>\n",
       "      <td>0.108730</td>\n",
       "      <td>1.0</td>\n",
       "      <td>1.080882e-01</td>\n",
       "      <td>1.0</td>\n",
       "      <td>8.499431e-03</td>\n",
       "      <td>10.0</td>\n",
       "    </tr>\n",
       "    <tr>\n",
       "      <th>Ensemb3</th>\n",
       "      <td>0.109703</td>\n",
       "      <td>2.0</td>\n",
       "      <td>1.088974e-01</td>\n",
       "      <td>2.0</td>\n",
       "      <td>8.216396e-03</td>\n",
       "      <td>8.0</td>\n",
       "    </tr>\n",
       "    <tr>\n",
       "      <th>Ensemb2</th>\n",
       "      <td>0.109705</td>\n",
       "      <td>3.0</td>\n",
       "      <td>1.089424e-01</td>\n",
       "      <td>3.0</td>\n",
       "      <td>8.185950e-03</td>\n",
       "      <td>7.0</td>\n",
       "    </tr>\n",
       "    <tr>\n",
       "      <th>Ensemb1</th>\n",
       "      <td>0.109763</td>\n",
       "      <td>4.0</td>\n",
       "      <td>1.104905e-01</td>\n",
       "      <td>10.0</td>\n",
       "      <td>8.632859e-03</td>\n",
       "      <td>11.0</td>\n",
       "    </tr>\n",
       "    <tr>\n",
       "      <th>Elasticnet</th>\n",
       "      <td>0.109825</td>\n",
       "      <td>5.0</td>\n",
       "      <td>1.091317e-01</td>\n",
       "      <td>5.0</td>\n",
       "      <td>7.883684e-03</td>\n",
       "      <td>3.0</td>\n",
       "    </tr>\n",
       "    <tr>\n",
       "      <th>Ridge</th>\n",
       "      <td>0.109994</td>\n",
       "      <td>6.0</td>\n",
       "      <td>1.091317e-01</td>\n",
       "      <td>4.0</td>\n",
       "      <td>7.855448e-03</td>\n",
       "      <td>2.0</td>\n",
       "    </tr>\n",
       "    <tr>\n",
       "      <th>Stack2</th>\n",
       "      <td>0.110084</td>\n",
       "      <td>7.5</td>\n",
       "      <td>1.092653e-01</td>\n",
       "      <td>7.0</td>\n",
       "      <td>7.979817e-03</td>\n",
       "      <td>5.0</td>\n",
       "    </tr>\n",
       "    <tr>\n",
       "      <th>Stack3</th>\n",
       "      <td>0.110084</td>\n",
       "      <td>7.5</td>\n",
       "      <td>1.092653e-01</td>\n",
       "      <td>6.0</td>\n",
       "      <td>7.979816e-03</td>\n",
       "      <td>4.0</td>\n",
       "    </tr>\n",
       "    <tr>\n",
       "      <th>Stack1</th>\n",
       "      <td>0.110325</td>\n",
       "      <td>9.0</td>\n",
       "      <td>1.094460e-01</td>\n",
       "      <td>8.0</td>\n",
       "      <td>8.309004e-03</td>\n",
       "      <td>9.0</td>\n",
       "    </tr>\n",
       "    <tr>\n",
       "      <th>SVRR</th>\n",
       "      <td>0.110401</td>\n",
       "      <td>10.0</td>\n",
       "      <td>1.115411e-01</td>\n",
       "      <td>11.0</td>\n",
       "      <td>9.061434e-03</td>\n",
       "      <td>12.0</td>\n",
       "    </tr>\n",
       "    <tr>\n",
       "      <th>lr</th>\n",
       "      <td>0.110547</td>\n",
       "      <td>11.0</td>\n",
       "      <td>8.661815e+09</td>\n",
       "      <td>24.0</td>\n",
       "      <td>4.286648e+10</td>\n",
       "      <td>25.0</td>\n",
       "    </tr>\n",
       "    <tr>\n",
       "      <th>SVRL</th>\n",
       "      <td>0.111203</td>\n",
       "      <td>12.0</td>\n",
       "      <td>1.098768e-01</td>\n",
       "      <td>9.0</td>\n",
       "      <td>8.028516e-03</td>\n",
       "      <td>6.0</td>\n",
       "    </tr>\n",
       "    <tr>\n",
       "      <th>SVRP</th>\n",
       "      <td>0.114156</td>\n",
       "      <td>13.0</td>\n",
       "      <td>1.148150e-01</td>\n",
       "      <td>12.0</td>\n",
       "      <td>9.682732e-03</td>\n",
       "      <td>17.0</td>\n",
       "    </tr>\n",
       "    <tr>\n",
       "      <th>Lars</th>\n",
       "      <td>0.116941</td>\n",
       "      <td>14.0</td>\n",
       "      <td>1.190299e-01</td>\n",
       "      <td>15.0</td>\n",
       "      <td>1.553408e-02</td>\n",
       "      <td>22.0</td>\n",
       "    </tr>\n",
       "    <tr>\n",
       "      <th>Gbm</th>\n",
       "      <td>0.117409</td>\n",
       "      <td>15.0</td>\n",
       "      <td>1.168851e-01</td>\n",
       "      <td>13.0</td>\n",
       "      <td>9.135566e-03</td>\n",
       "      <td>13.0</td>\n",
       "    </tr>\n",
       "    <tr>\n",
       "      <th>Lasso</th>\n",
       "      <td>0.117631</td>\n",
       "      <td>16.0</td>\n",
       "      <td>1.178762e-01</td>\n",
       "      <td>14.0</td>\n",
       "      <td>9.307056e-03</td>\n",
       "      <td>15.0</td>\n",
       "    </tr>\n",
       "    <tr>\n",
       "      <th>Stack4</th>\n",
       "      <td>0.119217</td>\n",
       "      <td>17.0</td>\n",
       "      <td>1.191637e-01</td>\n",
       "      <td>16.0</td>\n",
       "      <td>7.810992e-03</td>\n",
       "      <td>1.0</td>\n",
       "    </tr>\n",
       "    <tr>\n",
       "      <th>RANSAC</th>\n",
       "      <td>0.121752</td>\n",
       "      <td>18.0</td>\n",
       "      <td>1.152189e+10</td>\n",
       "      <td>25.0</td>\n",
       "      <td>2.530012e+10</td>\n",
       "      <td>24.0</td>\n",
       "    </tr>\n",
       "    <tr>\n",
       "      <th>XGBm</th>\n",
       "      <td>0.123940</td>\n",
       "      <td>19.0</td>\n",
       "      <td>1.232990e-01</td>\n",
       "      <td>17.0</td>\n",
       "      <td>9.797383e-03</td>\n",
       "      <td>18.0</td>\n",
       "    </tr>\n",
       "    <tr>\n",
       "      <th>NN</th>\n",
       "      <td>0.124257</td>\n",
       "      <td>20.0</td>\n",
       "      <td>1.274761e-01</td>\n",
       "      <td>19.0</td>\n",
       "      <td>1.067393e-02</td>\n",
       "      <td>20.0</td>\n",
       "    </tr>\n",
       "    <tr>\n",
       "      <th>LGBm</th>\n",
       "      <td>0.126944</td>\n",
       "      <td>21.0</td>\n",
       "      <td>1.261434e-01</td>\n",
       "      <td>18.0</td>\n",
       "      <td>9.158374e-03</td>\n",
       "      <td>14.0</td>\n",
       "    </tr>\n",
       "    <tr>\n",
       "      <th>ExT</th>\n",
       "      <td>0.128160</td>\n",
       "      <td>22.0</td>\n",
       "      <td>1.289526e-01</td>\n",
       "      <td>20.0</td>\n",
       "      <td>9.576622e-03</td>\n",
       "      <td>16.0</td>\n",
       "    </tr>\n",
       "    <tr>\n",
       "      <th>RF</th>\n",
       "      <td>0.129702</td>\n",
       "      <td>23.0</td>\n",
       "      <td>1.293698e-01</td>\n",
       "      <td>21.0</td>\n",
       "      <td>1.045034e-02</td>\n",
       "      <td>19.0</td>\n",
       "    </tr>\n",
       "    <tr>\n",
       "      <th>SGD</th>\n",
       "      <td>0.179586</td>\n",
       "      <td>24.0</td>\n",
       "      <td>1.794466e-01</td>\n",
       "      <td>22.0</td>\n",
       "      <td>1.219192e-02</td>\n",
       "      <td>21.0</td>\n",
       "    </tr>\n",
       "    <tr>\n",
       "      <th>Huber</th>\n",
       "      <td>0.345704</td>\n",
       "      <td>25.0</td>\n",
       "      <td>3.432315e-01</td>\n",
       "      <td>23.0</td>\n",
       "      <td>8.738009e-02</td>\n",
       "      <td>23.0</td>\n",
       "    </tr>\n",
       "  </tbody>\n",
       "</table>\n",
       "</div>"
      ],
      "text/plain": [
       "             Mediana  Rank Mediana         Media  Rank Media           Std  \\\n",
       "Ensemb4     0.108730           1.0  1.080882e-01         1.0  8.499431e-03   \n",
       "Ensemb3     0.109703           2.0  1.088974e-01         2.0  8.216396e-03   \n",
       "Ensemb2     0.109705           3.0  1.089424e-01         3.0  8.185950e-03   \n",
       "Ensemb1     0.109763           4.0  1.104905e-01        10.0  8.632859e-03   \n",
       "Elasticnet  0.109825           5.0  1.091317e-01         5.0  7.883684e-03   \n",
       "Ridge       0.109994           6.0  1.091317e-01         4.0  7.855448e-03   \n",
       "Stack2      0.110084           7.5  1.092653e-01         7.0  7.979817e-03   \n",
       "Stack3      0.110084           7.5  1.092653e-01         6.0  7.979816e-03   \n",
       "Stack1      0.110325           9.0  1.094460e-01         8.0  8.309004e-03   \n",
       "SVRR        0.110401          10.0  1.115411e-01        11.0  9.061434e-03   \n",
       "lr          0.110547          11.0  8.661815e+09        24.0  4.286648e+10   \n",
       "SVRL        0.111203          12.0  1.098768e-01         9.0  8.028516e-03   \n",
       "SVRP        0.114156          13.0  1.148150e-01        12.0  9.682732e-03   \n",
       "Lars        0.116941          14.0  1.190299e-01        15.0  1.553408e-02   \n",
       "Gbm         0.117409          15.0  1.168851e-01        13.0  9.135566e-03   \n",
       "Lasso       0.117631          16.0  1.178762e-01        14.0  9.307056e-03   \n",
       "Stack4      0.119217          17.0  1.191637e-01        16.0  7.810992e-03   \n",
       "RANSAC      0.121752          18.0  1.152189e+10        25.0  2.530012e+10   \n",
       "XGBm        0.123940          19.0  1.232990e-01        17.0  9.797383e-03   \n",
       "NN          0.124257          20.0  1.274761e-01        19.0  1.067393e-02   \n",
       "LGBm        0.126944          21.0  1.261434e-01        18.0  9.158374e-03   \n",
       "ExT         0.128160          22.0  1.289526e-01        20.0  9.576622e-03   \n",
       "RF          0.129702          23.0  1.293698e-01        21.0  1.045034e-02   \n",
       "SGD         0.179586          24.0  1.794466e-01        22.0  1.219192e-02   \n",
       "Huber       0.345704          25.0  3.432315e-01        23.0  8.738009e-02   \n",
       "\n",
       "            Rank Std  \n",
       "Ensemb4         10.0  \n",
       "Ensemb3          8.0  \n",
       "Ensemb2          7.0  \n",
       "Ensemb1         11.0  \n",
       "Elasticnet       3.0  \n",
       "Ridge            2.0  \n",
       "Stack2           5.0  \n",
       "Stack3           4.0  \n",
       "Stack1           9.0  \n",
       "SVRR            12.0  \n",
       "lr              25.0  \n",
       "SVRL             6.0  \n",
       "SVRP            17.0  \n",
       "Lars            22.0  \n",
       "Gbm             13.0  \n",
       "Lasso           15.0  \n",
       "Stack4           1.0  \n",
       "RANSAC          24.0  \n",
       "XGBm            18.0  \n",
       "NN              20.0  \n",
       "LGBm            14.0  \n",
       "ExT             16.0  \n",
       "RF              19.0  \n",
       "SGD             21.0  \n",
       "Huber           23.0  "
      ]
     },
     "execution_count": 27,
     "metadata": {},
     "output_type": "execute_result"
    }
   ],
   "source": [
    "# Se crea un dataframe con los siguientes estadíticos\n",
    "stats_ = pd.DataFrame([dfBox.median(), dfBox.median().rank(), \n",
    "                       dfBox.mean(), dfBox.mean().rank(), \n",
    "                       dfBox.std(), dfBox.std().rank()]).T\n",
    "stats_.columns = [\"Mediana\", \"Rank Mediana\", \"Media\",  \"Rank Media\", \"Std\",  \"Rank Std\"]\n",
    "stats_"
   ]
  },
  {
   "cell_type": "code",
   "execution_count": 28,
   "metadata": {},
   "outputs": [],
   "source": [
    "stats = stats_.to_dict()"
   ]
  },
  {
   "cell_type": "markdown",
   "metadata": {},
   "source": [
    "# Guardado de variables"
   ]
  },
  {
   "cell_type": "code",
   "execution_count": 44,
   "metadata": {},
   "outputs": [],
   "source": [
    "for key in score.keys():\n",
    "    score[key] = list(score[key])\n",
    "\n",
    "with open('score_timer_datos59.json', 'w') as file:\n",
    "    json.dump([score, timer, stats], file, indent=4)"
   ]
  },
  {
   "cell_type": "code",
   "execution_count": null,
   "metadata": {},
   "outputs": [],
   "source": []
  },
  {
   "cell_type": "code",
   "execution_count": null,
   "metadata": {},
   "outputs": [],
   "source": []
  }
 ],
 "metadata": {
  "@webio": {
   "lastCommId": null,
   "lastKernelId": null
  },
  "kernelspec": {
   "display_name": "Python 3",
   "language": "python",
   "name": "python3"
  },
  "language_info": {
   "codemirror_mode": {
    "name": "ipython",
    "version": 3
   },
   "file_extension": ".py",
   "mimetype": "text/x-python",
   "name": "python",
   "nbconvert_exporter": "python",
   "pygments_lexer": "ipython3",
   "version": "3.6.8"
  },
  "latex_envs": {
   "LaTeX_envs_menu_present": true,
   "autoclose": false,
   "autocomplete": true,
   "bibliofile": "biblio.bib",
   "cite_by": "apalike",
   "current_citInitial": 1,
   "eqLabelWithNumbers": true,
   "eqNumInitial": 1,
   "hotkeys": {
    "equation": "Ctrl-E",
    "itemize": "Ctrl-I"
   },
   "labels_anchors": false,
   "latex_user_defs": false,
   "report_style_numbering": false,
   "user_envs_cfg": false
  },
  "toc": {
   "base_numbering": 1,
   "nav_menu": {},
   "number_sections": true,
   "sideBar": true,
   "skip_h1_title": false,
   "title_cell": "ANEXO IV_a. Machine Learning (dataset \"embedded\")",
   "title_sidebar": "Contents",
   "toc_cell": true,
   "toc_position": {
    "height": "calc(100% - 180px)",
    "left": "10px",
    "top": "150px",
    "width": "200.2px"
   },
   "toc_section_display": true,
   "toc_window_display": true
  },
  "varInspector": {
   "cols": {
    "lenName": 16,
    "lenType": 16,
    "lenVar": 40
   },
   "kernels_config": {
    "python": {
     "delete_cmd_postfix": "",
     "delete_cmd_prefix": "del ",
     "library": "var_list.py",
     "varRefreshCmd": "print(var_dic_list())"
    },
    "r": {
     "delete_cmd_postfix": ") ",
     "delete_cmd_prefix": "rm(",
     "library": "var_list.r",
     "varRefreshCmd": "cat(var_dic_list()) "
    }
   },
   "types_to_exclude": [
    "module",
    "function",
    "builtin_function_or_method",
    "instance",
    "_Feature"
   ],
   "window_display": false
  }
 },
 "nbformat": 4,
 "nbformat_minor": 2
}
