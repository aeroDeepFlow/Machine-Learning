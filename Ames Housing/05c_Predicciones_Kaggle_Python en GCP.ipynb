{
 "cells": [
  {
   "cell_type": "markdown",
   "metadata": {
    "toc": true
   },
   "source": [
    "<h1>Anexo 05c: Predicción Modelos Kaggle en Python en GCP<span class=\"tocSkip\"></span></h1>\n",
    "<div class=\"toc\"><ul class=\"toc-item\"><li><span><a href=\"#Carga-Módulos\" data-toc-modified-id=\"Carga-Módulos-1\"><span class=\"toc-item-num\">1&nbsp;&nbsp;</span>Carga Módulos</a></span></li><li><span><a href=\"#Carga-Data-Sets\" data-toc-modified-id=\"Carga-Data-Sets-2\"><span class=\"toc-item-num\">2&nbsp;&nbsp;</span>Carga Data Sets</a></span></li><li><span><a href=\"#Modelos-Individuales\" data-toc-modified-id=\"Modelos-Individuales-3\"><span class=\"toc-item-num\">3&nbsp;&nbsp;</span>Modelos Individuales</a></span><ul class=\"toc-item\"><li><span><a href=\"#Ridge-Regression\" data-toc-modified-id=\"Ridge-Regression-3.1\"><span class=\"toc-item-num\">3.1&nbsp;&nbsp;</span>Ridge Regression</a></span></li><li><span><a href=\"#Lasso-Regression\" data-toc-modified-id=\"Lasso-Regression-3.2\"><span class=\"toc-item-num\">3.2&nbsp;&nbsp;</span>Lasso Regression</a></span></li><li><span><a href=\"#ElasticNet-Regression\" data-toc-modified-id=\"ElasticNet-Regression-3.3\"><span class=\"toc-item-num\">3.3&nbsp;&nbsp;</span>ElasticNet Regression</a></span></li><li><span><a href=\"#Support-Vector-Regressor-Linear\" data-toc-modified-id=\"Support-Vector-Regressor-Linear-3.4\"><span class=\"toc-item-num\">3.4&nbsp;&nbsp;</span>Support Vector Regressor Linear</a></span></li><li><span><a href=\"#Gradient-Boosting-Regressor\" data-toc-modified-id=\"Gradient-Boosting-Regressor-3.5\"><span class=\"toc-item-num\">3.5&nbsp;&nbsp;</span>Gradient Boosting Regressor</a></span></li></ul></li><li><span><a href=\"#Ensamblados\" data-toc-modified-id=\"Ensamblados-4\"><span class=\"toc-item-num\">4&nbsp;&nbsp;</span>Ensamblados</a></span><ul class=\"toc-item\"><li><span><a href=\"#Ensamblado-1\" data-toc-modified-id=\"Ensamblado-1-4.1\"><span class=\"toc-item-num\">4.1&nbsp;&nbsp;</span>Ensamblado 1</a></span></li><li><span><a href=\"#Ensamblado-2\" data-toc-modified-id=\"Ensamblado-2-4.2\"><span class=\"toc-item-num\">4.2&nbsp;&nbsp;</span>Ensamblado 2</a></span></li><li><span><a href=\"#Ensamblado-3\" data-toc-modified-id=\"Ensamblado-3-4.3\"><span class=\"toc-item-num\">4.3&nbsp;&nbsp;</span>Ensamblado 3</a></span></li><li><span><a href=\"#Ensamblado-4\" data-toc-modified-id=\"Ensamblado-4-4.4\"><span class=\"toc-item-num\">4.4&nbsp;&nbsp;</span>Ensamblado 4</a></span></li></ul></li><li><span><a href=\"#Ranking-Kaggle\" data-toc-modified-id=\"Ranking-Kaggle-5\"><span class=\"toc-item-num\">5&nbsp;&nbsp;</span>Ranking Kaggle</a></span></li></ul></div>"
   ]
  },
  {
   "cell_type": "markdown",
   "metadata": {},
   "source": [
    "En este notebook se definen los mejores modelos obtenidos a partir de los algoritmos anteriores, con **Python**, y se procede a la predicción de datos test, para posteriormente subirlos a la **plataforma Kaggle**"
   ]
  },
  {
   "cell_type": "markdown",
   "metadata": {},
   "source": [
    "# Carga Módulos"
   ]
  },
  {
   "cell_type": "code",
   "execution_count": 1,
   "metadata": {},
   "outputs": [],
   "source": [
    "import numpy as np\n",
    "import pandas as pd\n",
    "import matplotlib\n",
    "import matplotlib.pyplot as plt\n",
    "import seaborn as sns\n",
    "\n",
    "import json "
   ]
  },
  {
   "cell_type": "markdown",
   "metadata": {},
   "source": [
    "# Carga Data Sets"
   ]
  },
  {
   "cell_type": "code",
   "execution_count": 2,
   "metadata": {},
   "outputs": [],
   "source": [
    "train_prep = pd.read_csv('X_train_embedd.csv', sep = ',')\n",
    "test_prep = pd.read_csv('X_test_embedd.csv', sep = ',')"
   ]
  },
  {
   "cell_type": "markdown",
   "metadata": {},
   "source": [
    "# Modelos Individuales"
   ]
  },
  {
   "cell_type": "code",
   "execution_count": 3,
   "metadata": {},
   "outputs": [],
   "source": [
    "from sklearn.linear_model import LinearRegression, Lasso, Ridge, ElasticNet\n",
    "from sklearn.ensemble import GradientBoostingRegressor, VotingRegressor\n",
    "from sklearn.svm import SVR"
   ]
  },
  {
   "cell_type": "markdown",
   "metadata": {},
   "source": [
    "## Ridge Regression"
   ]
  },
  {
   "cell_type": "code",
   "execution_count": 4,
   "metadata": {},
   "outputs": [],
   "source": [
    "ridge = Ridge(alpha=0.2012, copy_X=True, fit_intercept=True, max_iter=None,\n",
    "              normalize=False, random_state=12345, solver='auto', tol=0.001).\\\n",
    "              fit(train_prep.iloc[:, 1:], train_prep.SalePrice)"
   ]
  },
  {
   "cell_type": "code",
   "execution_count": 5,
   "metadata": {},
   "outputs": [
    {
     "data": {
      "text/plain": [
       "array([116872.33705944, 164318.24588238, 182420.23713635, ...,\n",
       "       177901.34644969, 115267.39167164, 220067.36533173])"
      ]
     },
     "execution_count": 5,
     "metadata": {},
     "output_type": "execute_result"
    }
   ],
   "source": [
    "ridge_59 = np.expm1(ridge.predict(test_prep))\n",
    "ridge_59"
   ]
  },
  {
   "cell_type": "code",
   "execution_count": 6,
   "metadata": {},
   "outputs": [],
   "source": [
    "pd.DataFrame({\"Id\" :list(range(1461, 2920)), \"SalePrice\": ridge_59}).\\\n",
    "              to_csv(\"./predicciones/ridge_pred.csv\", header=True, index=False)"
   ]
  },
  {
   "cell_type": "markdown",
   "metadata": {},
   "source": [
    "## Lasso Regression"
   ]
  },
  {
   "cell_type": "code",
   "execution_count": 7,
   "metadata": {},
   "outputs": [],
   "source": [
    "lasso = Lasso(alpha=0.0021018018018018015, copy_X=True, fit_intercept=True,\n",
    "              max_iter=10000000.0, normalize=False, positive=False, precompute=False,\n",
    "              random_state=12345, selection='cyclic', tol=0.0001, warm_start=False).\\\n",
    "              fit(train_prep.iloc[:, 1:], train_prep.SalePrice)"
   ]
  },
  {
   "cell_type": "code",
   "execution_count": 8,
   "metadata": {},
   "outputs": [
    {
     "data": {
      "text/plain": [
       "array([115136.45921974, 164951.40088002, 179640.30070454, ...,\n",
       "       181986.38706238, 114976.77316276, 220820.40802794])"
      ]
     },
     "execution_count": 8,
     "metadata": {},
     "output_type": "execute_result"
    }
   ],
   "source": [
    "lasso_59 = np.expm1(lasso.predict(test_prep))\n",
    "lasso_59"
   ]
  },
  {
   "cell_type": "code",
   "execution_count": 9,
   "metadata": {},
   "outputs": [],
   "source": [
    "pd.DataFrame({\"Id\" :list(range(1461, 2920)), \"SalePrice\": lasso_59}).\\\n",
    "              to_csv(\"./predicciones/lasso_pred.csv\", header=True, index=False)"
   ]
  },
  {
   "cell_type": "markdown",
   "metadata": {},
   "source": [
    "## ElasticNet Regression"
   ]
  },
  {
   "cell_type": "code",
   "execution_count": 10,
   "metadata": {},
   "outputs": [],
   "source": [
    "elasticnet = ElasticNet(alpha=0.0001, copy_X=True, fit_intercept=True,\n",
    "                        l1_ratio=0.042, max_iter=10000000.0, normalize=False,\n",
    "                        positive=False, precompute=False, random_state=12345,\n",
    "                        selection='cyclic', tol=0.0001, warm_start=False).\\\n",
    "                        fit(train_prep.iloc[:, 1:], train_prep.SalePrice)"
   ]
  },
  {
   "cell_type": "code",
   "execution_count": 11,
   "metadata": {},
   "outputs": [
    {
     "data": {
      "text/plain": [
       "array([116704.00524468, 164366.23938847, 182448.08070823, ...,\n",
       "       177866.25516319, 115285.35383189, 220036.22683633])"
      ]
     },
     "execution_count": 11,
     "metadata": {},
     "output_type": "execute_result"
    }
   ],
   "source": [
    "elasticnet_59 = np.expm1(elasticnet.predict(test_prep))\n",
    "elasticnet_59"
   ]
  },
  {
   "cell_type": "code",
   "execution_count": 12,
   "metadata": {},
   "outputs": [],
   "source": [
    "pd.DataFrame({\"Id\" :list(range(1461, 2920)), \"SalePrice\": elasticnet_59}).\\\n",
    "              to_csv(\"./predicciones/elasticnet_pred.csv\", header=True, index=False)"
   ]
  },
  {
   "cell_type": "markdown",
   "metadata": {},
   "source": [
    "## Support Vector Regressor Linear"
   ]
  },
  {
   "cell_type": "code",
   "execution_count": 13,
   "metadata": {},
   "outputs": [],
   "source": [
    "SVRL = SVR(C=0.94197, cache_size=200, coef0=0.0, degree=3, epsilon=0.1,\n",
    "           gamma='auto_deprecated', kernel='linear', max_iter=-1, shrinking=True,\n",
    "           tol=0.001, verbose=False).fit(train_prep.iloc[:, 1:], train_prep.SalePrice)"
   ]
  },
  {
   "cell_type": "code",
   "execution_count": 14,
   "metadata": {},
   "outputs": [
    {
     "data": {
      "text/plain": [
       "array([115208.52268944, 166072.99284489, 181277.90642415, ...,\n",
       "       174974.93500221, 115406.0977877 , 217746.59042013])"
      ]
     },
     "execution_count": 14,
     "metadata": {},
     "output_type": "execute_result"
    }
   ],
   "source": [
    "SVRL_59 = np.expm1(SVRL.predict(test_prep))\n",
    "SVRL_59"
   ]
  },
  {
   "cell_type": "code",
   "execution_count": 15,
   "metadata": {},
   "outputs": [],
   "source": [
    "pd.DataFrame({\"Id\" :list(range(1461, 2920)), \"SalePrice\": SVRL_59}).\\\n",
    "              to_csv(\"./predicciones/SVRL_pred.csv\", header=True, index=False)"
   ]
  },
  {
   "cell_type": "markdown",
   "metadata": {},
   "source": [
    "## Gradient Boosting Regressor"
   ]
  },
  {
   "cell_type": "code",
   "execution_count": 16,
   "metadata": {},
   "outputs": [],
   "source": [
    "gbm = GradientBoostingRegressor(alpha=0.9, criterion='friedman_mse', init=None,\n",
    "                                learning_rate=0.01, loss='ls', max_depth=5,\n",
    "                                max_features='sqrt', max_leaf_nodes=None,\n",
    "                                min_impurity_decrease=0.0, min_impurity_split=None,\n",
    "                                min_samples_leaf=1, min_samples_split=2,\n",
    "                                min_weight_fraction_leaf=0.0, n_estimators=900,\n",
    "                                n_iter_no_change=None, presort='auto',\n",
    "                                random_state=12345, subsample=1.0, tol=0.0001,\n",
    "                                validation_fraction=0.1, verbose=0, warm_start=False).\\\n",
    "                                fit(train_prep.iloc[:, 1:], train_prep.SalePrice)"
   ]
  },
  {
   "cell_type": "code",
   "execution_count": 17,
   "metadata": {},
   "outputs": [
    {
     "data": {
      "text/plain": [
       "array([123831.80709561, 166889.57689913, 180367.97928288, ...,\n",
       "       167197.71726003, 115908.35920477, 207767.35353171])"
      ]
     },
     "execution_count": 17,
     "metadata": {},
     "output_type": "execute_result"
    }
   ],
   "source": [
    "gbm_59 = np.expm1(gbm.predict(test_prep))\n",
    "gbm_59"
   ]
  },
  {
   "cell_type": "code",
   "execution_count": 18,
   "metadata": {},
   "outputs": [],
   "source": [
    "pd.DataFrame({\"Id\" :list(range(1461, 2920)), \"SalePrice\": gbm_59}).\\\n",
    "              to_csv(\"./predicciones/gbm_pred.csv\", header=True, index=False)"
   ]
  },
  {
   "cell_type": "markdown",
   "metadata": {},
   "source": [
    "# Ensamblados"
   ]
  },
  {
   "cell_type": "markdown",
   "metadata": {},
   "source": [
    "## Ensamblado 1"
   ]
  },
  {
   "cell_type": "code",
   "execution_count": 19,
   "metadata": {},
   "outputs": [],
   "source": [
    "ens1 = [(\"Lasso\", lasso), \n",
    "        (\"Ridge\", ridge)]\n",
    "\n",
    "weights1 = [0.5, 0.5]"
   ]
  },
  {
   "cell_type": "code",
   "execution_count": 20,
   "metadata": {},
   "outputs": [
    {
     "data": {
      "text/plain": [
       "array([116001.15118503, 164634.51900818, 181024.93271492, ...,\n",
       "       179932.27425089, 115121.99071193, 220443.5651291 ])"
      ]
     },
     "execution_count": 20,
     "metadata": {},
     "output_type": "execute_result"
    }
   ],
   "source": [
    "ensemb1_59 = np.expm1(VotingRegressor(ens1, weights1, n_jobs=-1).\\\n",
    "                                   fit(train_prep.iloc[:, 1:], train_prep.SalePrice).\\\n",
    "                                   predict(test_prep))\n",
    "ensemb1_59"
   ]
  },
  {
   "cell_type": "code",
   "execution_count": 21,
   "metadata": {},
   "outputs": [],
   "source": [
    "pd.DataFrame({\"Id\" :list(range(1461, 2920)), \"SalePrice\": ensemb1_59}).\\\n",
    "              to_csv(\"./predicciones/ensemb1_pred.csv\", header=True, index=False)"
   ]
  },
  {
   "cell_type": "markdown",
   "metadata": {},
   "source": [
    "## Ensamblado 2"
   ]
  },
  {
   "cell_type": "code",
   "execution_count": 22,
   "metadata": {},
   "outputs": [],
   "source": [
    "ens2 = [(\"Lasso\", lasso), \n",
    "        (\"Ridge\", ridge), \n",
    "        (\"Elasticnet\", elasticnet)]\n",
    "\n",
    "weights2 = [0.2, 0.2, 0.6]"
   ]
  },
  {
   "cell_type": "code",
   "execution_count": 23,
   "metadata": {},
   "outputs": [
    {
     "data": {
      "text/plain": [
       "array([116422.35403157, 164473.49873584, 181877.4838321 , ...,\n",
       "       178689.8007604 , 115219.98078423, 220199.07175372])"
      ]
     },
     "execution_count": 23,
     "metadata": {},
     "output_type": "execute_result"
    }
   ],
   "source": [
    "ensemb2_59 = np.expm1(VotingRegressor(ens2, weights2, n_jobs=-1).\\\n",
    "                                   fit(train_prep.iloc[:, 1:], train_prep.SalePrice).\\\n",
    "                                   predict(test_prep))\n",
    "ensemb2_59"
   ]
  },
  {
   "cell_type": "code",
   "execution_count": 24,
   "metadata": {},
   "outputs": [],
   "source": [
    "pd.DataFrame({\"Id\" :list(range(1461, 2920)), \"SalePrice\": ensemb2_59}).\\\n",
    "              to_csv(\"./predicciones/ensemb2_pred.csv\", header=True, index=False)"
   ]
  },
  {
   "cell_type": "markdown",
   "metadata": {},
   "source": [
    "## Ensamblado 3"
   ]
  },
  {
   "cell_type": "code",
   "execution_count": 25,
   "metadata": {},
   "outputs": [],
   "source": [
    "ens3 = [(\"Lasso\", lasso), \n",
    "        (\"Ridge\", ridge), \n",
    "        (\"Elasticnet\", elasticnet),\n",
    "        (\"SVRL\", SVRL)]\n",
    "\n",
    "weights3 = [0.2, 0.2, 0.4, 0.2]"
   ]
  },
  {
   "cell_type": "code",
   "execution_count": 26,
   "metadata": {},
   "outputs": [
    {
     "data": {
      "text/plain": [
       "array([116122.43810853, 164813.6622244 , 181643.58005511, ...,\n",
       "       178105.04463726, 115244.10577713, 219738.88614381])"
      ]
     },
     "execution_count": 26,
     "metadata": {},
     "output_type": "execute_result"
    }
   ],
   "source": [
    "ensemb3_59 = np.expm1(VotingRegressor(ens3, weights3, n_jobs=-1).\\\n",
    "                                   fit(train_prep.iloc[:, 1:], train_prep.SalePrice).\\\n",
    "                                   predict(test_prep))\n",
    "ensemb3_59"
   ]
  },
  {
   "cell_type": "code",
   "execution_count": 27,
   "metadata": {},
   "outputs": [],
   "source": [
    "pd.DataFrame({\"Id\" :list(range(1461, 2920)), \"SalePrice\": ensemb3_59}).\\\n",
    "              to_csv(\"./predicciones/ensemb3_pred.csv\", header=True, index=False)"
   ]
  },
  {
   "cell_type": "markdown",
   "metadata": {},
   "source": [
    "## Ensamblado 4"
   ]
  },
  {
   "cell_type": "code",
   "execution_count": 28,
   "metadata": {},
   "outputs": [],
   "source": [
    "ens4 = [(\"Lasso\", lasso), \n",
    "        (\"Ridge\", ridge), \n",
    "        (\"Elasticnet\", elasticnet),\n",
    "        (\"SVRL\", SVRL),\n",
    "        (\"Gbm\", gbm)]\n",
    "\n",
    "weights4 = [0.2, 0.2, 0.2, 0.2, 0.2]"
   ]
  },
  {
   "cell_type": "code",
   "execution_count": 29,
   "metadata": {},
   "outputs": [
    {
     "data": {
      "text/plain": [
       "array([117507.4594716 , 165316.62433406, 181227.49231433, ...,\n",
       "       175915.28564239, 115368.39390023, 217231.87112773])"
      ]
     },
     "execution_count": 29,
     "metadata": {},
     "output_type": "execute_result"
    }
   ],
   "source": [
    "ensemb4_59 = np.expm1(VotingRegressor(ens4, weights4, n_jobs=-1).\\\n",
    "                                   fit(train_prep.iloc[:, 1:], train_prep.SalePrice).\\\n",
    "                                   predict(test_prep))\n",
    "ensemb4_59"
   ]
  },
  {
   "cell_type": "code",
   "execution_count": 30,
   "metadata": {},
   "outputs": [],
   "source": [
    "pd.DataFrame({\"Id\" :list(range(1461, 2920)), \"SalePrice\": ensemb4_59}).\\\n",
    "              to_csv(\"./predicciones/ensemb4_pred.csv\", header=True, index=False)"
   ]
  }
 ],
 "metadata": {
  "kernelspec": {
   "display_name": "Python 3",
   "language": "python",
   "name": "python3"
  },
  "language_info": {
   "codemirror_mode": {
    "name": "ipython",
    "version": 3
   },
   "file_extension": ".py",
   "mimetype": "text/x-python",
   "name": "python",
   "nbconvert_exporter": "python",
   "pygments_lexer": "ipython3",
   "version": "3.7.1"
  },
  "latex_envs": {
   "LaTeX_envs_menu_present": true,
   "autoclose": false,
   "autocomplete": true,
   "bibliofile": "biblio.bib",
   "cite_by": "apalike",
   "current_citInitial": 1,
   "eqLabelWithNumbers": true,
   "eqNumInitial": 1,
   "hotkeys": {
    "equation": "Ctrl-E",
    "itemize": "Ctrl-I"
   },
   "labels_anchors": false,
   "latex_user_defs": false,
   "report_style_numbering": false,
   "user_envs_cfg": false
  },
  "toc": {
   "base_numbering": 1,
   "nav_menu": {},
   "number_sections": true,
   "sideBar": true,
   "skip_h1_title": false,
   "title_cell": "Anexo 05c: Predicción Modelos Kaggle en Python en GCP",
   "title_sidebar": "Anexo 05c: Predicción Modelos Kaggle en Python en GCP",
   "toc_cell": true,
   "toc_position": {},
   "toc_section_display": true,
   "toc_window_display": true
  },
  "varInspector": {
   "cols": {
    "lenName": 16,
    "lenType": 16,
    "lenVar": 40
   },
   "kernels_config": {
    "python": {
     "delete_cmd_postfix": "",
     "delete_cmd_prefix": "del ",
     "library": "var_list.py",
     "varRefreshCmd": "print(var_dic_list())"
    },
    "r": {
     "delete_cmd_postfix": ") ",
     "delete_cmd_prefix": "rm(",
     "library": "var_list.r",
     "varRefreshCmd": "cat(var_dic_list()) "
    }
   },
   "types_to_exclude": [
    "module",
    "function",
    "builtin_function_or_method",
    "instance",
    "_Feature"
   ],
   "window_display": false
  }
 },
 "nbformat": 4,
 "nbformat_minor": 2
}
