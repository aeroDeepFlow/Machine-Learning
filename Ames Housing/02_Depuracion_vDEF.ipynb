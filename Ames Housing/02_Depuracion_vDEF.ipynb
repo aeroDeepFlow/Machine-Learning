{
 "cells": [
  {
   "cell_type": "markdown",
   "metadata": {
    "toc": true
   },
   "source": [
    "<h1>ANEXO II. Depuración<span class=\"tocSkip\"></span></h1>\n",
    "<div class=\"toc\"><ul class=\"toc-item\"><li><span><a href=\"#Carga-de-módulos-y-dataset\" data-toc-modified-id=\"Carga-de-módulos-y-dataset-1\"><span class=\"toc-item-num\">1&nbsp;&nbsp;</span>Carga de módulos y dataset</a></span><ul class=\"toc-item\"><li><span><a href=\"#Carga-de-módulos\" data-toc-modified-id=\"Carga-de-módulos-1.1\"><span class=\"toc-item-num\">1.1&nbsp;&nbsp;</span>Carga de módulos</a></span></li><li><span><a href=\"#Carga-del-set-de-datos\" data-toc-modified-id=\"Carga-del-set-de-datos-1.2\"><span class=\"toc-item-num\">1.2&nbsp;&nbsp;</span>Carga del set de datos</a></span></li></ul></li><li><span><a href=\"#Variables\" data-toc-modified-id=\"Variables-2\"><span class=\"toc-item-num\">2&nbsp;&nbsp;</span>Variables</a></span><ul class=\"toc-item\"><li><span><a href=\"#Categóricas\" data-toc-modified-id=\"Categóricas-2.1\"><span class=\"toc-item-num\">2.1&nbsp;&nbsp;</span>Categóricas</a></span><ul class=\"toc-item\"><li><span><a href=\"#Nominales\" data-toc-modified-id=\"Nominales-2.1.1\"><span class=\"toc-item-num\">2.1.1&nbsp;&nbsp;</span>Nominales</a></span></li><li><span><a href=\"#Ordinales-Categóricas\" data-toc-modified-id=\"Ordinales-Categóricas-2.1.2\"><span class=\"toc-item-num\">2.1.2&nbsp;&nbsp;</span>Ordinales Categóricas</a></span></li></ul></li><li><span><a href=\"#Numéricas\" data-toc-modified-id=\"Numéricas-2.2\"><span class=\"toc-item-num\">2.2&nbsp;&nbsp;</span>Numéricas</a></span><ul class=\"toc-item\"><li><span><a href=\"#Numéricas-puras\" data-toc-modified-id=\"Numéricas-puras-2.2.1\"><span class=\"toc-item-num\">2.2.1&nbsp;&nbsp;</span>Numéricas puras</a></span></li><li><span><a href=\"#Numéricas-Ordinales\" data-toc-modified-id=\"Numéricas-Ordinales-2.2.2\"><span class=\"toc-item-num\">2.2.2&nbsp;&nbsp;</span>Numéricas Ordinales</a></span></li><li><span><a href=\"#Numéricas-Discretas\" data-toc-modified-id=\"Numéricas-Discretas-2.2.3\"><span class=\"toc-item-num\">2.2.3&nbsp;&nbsp;</span>Numéricas Discretas</a></span></li></ul></li></ul></li><li><span><a href=\"#Depuración\" data-toc-modified-id=\"Depuración-3\"><span class=\"toc-item-num\">3&nbsp;&nbsp;</span>Depuración</a></span><ul class=\"toc-item\"><li><span><a href=\"#Creación-Objeto-pipeLine\" data-toc-modified-id=\"Creación-Objeto-pipeLine-3.1\"><span class=\"toc-item-num\">3.1&nbsp;&nbsp;</span>Creación Objeto pipeLine</a></span></li><li><span><a href=\"#Eliminación-variables\" data-toc-modified-id=\"Eliminación-variables-3.2\"><span class=\"toc-item-num\">3.2&nbsp;&nbsp;</span>Eliminación variables</a></span></li><li><span><a href=\"#Outliers\" data-toc-modified-id=\"Outliers-3.3\"><span class=\"toc-item-num\">3.3&nbsp;&nbsp;</span>Outliers</a></span></li><li><span><a href=\"#Missing\" data-toc-modified-id=\"Missing-3.4\"><span class=\"toc-item-num\">3.4&nbsp;&nbsp;</span>Missing</a></span><ul class=\"toc-item\"><li><span><a href=\"#Indicadores-Missing\" data-toc-modified-id=\"Indicadores-Missing-3.4.1\"><span class=\"toc-item-num\">3.4.1&nbsp;&nbsp;</span>Indicadores Missing</a></span></li><li><span><a href=\"#Imputación-Verdaderos-Missings-(valores-originales-y-los-valores-de-los-outliers-imputados-a-NaN)\" data-toc-modified-id=\"Imputación-Verdaderos-Missings-(valores-originales-y-los-valores-de-los-outliers-imputados-a-NaN)-3.4.2\"><span class=\"toc-item-num\">3.4.2&nbsp;&nbsp;</span>Imputación Verdaderos Missings (valores originales y los valores de los outliers imputados a NaN)</a></span></li><li><span><a href=\"#Recodificación-categorías-valor-NaN\" data-toc-modified-id=\"Recodificación-categorías-valor-NaN-3.4.3\"><span class=\"toc-item-num\">3.4.3&nbsp;&nbsp;</span>Recodificación categorías valor NaN</a></span></li></ul></li><li><span><a href=\"#Generación-de-nuevas-Variables.-Feature-Engineering.\" data-toc-modified-id=\"Generación-de-nuevas-Variables.-Feature-Engineering.-3.5\"><span class=\"toc-item-num\">3.5&nbsp;&nbsp;</span>Generación de nuevas Variables. Feature Engineering.</a></span></li><li><span><a href=\"#Codificación-Ordinales\" data-toc-modified-id=\"Codificación-Ordinales-3.6\"><span class=\"toc-item-num\">3.6&nbsp;&nbsp;</span>Codificación Ordinales</a></span></li><li><span><a href=\"#Trasformaciones-variables-numéricas.-Normalización\" data-toc-modified-id=\"Trasformaciones-variables-numéricas.-Normalización-3.7\"><span class=\"toc-item-num\">3.7&nbsp;&nbsp;</span>Trasformaciones variables numéricas. Normalización</a></span></li><li><span><a href=\"#Scaler\" data-toc-modified-id=\"Scaler-3.8\"><span class=\"toc-item-num\">3.8&nbsp;&nbsp;</span>Scaler</a></span></li><li><span><a href=\"#One-Hot-Encoding.-Creación-de-Dummies\" data-toc-modified-id=\"One-Hot-Encoding.-Creación-de-Dummies-3.9\"><span class=\"toc-item-num\">3.9&nbsp;&nbsp;</span>One Hot Encoding. Creación de Dummies</a></span></li><li><span><a href=\"#Eliminación-de-variables\" data-toc-modified-id=\"Eliminación-de-variables-3.10\"><span class=\"toc-item-num\">3.10&nbsp;&nbsp;</span>Eliminación de variables</a></span><ul class=\"toc-item\"><li><span><a href=\"#Varianza-cero-o-cuasi-cero\" data-toc-modified-id=\"Varianza-cero-o-cuasi-cero-3.10.1\"><span class=\"toc-item-num\">3.10.1&nbsp;&nbsp;</span>Varianza cero o cuasi-cero</a></span></li><li><span><a href=\"#Variables-muy-correlacionadas\" data-toc-modified-id=\"Variables-muy-correlacionadas-3.10.2\"><span class=\"toc-item-num\">3.10.2&nbsp;&nbsp;</span>Variables muy correlacionadas</a></span></li></ul></li><li><span><a href=\"#Guardado-de-resultados\" data-toc-modified-id=\"Guardado-de-resultados-3.11\"><span class=\"toc-item-num\">3.11&nbsp;&nbsp;</span>Guardado de resultados</a></span></li></ul></li></ul></div>"
   ]
  },
  {
   "cell_type": "markdown",
   "metadata": {},
   "source": [
    "* *******"
   ]
  },
  {
   "cell_type": "markdown",
   "metadata": {},
   "source": [
    "**En este anexo se aplican las transformaciones propuestas de acuerdo al estudio realizado en el Anexo I y que se consideran adecuadas para la generacion de lo modelos de Machine Learning.**"
   ]
  },
  {
   "cell_type": "markdown",
   "metadata": {},
   "source": [
    "* *******"
   ]
  },
  {
   "cell_type": "markdown",
   "metadata": {},
   "source": [
    "# Carga de módulos y dataset"
   ]
  },
  {
   "cell_type": "markdown",
   "metadata": {},
   "source": [
    "Se muestran a continuación las versiones tanto del OS usado así como de Python usados en el presente notebook."
   ]
  },
  {
   "cell_type": "code",
   "execution_count": 1,
   "metadata": {
    "scrolled": true
   },
   "outputs": [
    {
     "name": "stdout",
     "output_type": "stream",
     "text": [
      "No LSB modules are available.\r\n",
      "Distributor ID:\tUbuntu\r\n",
      "Description:\tUbuntu 19.04\r\n",
      "Release:\t19.04\r\n",
      "Codename:\tdisco\r\n"
     ]
    }
   ],
   "source": [
    "!lsb_release -a"
   ]
  },
  {
   "cell_type": "code",
   "execution_count": 2,
   "metadata": {},
   "outputs": [
    {
     "name": "stdout",
     "output_type": "stream",
     "text": [
      "5.0.0-25-generic\r\n"
     ]
    }
   ],
   "source": [
    "!uname -r"
   ]
  },
  {
   "cell_type": "code",
   "execution_count": 3,
   "metadata": {},
   "outputs": [
    {
     "name": "stdout",
     "output_type": "stream",
     "text": [
      "Python version: 3.7.3 (default, Mar 27 2019, 22:11:17) \n",
      "[GCC 7.3.0]\n"
     ]
    }
   ],
   "source": [
    "import os\n",
    "import sys\n",
    "print(\"Python version: {}\". format(sys.version))"
   ]
  },
  {
   "cell_type": "markdown",
   "metadata": {},
   "source": [
    "## Carga de módulos"
   ]
  },
  {
   "cell_type": "markdown",
   "metadata": {
    "cell_style": "center"
   },
   "source": [
    "En primer lugar se cargan los módulos de python que se consideran necesarios para esta etapa de depuración. En una primera etapa se cargan los módulos clásicos de Análisis de Datos:\n",
    "\n",
    "* **numpy**\n",
    "* **pandas**\n",
    "* **matplotlib**\n",
    "* **seaborn**"
   ]
  },
  {
   "cell_type": "markdown",
   "metadata": {},
   "source": [
    "Se importa además el módulo con las funcionalidades creadas ad-hoc, denominado **`pipeLine`** para la depuración del detaset."
   ]
  },
  {
   "cell_type": "code",
   "execution_count": 4,
   "metadata": {},
   "outputs": [
    {
     "name": "stdout",
     "output_type": "stream",
     "text": [
      "Versiones usadas en el notebook\n",
      "Numpy 1.16.2.\n",
      "Pandas 0.24.2.\n",
      "Matplotlib 3.0.3.\n",
      "Seaborn 0.9.0.\n"
     ]
    }
   ],
   "source": [
    "import numpy as np\n",
    "import pandas as pd\n",
    "import matplotlib\n",
    "import matplotlib.pyplot as plt\n",
    "import seaborn as sns\n",
    "\n",
    "import json\n",
    "import dill\n",
    "#dill.load_session('Anexo_I.db')\n",
    "#dill.dump_session('Anexo_I.db')\n",
    "\n",
    "from ames import pipeLine\n",
    "\n",
    "sns.set(style=\"whitegrid\")\n",
    "\n",
    "import warnings\n",
    "warnings.simplefilter('ignore')\n",
    "\n",
    "# Se muestran versiones usadas\n",
    "print(\"Versiones usadas en el notebook\")\n",
    "print('Numpy {}.'.format(np.__version__))\n",
    "print('Pandas {}.'.format(pd.__version__))\n",
    "print('Matplotlib {}.'.format(matplotlib.__version__))\n",
    "print('Seaborn {}.'.format(sns.__version__))"
   ]
  },
  {
   "cell_type": "markdown",
   "metadata": {},
   "source": [
    "## Carga del set de datos"
   ]
  },
  {
   "cell_type": "markdown",
   "metadata": {},
   "source": [
    "Se cargan los archivos csv que continen los datos train y test suministrados."
   ]
  },
  {
   "cell_type": "code",
   "execution_count": 5,
   "metadata": {},
   "outputs": [],
   "source": [
    "df = pd.read_csv(\"train.csv\")\n",
    "\n",
    "df_train = df.copy()\n",
    "\n",
    "df_test = pd.read_csv(\"test.csv\")"
   ]
  },
  {
   "cell_type": "markdown",
   "metadata": {},
   "source": [
    "Por razones de comodidad se separa y elimina la variable objetivo/target del data set que almacena los datos training y se guarda en la variable **target**. También se normaliza dicha variable."
   ]
  },
  {
   "cell_type": "code",
   "execution_count": 6,
   "metadata": {},
   "outputs": [],
   "source": [
    "# Se guarda el 'SalePrice' normalizada en la variable 'target'\n",
    "target = np.log1p(df_train.SalePrice)\n",
    "\n",
    "# Se elimina 'SalePrice' de datos de entrenamiento\n",
    "df_train = df_train.drop('SalePrice', axis = 1)"
   ]
  },
  {
   "cell_type": "code",
   "execution_count": 7,
   "metadata": {},
   "outputs": [],
   "source": [
    "dfT = pd.concat([df_train, df_test], axis = 0).reset_index(drop=True)"
   ]
  },
  {
   "cell_type": "markdown",
   "metadata": {},
   "source": [
    "Se muestran los primeros registros del set de datos train."
   ]
  },
  {
   "cell_type": "code",
   "execution_count": 8,
   "metadata": {
    "scrolled": true
   },
   "outputs": [
    {
     "data": {
      "text/html": [
       "<div>\n",
       "<style scoped>\n",
       "    .dataframe tbody tr th:only-of-type {\n",
       "        vertical-align: middle;\n",
       "    }\n",
       "\n",
       "    .dataframe tbody tr th {\n",
       "        vertical-align: top;\n",
       "    }\n",
       "\n",
       "    .dataframe thead th {\n",
       "        text-align: right;\n",
       "    }\n",
       "</style>\n",
       "<table border=\"1\" class=\"dataframe\">\n",
       "  <thead>\n",
       "    <tr style=\"text-align: right;\">\n",
       "      <th></th>\n",
       "      <th>Id</th>\n",
       "      <th>MSSubClass</th>\n",
       "      <th>MSZoning</th>\n",
       "      <th>LotFrontage</th>\n",
       "      <th>LotArea</th>\n",
       "      <th>Street</th>\n",
       "      <th>Alley</th>\n",
       "      <th>LotShape</th>\n",
       "      <th>LandContour</th>\n",
       "      <th>Utilities</th>\n",
       "      <th>...</th>\n",
       "      <th>ScreenPorch</th>\n",
       "      <th>PoolArea</th>\n",
       "      <th>PoolQC</th>\n",
       "      <th>Fence</th>\n",
       "      <th>MiscFeature</th>\n",
       "      <th>MiscVal</th>\n",
       "      <th>MoSold</th>\n",
       "      <th>YrSold</th>\n",
       "      <th>SaleType</th>\n",
       "      <th>SaleCondition</th>\n",
       "    </tr>\n",
       "  </thead>\n",
       "  <tbody>\n",
       "    <tr>\n",
       "      <th>0</th>\n",
       "      <td>1</td>\n",
       "      <td>60</td>\n",
       "      <td>RL</td>\n",
       "      <td>65.0</td>\n",
       "      <td>8450</td>\n",
       "      <td>Pave</td>\n",
       "      <td>NaN</td>\n",
       "      <td>Reg</td>\n",
       "      <td>Lvl</td>\n",
       "      <td>AllPub</td>\n",
       "      <td>...</td>\n",
       "      <td>0</td>\n",
       "      <td>0</td>\n",
       "      <td>NaN</td>\n",
       "      <td>NaN</td>\n",
       "      <td>NaN</td>\n",
       "      <td>0</td>\n",
       "      <td>2</td>\n",
       "      <td>2008</td>\n",
       "      <td>WD</td>\n",
       "      <td>Normal</td>\n",
       "    </tr>\n",
       "    <tr>\n",
       "      <th>1</th>\n",
       "      <td>2</td>\n",
       "      <td>20</td>\n",
       "      <td>RL</td>\n",
       "      <td>80.0</td>\n",
       "      <td>9600</td>\n",
       "      <td>Pave</td>\n",
       "      <td>NaN</td>\n",
       "      <td>Reg</td>\n",
       "      <td>Lvl</td>\n",
       "      <td>AllPub</td>\n",
       "      <td>...</td>\n",
       "      <td>0</td>\n",
       "      <td>0</td>\n",
       "      <td>NaN</td>\n",
       "      <td>NaN</td>\n",
       "      <td>NaN</td>\n",
       "      <td>0</td>\n",
       "      <td>5</td>\n",
       "      <td>2007</td>\n",
       "      <td>WD</td>\n",
       "      <td>Normal</td>\n",
       "    </tr>\n",
       "    <tr>\n",
       "      <th>2</th>\n",
       "      <td>3</td>\n",
       "      <td>60</td>\n",
       "      <td>RL</td>\n",
       "      <td>68.0</td>\n",
       "      <td>11250</td>\n",
       "      <td>Pave</td>\n",
       "      <td>NaN</td>\n",
       "      <td>IR1</td>\n",
       "      <td>Lvl</td>\n",
       "      <td>AllPub</td>\n",
       "      <td>...</td>\n",
       "      <td>0</td>\n",
       "      <td>0</td>\n",
       "      <td>NaN</td>\n",
       "      <td>NaN</td>\n",
       "      <td>NaN</td>\n",
       "      <td>0</td>\n",
       "      <td>9</td>\n",
       "      <td>2008</td>\n",
       "      <td>WD</td>\n",
       "      <td>Normal</td>\n",
       "    </tr>\n",
       "    <tr>\n",
       "      <th>3</th>\n",
       "      <td>4</td>\n",
       "      <td>70</td>\n",
       "      <td>RL</td>\n",
       "      <td>60.0</td>\n",
       "      <td>9550</td>\n",
       "      <td>Pave</td>\n",
       "      <td>NaN</td>\n",
       "      <td>IR1</td>\n",
       "      <td>Lvl</td>\n",
       "      <td>AllPub</td>\n",
       "      <td>...</td>\n",
       "      <td>0</td>\n",
       "      <td>0</td>\n",
       "      <td>NaN</td>\n",
       "      <td>NaN</td>\n",
       "      <td>NaN</td>\n",
       "      <td>0</td>\n",
       "      <td>2</td>\n",
       "      <td>2006</td>\n",
       "      <td>WD</td>\n",
       "      <td>Abnorml</td>\n",
       "    </tr>\n",
       "    <tr>\n",
       "      <th>4</th>\n",
       "      <td>5</td>\n",
       "      <td>60</td>\n",
       "      <td>RL</td>\n",
       "      <td>84.0</td>\n",
       "      <td>14260</td>\n",
       "      <td>Pave</td>\n",
       "      <td>NaN</td>\n",
       "      <td>IR1</td>\n",
       "      <td>Lvl</td>\n",
       "      <td>AllPub</td>\n",
       "      <td>...</td>\n",
       "      <td>0</td>\n",
       "      <td>0</td>\n",
       "      <td>NaN</td>\n",
       "      <td>NaN</td>\n",
       "      <td>NaN</td>\n",
       "      <td>0</td>\n",
       "      <td>12</td>\n",
       "      <td>2008</td>\n",
       "      <td>WD</td>\n",
       "      <td>Normal</td>\n",
       "    </tr>\n",
       "  </tbody>\n",
       "</table>\n",
       "<p>5 rows × 80 columns</p>\n",
       "</div>"
      ],
      "text/plain": [
       "   Id  MSSubClass MSZoning  LotFrontage  LotArea Street Alley LotShape  \\\n",
       "0   1          60       RL         65.0     8450   Pave   NaN      Reg   \n",
       "1   2          20       RL         80.0     9600   Pave   NaN      Reg   \n",
       "2   3          60       RL         68.0    11250   Pave   NaN      IR1   \n",
       "3   4          70       RL         60.0     9550   Pave   NaN      IR1   \n",
       "4   5          60       RL         84.0    14260   Pave   NaN      IR1   \n",
       "\n",
       "  LandContour Utilities  ... ScreenPorch PoolArea PoolQC Fence MiscFeature  \\\n",
       "0         Lvl    AllPub  ...           0        0    NaN   NaN         NaN   \n",
       "1         Lvl    AllPub  ...           0        0    NaN   NaN         NaN   \n",
       "2         Lvl    AllPub  ...           0        0    NaN   NaN         NaN   \n",
       "3         Lvl    AllPub  ...           0        0    NaN   NaN         NaN   \n",
       "4         Lvl    AllPub  ...           0        0    NaN   NaN         NaN   \n",
       "\n",
       "  MiscVal MoSold  YrSold  SaleType  SaleCondition  \n",
       "0       0      2    2008        WD         Normal  \n",
       "1       0      5    2007        WD         Normal  \n",
       "2       0      9    2008        WD         Normal  \n",
       "3       0      2    2006        WD        Abnorml  \n",
       "4       0     12    2008        WD         Normal  \n",
       "\n",
       "[5 rows x 80 columns]"
      ]
     },
     "execution_count": 8,
     "metadata": {},
     "output_type": "execute_result"
    }
   ],
   "source": [
    "dfT.head()"
   ]
  },
  {
   "cell_type": "markdown",
   "metadata": {},
   "source": [
    "# Variables"
   ]
  },
  {
   "cell_type": "markdown",
   "metadata": {},
   "source": [
    "Para una primera clasificación, las variables se agruparán según el tipo que se detalla en el documento **AmesHousing.txt**,"
   ]
  },
  {
   "cell_type": "markdown",
   "metadata": {},
   "source": [
    "## Categóricas"
   ]
  },
  {
   "cell_type": "markdown",
   "metadata": {},
   "source": [
    "### Nominales\n",
    "\n",
    "Como variables nominales se tiene:"
   ]
  },
  {
   "cell_type": "code",
   "execution_count": 9,
   "metadata": {
    "cell_style": "center"
   },
   "outputs": [],
   "source": [
    "nominales = list(['Id', 'MSSubClass', 'MSZoning', 'Street', 'Alley', 'LandContour', 'LotConfig', \n",
    "                  'Neighborhood', 'Condition1', 'Condition2', 'BldgType', 'HouseStyle', 'RoofStyle',\n",
    "                  'RoofMatl', 'Exterior1st', 'Exterior2nd', 'MasVnrType', 'Foundation', 'Heating', \n",
    "                  'CentralAir', 'GarageType', 'MiscFeature', 'SaleType', 'SaleCondition'])"
   ]
  },
  {
   "cell_type": "markdown",
   "metadata": {},
   "source": [
    "### Ordinales Categóricas\n",
    "\n",
    "Como variables categóricas ordinales se tienen:"
   ]
  },
  {
   "cell_type": "code",
   "execution_count": 10,
   "metadata": {},
   "outputs": [],
   "source": [
    "ordinales_cat = list(['LotShape', 'Utilities', 'LandSlope', 'ExterQual', 'ExterCond', 'BsmtQual', \n",
    "                      'BsmtCond', 'BsmtExposure', 'BsmtFinType1', 'BsmtFinType2', 'HeatingQC', \n",
    "                      'Electrical', 'KitchenQual', 'Functional', 'FireplaceQu', 'GarageFinish', \n",
    "                      'GarageQual','GarageCond', 'PavedDrive', 'PoolQC', 'Fence'])"
   ]
  },
  {
   "cell_type": "markdown",
   "metadata": {},
   "source": [
    "## Numéricas"
   ]
  },
  {
   "cell_type": "markdown",
   "metadata": {},
   "source": [
    "### Numéricas puras\n",
    "\n",
    "Como variables numéricas puras se tienen:"
   ]
  },
  {
   "cell_type": "code",
   "execution_count": 11,
   "metadata": {},
   "outputs": [],
   "source": [
    "numericas_puras = list(['LotFrontage', 'LotArea', 'MasVnrArea', 'BsmtFinSF1','BsmtFinSF2',\n",
    "                        'BsmtUnfSF', 'TotalBsmtSF', '1stFlrSF', '2ndFlrSF', 'LowQualFinSF', \n",
    "                        'GrLivArea', 'GarageArea','WoodDeckSF','OpenPorchSF', 'EnclosedPorch',\n",
    "                        '3SsnPorch', 'ScreenPorch', 'PoolArea', 'MiscVal'])"
   ]
  },
  {
   "cell_type": "markdown",
   "metadata": {},
   "source": [
    "### Numéricas Ordinales \n",
    "\n",
    "Como variables numéricas ordinales se tienen:"
   ]
  },
  {
   "cell_type": "code",
   "execution_count": 12,
   "metadata": {
    "scrolled": true
   },
   "outputs": [],
   "source": [
    "ordinales_num = list(['OverallQual', 'OverallCond'])"
   ]
  },
  {
   "cell_type": "markdown",
   "metadata": {},
   "source": [
    "### Numéricas Discretas\n",
    "\n",
    "Como variables numéricas discretas se tienen:"
   ]
  },
  {
   "cell_type": "code",
   "execution_count": 13,
   "metadata": {},
   "outputs": [],
   "source": [
    "numericas_disc = list(['YearBuilt', 'YearRemodAdd', 'BsmtFullBath', 'BsmtHalfBath',\n",
    "                       'FullBath', 'HalfBath',  'BedroomAbvGr', 'KitchenAbvGr', 'TotRmsAbvGrd', 'Fireplaces',\n",
    "                       'GarageYrBlt', 'GarageCars', 'MoSold', 'YrSold'])"
   ]
  },
  {
   "cell_type": "markdown",
   "metadata": {},
   "source": [
    "De estas variables numéricas discretas se pueden conocer el número de valores diferentes que toman cada una de ellas."
   ]
  },
  {
   "cell_type": "code",
   "execution_count": 14,
   "metadata": {},
   "outputs": [
    {
     "data": {
      "text/html": [
       "<div>\n",
       "<style scoped>\n",
       "    .dataframe tbody tr th:only-of-type {\n",
       "        vertical-align: middle;\n",
       "    }\n",
       "\n",
       "    .dataframe tbody tr th {\n",
       "        vertical-align: top;\n",
       "    }\n",
       "\n",
       "    .dataframe thead th {\n",
       "        text-align: right;\n",
       "    }\n",
       "</style>\n",
       "<table border=\"1\" class=\"dataframe\">\n",
       "  <thead>\n",
       "    <tr style=\"text-align: right;\">\n",
       "      <th></th>\n",
       "      <th>Nº unicos</th>\n",
       "    </tr>\n",
       "  </thead>\n",
       "  <tbody>\n",
       "    <tr>\n",
       "      <th>YearBuilt</th>\n",
       "      <td>112</td>\n",
       "    </tr>\n",
       "    <tr>\n",
       "      <th>YearRemodAdd</th>\n",
       "      <td>61</td>\n",
       "    </tr>\n",
       "    <tr>\n",
       "      <th>BsmtFullBath</th>\n",
       "      <td>4</td>\n",
       "    </tr>\n",
       "    <tr>\n",
       "      <th>BsmtHalfBath</th>\n",
       "      <td>3</td>\n",
       "    </tr>\n",
       "    <tr>\n",
       "      <th>FullBath</th>\n",
       "      <td>4</td>\n",
       "    </tr>\n",
       "    <tr>\n",
       "      <th>HalfBath</th>\n",
       "      <td>3</td>\n",
       "    </tr>\n",
       "    <tr>\n",
       "      <th>BedroomAbvGr</th>\n",
       "      <td>8</td>\n",
       "    </tr>\n",
       "    <tr>\n",
       "      <th>KitchenAbvGr</th>\n",
       "      <td>4</td>\n",
       "    </tr>\n",
       "    <tr>\n",
       "      <th>TotRmsAbvGrd</th>\n",
       "      <td>12</td>\n",
       "    </tr>\n",
       "    <tr>\n",
       "      <th>Fireplaces</th>\n",
       "      <td>4</td>\n",
       "    </tr>\n",
       "    <tr>\n",
       "      <th>GarageYrBlt</th>\n",
       "      <td>97</td>\n",
       "    </tr>\n",
       "    <tr>\n",
       "      <th>GarageCars</th>\n",
       "      <td>5</td>\n",
       "    </tr>\n",
       "    <tr>\n",
       "      <th>MoSold</th>\n",
       "      <td>12</td>\n",
       "    </tr>\n",
       "    <tr>\n",
       "      <th>YrSold</th>\n",
       "      <td>5</td>\n",
       "    </tr>\n",
       "  </tbody>\n",
       "</table>\n",
       "</div>"
      ],
      "text/plain": [
       "              Nº unicos\n",
       "YearBuilt           112\n",
       "YearRemodAdd         61\n",
       "BsmtFullBath          4\n",
       "BsmtHalfBath          3\n",
       "FullBath              4\n",
       "HalfBath              3\n",
       "BedroomAbvGr          8\n",
       "KitchenAbvGr          4\n",
       "TotRmsAbvGrd         12\n",
       "Fireplaces            4\n",
       "GarageYrBlt          97\n",
       "GarageCars            5\n",
       "MoSold               12\n",
       "YrSold                5"
      ]
     },
     "execution_count": 14,
     "metadata": {},
     "output_type": "execute_result"
    }
   ],
   "source": [
    "unicos = df_train[numericas_disc].nunique()\n",
    "pd.DataFrame({'Nº unicos': unicos})"
   ]
  },
  {
   "cell_type": "markdown",
   "metadata": {},
   "source": [
    "# Depuración"
   ]
  },
  {
   "cell_type": "markdown",
   "metadata": {},
   "source": [
    "Para la depuración, se van a reagrupar las variable originales, definidas anteriormente, según las premisas que a continuación se detallan:\n",
    "\n",
    "* **Las variables nominales se mantienen como las originales**\n",
    "* **Las variables ordinales serán el resultado de unir:**\n",
    "    * variables ordinales categóricas\n",
    "    * variables ordinales numéricas\n",
    "* **Las variables numéricas serán el resultado de unir:**\n",
    "    * variables numéricas puras\n",
    "    * variables numéricas discretas "
   ]
  },
  {
   "cell_type": "code",
   "execution_count": 15,
   "metadata": {},
   "outputs": [],
   "source": [
    "nominales = nominales"
   ]
  },
  {
   "cell_type": "code",
   "execution_count": 16,
   "metadata": {},
   "outputs": [],
   "source": [
    "ordinales = ordinales_cat + ordinales_num"
   ]
  },
  {
   "cell_type": "code",
   "execution_count": 17,
   "metadata": {},
   "outputs": [],
   "source": [
    "numericas = numericas_puras + numericas_disc"
   ]
  },
  {
   "cell_type": "markdown",
   "metadata": {},
   "source": [
    "## Creación Objeto pipeLine"
   ]
  },
  {
   "cell_type": "markdown",
   "metadata": {},
   "source": [
    "Se crea el objeto DF de la clase **`pipeLine`** que se ha creado ad-hoc para la depuración del dataset y se comprueba el número de columnas."
   ]
  },
  {
   "cell_type": "code",
   "execution_count": 18,
   "metadata": {},
   "outputs": [
    {
     "data": {
      "text/plain": [
       "80"
      ]
     },
     "execution_count": 18,
     "metadata": {},
     "output_type": "execute_result"
    }
   ],
   "source": [
    "#Se crea objeto de clase pipeLine\n",
    "DF = pipeLine(dfT, nominales, ordinales, numericas, target=target)\n",
    "\n",
    "#Se comprueban el número de columnas\n",
    "len(DF.df.columns)"
   ]
  },
  {
   "cell_type": "markdown",
   "metadata": {},
   "source": [
    "## Eliminación variables"
   ]
  },
  {
   "cell_type": "markdown",
   "metadata": {},
   "source": [
    "Se elimina la variable **'Id'**."
   ]
  },
  {
   "cell_type": "code",
   "execution_count": 19,
   "metadata": {},
   "outputs": [
    {
     "data": {
      "text/plain": [
       "79"
      ]
     },
     "execution_count": 19,
     "metadata": {},
     "output_type": "execute_result"
    }
   ],
   "source": [
    "# se elimina la variable 'Id'\n",
    "DF.remCols([\"Id\"])\n",
    "\n",
    "#Se comprueban el número de columnas\n",
    "len(DF.df.columns)"
   ]
  },
  {
   "cell_type": "markdown",
   "metadata": {},
   "source": [
    "## Outliers"
   ]
  },
  {
   "cell_type": "markdown",
   "metadata": {},
   "source": [
    "Según el Anexo I se han considerado como **outliers** las siguientes observaciones presentes en las variables que se detallan a continuación. Como procedimiento general, se considera llevar a **NaN** dichos valores. \n",
    "\n",
    "Las variables afectadas por estos valores extremos son:"
   ]
  },
  {
   "cell_type": "markdown",
   "metadata": {},
   "source": [
    "* **LotFrontage**\n",
    "* **LotArea**\n",
    "* **BsmtfinSF1**\n",
    "* **TotalBsmtSF**\n",
    "* **1stFlrSF**\n",
    "* **GrLivArea**"
   ]
  },
  {
   "cell_type": "markdown",
   "metadata": {},
   "source": [
    "Los índices de las observaciones de cada variable vienen identificadas en el siguiente diccionario:"
   ]
  },
  {
   "cell_type": "code",
   "execution_count": 20,
   "metadata": {},
   "outputs": [],
   "source": [
    "outliers = {'LotFrontage': [934, 1298, 1337],\n",
    "            'LotArea': [53,  171,  249,  271,  313,  335,  384,  411,  451,  457,  523,\n",
    "                        529,  661,  706,  769,  848, 1169, 1184, 1190, 1287, 1298, 1396,\n",
    "                        1945, 1947, 2188, 2250, 2263, 2264, 2549, 2599, 2607, 2617, 2796,\n",
    "                        2900, 2904],\n",
    "            'BsmtFinSF1': [523, 1298, 1663, 1974, 2549],\n",
    "            'TotalBsmtSF': [332, 440, 496, 523, 1298, 2549],\n",
    "            '1stFlrSF': [496, 523, 1024, 1298, 2188, 2549],\n",
    "            'GrLivArea': [523, 1298, 2549]}"
   ]
  },
  {
   "cell_type": "markdown",
   "metadata": {},
   "source": [
    "Se imputan los valores outliers identificados a NaN según el método de clase creado al efecto:\n"
   ]
  },
  {
   "cell_type": "code",
   "execution_count": 21,
   "metadata": {},
   "outputs": [],
   "source": [
    "DF.outliersNaN(dic=outliers)"
   ]
  },
  {
   "cell_type": "markdown",
   "metadata": {},
   "source": [
    "## Missing"
   ]
  },
  {
   "cell_type": "markdown",
   "metadata": {},
   "source": [
    "También se ha visto en el Anexo I, que las variables que tenían verdaderos missing son:\n",
    "\n",
    "* **LotFrontage**\n",
    "* **MasVnrArea**\n",
    "* **MasVnrType**\n",
    "* **MSZoning**\n",
    "* **Utilities**\n",
    "* **Exterior1st** \n",
    "* **Exterior2nd**\n",
    "* **BsmtFinSF1**\n",
    "* **BsmtFinSF2**\n",
    "* **BsmtUnfSF**\n",
    "* **TotalBsmtSF**\n",
    "* **BsmtFullBath**\n",
    "* **BsmtHalfBath**\n",
    "* **KitchenQual**\n",
    "* **Functional**\n",
    "* **GarageCar**\n",
    "* **GarageYrBlt**\n",
    "* **GarageArea**\n",
    "* **SaleType**\n",
    "\n",
    "El **número de missings** de cada una de ellos es el siguiente:"
   ]
  },
  {
   "cell_type": "code",
   "execution_count": 22,
   "metadata": {},
   "outputs": [
    {
     "data": {
      "text/html": [
       "<div>\n",
       "<style scoped>\n",
       "    .dataframe tbody tr th:only-of-type {\n",
       "        vertical-align: middle;\n",
       "    }\n",
       "\n",
       "    .dataframe tbody tr th {\n",
       "        vertical-align: top;\n",
       "    }\n",
       "\n",
       "    .dataframe thead th {\n",
       "        text-align: right;\n",
       "    }\n",
       "</style>\n",
       "<table border=\"1\" class=\"dataframe\">\n",
       "  <thead>\n",
       "    <tr style=\"text-align: right;\">\n",
       "      <th></th>\n",
       "      <th>missings</th>\n",
       "    </tr>\n",
       "  </thead>\n",
       "  <tbody>\n",
       "    <tr>\n",
       "      <th>LotFrontage</th>\n",
       "      <td>489</td>\n",
       "    </tr>\n",
       "    <tr>\n",
       "      <th>GarageYrBlt</th>\n",
       "      <td>159</td>\n",
       "    </tr>\n",
       "    <tr>\n",
       "      <th>MasVnrType</th>\n",
       "      <td>24</td>\n",
       "    </tr>\n",
       "    <tr>\n",
       "      <th>MasVnrArea</th>\n",
       "      <td>23</td>\n",
       "    </tr>\n",
       "    <tr>\n",
       "      <th>TotalBsmtSF</th>\n",
       "      <td>7</td>\n",
       "    </tr>\n",
       "    <tr>\n",
       "      <th>BsmtFinSF1</th>\n",
       "      <td>6</td>\n",
       "    </tr>\n",
       "    <tr>\n",
       "      <th>MSZoning</th>\n",
       "      <td>4</td>\n",
       "    </tr>\n",
       "    <tr>\n",
       "      <th>Functional</th>\n",
       "      <td>2</td>\n",
       "    </tr>\n",
       "    <tr>\n",
       "      <th>BsmtHalfBath</th>\n",
       "      <td>2</td>\n",
       "    </tr>\n",
       "    <tr>\n",
       "      <th>BsmtFullBath</th>\n",
       "      <td>2</td>\n",
       "    </tr>\n",
       "    <tr>\n",
       "      <th>Utilities</th>\n",
       "      <td>2</td>\n",
       "    </tr>\n",
       "    <tr>\n",
       "      <th>Exterior1st</th>\n",
       "      <td>1</td>\n",
       "    </tr>\n",
       "    <tr>\n",
       "      <th>SaleType</th>\n",
       "      <td>1</td>\n",
       "    </tr>\n",
       "    <tr>\n",
       "      <th>Exterior2nd</th>\n",
       "      <td>1</td>\n",
       "    </tr>\n",
       "    <tr>\n",
       "      <th>BsmtFinSF2</th>\n",
       "      <td>1</td>\n",
       "    </tr>\n",
       "    <tr>\n",
       "      <th>GarageArea</th>\n",
       "      <td>1</td>\n",
       "    </tr>\n",
       "    <tr>\n",
       "      <th>KitchenQual</th>\n",
       "      <td>1</td>\n",
       "    </tr>\n",
       "    <tr>\n",
       "      <th>GarageCars</th>\n",
       "      <td>1</td>\n",
       "    </tr>\n",
       "    <tr>\n",
       "      <th>BsmtUnfSF</th>\n",
       "      <td>1</td>\n",
       "    </tr>\n",
       "  </tbody>\n",
       "</table>\n",
       "</div>"
      ],
      "text/plain": [
       "              missings\n",
       "LotFrontage        489\n",
       "GarageYrBlt        159\n",
       "MasVnrType          24\n",
       "MasVnrArea          23\n",
       "TotalBsmtSF          7\n",
       "BsmtFinSF1           6\n",
       "MSZoning             4\n",
       "Functional           2\n",
       "BsmtHalfBath         2\n",
       "BsmtFullBath         2\n",
       "Utilities            2\n",
       "Exterior1st          1\n",
       "SaleType             1\n",
       "Exterior2nd          1\n",
       "BsmtFinSF2           1\n",
       "GarageArea           1\n",
       "KitchenQual          1\n",
       "GarageCars           1\n",
       "BsmtUnfSF            1"
      ]
     },
     "execution_count": 22,
     "metadata": {},
     "output_type": "execute_result"
    }
   ],
   "source": [
    "missings = DF.df[['LotFrontage', 'MasVnrArea', 'MasVnrType', 'MSZoning', 'Utilities', 'Exterior1st', \n",
    "       'Exterior2nd', 'BsmtFinSF1', 'BsmtFinSF2', 'BsmtUnfSF', 'TotalBsmtSF', 'BsmtFullBath',\n",
    "       'BsmtHalfBath', 'KitchenQual', 'Functional', 'GarageCars', 'GarageYrBlt', 'GarageArea', \n",
    "       'SaleType']].isnull().sum().sort_values(ascending=False)\n",
    "\n",
    "pd.DataFrame({'missings': missings})"
   ]
  },
  {
   "cell_type": "markdown",
   "metadata": {},
   "source": [
    "Posteriormente se procederá a imputar estos valores NaN."
   ]
  },
  {
   "cell_type": "markdown",
   "metadata": {},
   "source": [
    "### Indicadores Missing"
   ]
  },
  {
   "cell_type": "markdown",
   "metadata": {},
   "source": [
    "Para tratar de estudiar los posibles efectos de la presencia de dichos missings se crean **variables indicador booleanas**, para cada una de las variables anteriores, que reflejan la presencia o no de registros con missings. Tomarán los siguientes nombres:\n",
    "\n",
    "* **LotFrontage_miss**\n",
    "* **MasVnrArea_miss**\n",
    "* **MasVnrType_miss**\n",
    "* **MSZoning_miss**\n",
    "* **Utilities_miss**\n",
    "* **Exterior1st_miss** \n",
    "* **Exterior2nd_miss**\n",
    "* **BsmtFinSF1_miss**\n",
    "* **BsmtFinSF2_miss**\n",
    "* **BsmtUnfSF_miss**\n",
    "* **TotalBsmtSF_miss**\n",
    "* **BsmtFullBath_miss**\n",
    "* **BsmtHalfBath_miss**\n",
    "* **KitchenQual_miss**\n",
    "* **Functional_miss**\n",
    "* **GarageCar_miss**\n",
    "* **GarageYrBlt_miss**\n",
    "* **GarageArea_miss**\n",
    "* **SaleType_miss**"
   ]
  },
  {
   "cell_type": "markdown",
   "metadata": {},
   "source": [
    "Se crean 'variables indicador' de missings donde hay verdaderos NaNs y se comprueba el número de variables."
   ]
  },
  {
   "cell_type": "code",
   "execution_count": 23,
   "metadata": {
    "scrolled": false
   },
   "outputs": [],
   "source": [
    "# Se crean variables indicadores de missings donde hay verdaderos NaNs\n",
    "missingIndicatores = DF.indicatorMiss(['LotFrontage', 'MasVnrArea', 'MasVnrType', 'MSZoning', 'Utilities', \n",
    "                                       'Exterior1st', 'Exterior2nd', 'BsmtFinSF1', 'BsmtFinSF2', 'BsmtUnfSF', \n",
    "                                       'TotalBsmtSF', 'BsmtFullBath', 'BsmtHalfBath', 'KitchenQual', \n",
    "                                       'Functional', 'GarageCars', 'GarageYrBlt', 'GarageArea', \n",
    "                                       'SaleType'], concat=False)"
   ]
  },
  {
   "cell_type": "markdown",
   "metadata": {},
   "source": [
    "### Imputación Verdaderos Missings (valores originales y los valores de los outliers imputados a NaN)"
   ]
  },
  {
   "cell_type": "markdown",
   "metadata": {},
   "source": [
    "Con lo visto en los dos puntos anteriores anteriores **se imputan tanto las variables que poseen verdaderos missings como aquellas variables que tenían outliers** usando los valores por defecto del método de la clase **pipeLine** creado a dicho efecto, es decir,\n",
    "\n",
    "* **Mediana** para variables numéricas\n",
    "* **Moda** para variables de tipo categórico"
   ]
  },
  {
   "cell_type": "code",
   "execution_count": 24,
   "metadata": {},
   "outputs": [],
   "source": [
    "# imputar variables con NaNs reales y además:\n",
    "# LotArea, 1stFlrSF y GrLivArea que tienen NaNs procedentes de la imputación a NaN de los outliers\n",
    "\n",
    "DF.imputerVar(['LotFrontage', 'MasVnrArea', 'MasVnrType', 'MSZoning', 'Utilities', 'Exterior1st', \n",
    "                'Exterior2nd', 'BsmtFinSF1', 'BsmtFinSF2', 'BsmtUnfSF', 'TotalBsmtSF', 'BsmtFullBath',\n",
    "                'BsmtHalfBath', 'KitchenQual', 'Functional', 'GarageCars', 'GarageYrBlt', 'GarageArea', \n",
    "                'SaleType', 'LotArea', '1stFlrSF', 'GrLivArea'])"
   ]
  },
  {
   "cell_type": "markdown",
   "metadata": {},
   "source": [
    "Se comprueba la correcta imputación anterior y la **no existencia de missings** para dichas variables."
   ]
  },
  {
   "cell_type": "code",
   "execution_count": 25,
   "metadata": {},
   "outputs": [
    {
     "data": {
      "text/plain": [
       "True"
      ]
     },
     "execution_count": 25,
     "metadata": {},
     "output_type": "execute_result"
    }
   ],
   "source": [
    "# Existen NaN en las variables que tenían verdaderos NaN\n",
    "(DF.df[['LotFrontage', 'MasVnrArea', 'MasVnrType', 'MSZoning', 'Utilities', 'Exterior1st', \n",
    "       'Exterior2nd', 'BsmtFinSF1', 'BsmtFinSF2', 'BsmtUnfSF', 'TotalBsmtSF', 'BsmtFullBath',\n",
    "       'BsmtHalfBath', 'KitchenQual', 'Functional', 'GarageCars', 'GarageYrBlt', 'GarageArea', \n",
    "       'SaleType', 'LotArea', '1stFlrSF', 'GrLivArea']].isnull().sum() == 0).all()"
   ]
  },
  {
   "cell_type": "markdown",
   "metadata": {},
   "source": [
    "### Recodificación categorías valor NaN"
   ]
  },
  {
   "cell_type": "markdown",
   "metadata": {},
   "source": [
    "En este punto, se recodifican las **variables nominales y ordinales que poseean como categoría válida la codificada como 'NaN'**. Se recodifican como **'None'**."
   ]
  },
  {
   "cell_type": "code",
   "execution_count": 26,
   "metadata": {},
   "outputs": [],
   "source": [
    "# Se recodifican las categorías NaN por None tanto para variables nominales como ordinales\n",
    "DF.chgCatNone(cols = DF.nominales)\n",
    "\n",
    "DF.chgCatNone(cols = DF.ordinales)"
   ]
  },
  {
   "cell_type": "code",
   "execution_count": 27,
   "metadata": {
    "scrolled": true
   },
   "outputs": [
    {
     "data": {
      "text/plain": [
       "(79, 79, 79)"
      ]
     },
     "execution_count": 27,
     "metadata": {},
     "output_type": "execute_result"
    }
   ],
   "source": [
    "len(DF.columns), len(DF.df.columns), len(DF.numericas + DF.nominales + DF.ordinales)"
   ]
  },
  {
   "cell_type": "markdown",
   "metadata": {},
   "source": [
    "Realizadas las imputaciones anteriores se comprueba la **existencia de NaN** en todo el dataset."
   ]
  },
  {
   "cell_type": "code",
   "execution_count": 28,
   "metadata": {},
   "outputs": [
    {
     "data": {
      "text/plain": [
       "False"
      ]
     },
     "execution_count": 28,
     "metadata": {},
     "output_type": "execute_result"
    }
   ],
   "source": [
    "DF.df.isnull().sum().any()"
   ]
  },
  {
   "cell_type": "markdown",
   "metadata": {},
   "source": [
    "Se concluye que, habida cuenta del resultado False anterior, las imputaciones planteadas han sido resueltas satisfactoriamente."
   ]
  },
  {
   "cell_type": "markdown",
   "metadata": {},
   "source": [
    "##  Generación de nuevas Variables. Feature Engineering."
   ]
  },
  {
   "cell_type": "markdown",
   "metadata": {},
   "source": [
    "Se agregan las nuevas variables creadas en el proceso de **Feature Engineering** usándo el método de clase featureEng de la clase pipeLine."
   ]
  },
  {
   "cell_type": "code",
   "execution_count": 29,
   "metadata": {},
   "outputs": [
    {
     "data": {
      "text/plain": [
       "(91, 91, 91)"
      ]
     },
     "execution_count": 29,
     "metadata": {},
     "output_type": "execute_result"
    }
   ],
   "source": [
    "# carga nuevas variables \n",
    "DF.featureEng()\n",
    "\n",
    "len(DF.columns), len(DF.df.columns), len(DF.numericas + DF.nominales + DF.ordinales)"
   ]
  },
  {
   "cell_type": "markdown",
   "metadata": {},
   "source": [
    "Se comprueba cómo se han generado las variables en vista del aumento de número de ellas en el dataset. Además de las anteriores, se propone la inclusión de la siguiente variable que tiene en cuenta la el precio medio de venta de la una vivienda dependiendo del precio medio del barrio donde está ubicada dicha vivienda."
   ]
  },
  {
   "cell_type": "code",
   "execution_count": 30,
   "metadata": {},
   "outputs": [],
   "source": [
    "# Se le añade esta variable nueva\n",
    "mapper = dict(df.groupby(\"Neighborhood\")['SalePrice'].median())\n",
    "\n",
    "DF.df['Avg_NeigSalePrice'] = DF.df[\"Neighborhood\"].map(mapper)\n",
    "\n",
    "DF.addCols({'numericas': ['Avg_NeigSalePrice']})"
   ]
  },
  {
   "cell_type": "markdown",
   "metadata": {},
   "source": [
    "En total se tienen finalmente el siguiente número de variables en el data set."
   ]
  },
  {
   "cell_type": "code",
   "execution_count": 31,
   "metadata": {},
   "outputs": [
    {
     "data": {
      "text/plain": [
       "(92, 92, 92)"
      ]
     },
     "execution_count": 31,
     "metadata": {},
     "output_type": "execute_result"
    }
   ],
   "source": [
    "len(DF.columns), len(DF.df.columns), len(DF.numericas + DF.nominales + DF.ordinales)"
   ]
  },
  {
   "cell_type": "markdown",
   "metadata": {},
   "source": [
    "## Codificación Ordinales"
   ]
  },
  {
   "cell_type": "markdown",
   "metadata": {},
   "source": [
    "Se procede a codificar numericamente las variables ordinales. Para ello, inicialmente, se definen las categorías de las variables ordinales a recodificar. También se muestra el aspecto de dichas variables antes de la codificación."
   ]
  },
  {
   "cell_type": "code",
   "execution_count": 32,
   "metadata": {
    "scrolled": true
   },
   "outputs": [
    {
     "data": {
      "text/html": [
       "<div>\n",
       "<style scoped>\n",
       "    .dataframe tbody tr th:only-of-type {\n",
       "        vertical-align: middle;\n",
       "    }\n",
       "\n",
       "    .dataframe tbody tr th {\n",
       "        vertical-align: top;\n",
       "    }\n",
       "\n",
       "    .dataframe thead th {\n",
       "        text-align: right;\n",
       "    }\n",
       "</style>\n",
       "<table border=\"1\" class=\"dataframe\">\n",
       "  <thead>\n",
       "    <tr style=\"text-align: right;\">\n",
       "      <th></th>\n",
       "      <th>LotShape</th>\n",
       "      <th>Utilities</th>\n",
       "      <th>LandSlope</th>\n",
       "      <th>ExterQual</th>\n",
       "      <th>ExterCond</th>\n",
       "      <th>BsmtQual</th>\n",
       "      <th>BsmtCond</th>\n",
       "      <th>BsmtExposure</th>\n",
       "      <th>BsmtFinType1</th>\n",
       "      <th>BsmtFinType2</th>\n",
       "      <th>...</th>\n",
       "      <th>Functional</th>\n",
       "      <th>FireplaceQu</th>\n",
       "      <th>GarageFinish</th>\n",
       "      <th>GarageQual</th>\n",
       "      <th>GarageCond</th>\n",
       "      <th>PavedDrive</th>\n",
       "      <th>PoolQC</th>\n",
       "      <th>Fence</th>\n",
       "      <th>OverallQual</th>\n",
       "      <th>OverallCond</th>\n",
       "    </tr>\n",
       "  </thead>\n",
       "  <tbody>\n",
       "    <tr>\n",
       "      <th>0</th>\n",
       "      <td>Reg</td>\n",
       "      <td>AllPub</td>\n",
       "      <td>Gtl</td>\n",
       "      <td>Gd</td>\n",
       "      <td>TA</td>\n",
       "      <td>Gd</td>\n",
       "      <td>TA</td>\n",
       "      <td>No</td>\n",
       "      <td>GLQ</td>\n",
       "      <td>Unf</td>\n",
       "      <td>...</td>\n",
       "      <td>Typ</td>\n",
       "      <td>None</td>\n",
       "      <td>RFn</td>\n",
       "      <td>TA</td>\n",
       "      <td>TA</td>\n",
       "      <td>Y</td>\n",
       "      <td>None</td>\n",
       "      <td>None</td>\n",
       "      <td>7</td>\n",
       "      <td>5</td>\n",
       "    </tr>\n",
       "    <tr>\n",
       "      <th>1</th>\n",
       "      <td>Reg</td>\n",
       "      <td>AllPub</td>\n",
       "      <td>Gtl</td>\n",
       "      <td>TA</td>\n",
       "      <td>TA</td>\n",
       "      <td>Gd</td>\n",
       "      <td>TA</td>\n",
       "      <td>Gd</td>\n",
       "      <td>ALQ</td>\n",
       "      <td>Unf</td>\n",
       "      <td>...</td>\n",
       "      <td>Typ</td>\n",
       "      <td>TA</td>\n",
       "      <td>RFn</td>\n",
       "      <td>TA</td>\n",
       "      <td>TA</td>\n",
       "      <td>Y</td>\n",
       "      <td>None</td>\n",
       "      <td>None</td>\n",
       "      <td>6</td>\n",
       "      <td>8</td>\n",
       "    </tr>\n",
       "    <tr>\n",
       "      <th>2</th>\n",
       "      <td>IR1</td>\n",
       "      <td>AllPub</td>\n",
       "      <td>Gtl</td>\n",
       "      <td>Gd</td>\n",
       "      <td>TA</td>\n",
       "      <td>Gd</td>\n",
       "      <td>TA</td>\n",
       "      <td>Mn</td>\n",
       "      <td>GLQ</td>\n",
       "      <td>Unf</td>\n",
       "      <td>...</td>\n",
       "      <td>Typ</td>\n",
       "      <td>TA</td>\n",
       "      <td>RFn</td>\n",
       "      <td>TA</td>\n",
       "      <td>TA</td>\n",
       "      <td>Y</td>\n",
       "      <td>None</td>\n",
       "      <td>None</td>\n",
       "      <td>7</td>\n",
       "      <td>5</td>\n",
       "    </tr>\n",
       "    <tr>\n",
       "      <th>3</th>\n",
       "      <td>IR1</td>\n",
       "      <td>AllPub</td>\n",
       "      <td>Gtl</td>\n",
       "      <td>TA</td>\n",
       "      <td>TA</td>\n",
       "      <td>TA</td>\n",
       "      <td>Gd</td>\n",
       "      <td>No</td>\n",
       "      <td>ALQ</td>\n",
       "      <td>Unf</td>\n",
       "      <td>...</td>\n",
       "      <td>Typ</td>\n",
       "      <td>Gd</td>\n",
       "      <td>Unf</td>\n",
       "      <td>TA</td>\n",
       "      <td>TA</td>\n",
       "      <td>Y</td>\n",
       "      <td>None</td>\n",
       "      <td>None</td>\n",
       "      <td>7</td>\n",
       "      <td>5</td>\n",
       "    </tr>\n",
       "    <tr>\n",
       "      <th>4</th>\n",
       "      <td>IR1</td>\n",
       "      <td>AllPub</td>\n",
       "      <td>Gtl</td>\n",
       "      <td>Gd</td>\n",
       "      <td>TA</td>\n",
       "      <td>Gd</td>\n",
       "      <td>TA</td>\n",
       "      <td>Av</td>\n",
       "      <td>GLQ</td>\n",
       "      <td>Unf</td>\n",
       "      <td>...</td>\n",
       "      <td>Typ</td>\n",
       "      <td>TA</td>\n",
       "      <td>RFn</td>\n",
       "      <td>TA</td>\n",
       "      <td>TA</td>\n",
       "      <td>Y</td>\n",
       "      <td>None</td>\n",
       "      <td>None</td>\n",
       "      <td>8</td>\n",
       "      <td>5</td>\n",
       "    </tr>\n",
       "  </tbody>\n",
       "</table>\n",
       "<p>5 rows × 23 columns</p>\n",
       "</div>"
      ],
      "text/plain": [
       "  LotShape Utilities LandSlope ExterQual ExterCond BsmtQual BsmtCond  \\\n",
       "0      Reg    AllPub       Gtl        Gd        TA       Gd       TA   \n",
       "1      Reg    AllPub       Gtl        TA        TA       Gd       TA   \n",
       "2      IR1    AllPub       Gtl        Gd        TA       Gd       TA   \n",
       "3      IR1    AllPub       Gtl        TA        TA       TA       Gd   \n",
       "4      IR1    AllPub       Gtl        Gd        TA       Gd       TA   \n",
       "\n",
       "  BsmtExposure BsmtFinType1 BsmtFinType2  ... Functional FireplaceQu  \\\n",
       "0           No          GLQ          Unf  ...        Typ        None   \n",
       "1           Gd          ALQ          Unf  ...        Typ          TA   \n",
       "2           Mn          GLQ          Unf  ...        Typ          TA   \n",
       "3           No          ALQ          Unf  ...        Typ          Gd   \n",
       "4           Av          GLQ          Unf  ...        Typ          TA   \n",
       "\n",
       "  GarageFinish GarageQual GarageCond PavedDrive PoolQC Fence OverallQual  \\\n",
       "0          RFn         TA         TA          Y   None  None           7   \n",
       "1          RFn         TA         TA          Y   None  None           6   \n",
       "2          RFn         TA         TA          Y   None  None           7   \n",
       "3          Unf         TA         TA          Y   None  None           7   \n",
       "4          RFn         TA         TA          Y   None  None           8   \n",
       "\n",
       "  OverallCond  \n",
       "0           5  \n",
       "1           8  \n",
       "2           5  \n",
       "3           5  \n",
       "4           5  \n",
       "\n",
       "[5 rows x 23 columns]"
      ]
     },
     "execution_count": 32,
     "metadata": {},
     "output_type": "execute_result"
    }
   ],
   "source": [
    "categorias = [\n",
    " [\"Reg\", \"IR1\", \"IR2\", \"IR3\"], #LotShape\n",
    " [\"AllPub\", \"NoSewr\", \"NoSeWa\", \"ELO\"], #Utilities\n",
    " [\"Gtl\", \"Mod\", \"Sev\"], #LandSlope\n",
    " [\"Ex\", \"Gd\", \"TA\", \"Fa\", \"Po\"], #ExterQual   \n",
    " [\"Ex\", \"Gd\", \"TA\", \"Fa\", \"Po\"], #ExternCond\n",
    " [\"Ex\", \"Gd\", \"TA\", \"Fa\", \"Po\", \"None\"], #BsmtQual\n",
    " [\"Ex\", \"Gd\", \"TA\", \"Fa\", \"Po\", \"None\"], #BsmtCond\n",
    " [\"Gd\", \"Av\", \"Mn\", \"No\", \"None\"], #BsmtExposure\n",
    " [\"GLQ\", \"ALQ\", \"BLQ\", \"Rec\", \"LwQ\", \"Unf\", \"None\"], #BsmtFinType1\n",
    " [\"GLQ\", \"ALQ\", \"BLQ\", \"Rec\", \"LwQ\", \"Unf\", \"None\"], #BsmtFinType2\n",
    " [\"Ex\", \"Gd\", \"TA\", \"Fa\", \"Po\"], #HeatingQC  \n",
    " [\"SBrkr\", \"FuseA\", \"FuseF\", \"FuseP\", \"Mix\", \"None\"], #Electrical\n",
    " [\"Ex\", \"Gd\", \"TA\", \"Fa\", \"Po\"], #KitchenQual\n",
    " [\"Typ\", \"Min1\", \"Min2\", \"Mod\", \"Maj1\", \"Maj2\", \"Sev\", \"Sal\"], #Functional\n",
    " [\"Ex\", \"Gd\", \"TA\", \"Fa\", \"Po\", \"None\"], #FireplaceQu\n",
    " [\"Fin\", \"RFn\", \"Unf\", \"None\"], #GarageFinish\n",
    " [\"Ex\", \"Gd\", \"TA\", \"Fa\", \"Po\", \"None\"], #GarageQual\n",
    " [\"Ex\", \"Gd\", \"TA\", \"Fa\", \"Po\", \"None\"], #GarageCond\n",
    " [\"Y\", \"P\", \"N\"], #PavedDrive \n",
    " [\"Ex\", \"Gd\", \"TA\", \"Fa\", \"None\"], #PoolQC\n",
    " [\"GdPrv\", \"MnPrv\", \"GdWo\", \"MnWw\", \"None\"], #Fence\n",
    " [1, 2, 3, 4, 5, 6, 7, 8, 9, 10], #OverallQual\n",
    " [1, 2, 3, 4, 5, 6, 7, 8, 9, 10] #OverallCond\n",
    "]\n",
    "\n",
    "DF.df[DF.ordinales].head()"
   ]
  },
  {
   "cell_type": "markdown",
   "metadata": {},
   "source": [
    "Se aplica el método de clase para la codificación de variables ordinales."
   ]
  },
  {
   "cell_type": "code",
   "execution_count": 33,
   "metadata": {},
   "outputs": [],
   "source": [
    "DF.ordEncoder(cols = DF.ordinales, categorias = categorias)"
   ]
  },
  {
   "cell_type": "markdown",
   "metadata": {},
   "source": [
    "Se comprueba que la recodificación se ha llevado a cabo correctamente transformando las categorías a valores numéricos."
   ]
  },
  {
   "cell_type": "code",
   "execution_count": 34,
   "metadata": {},
   "outputs": [
    {
     "data": {
      "text/html": [
       "<div>\n",
       "<style scoped>\n",
       "    .dataframe tbody tr th:only-of-type {\n",
       "        vertical-align: middle;\n",
       "    }\n",
       "\n",
       "    .dataframe tbody tr th {\n",
       "        vertical-align: top;\n",
       "    }\n",
       "\n",
       "    .dataframe thead th {\n",
       "        text-align: right;\n",
       "    }\n",
       "</style>\n",
       "<table border=\"1\" class=\"dataframe\">\n",
       "  <thead>\n",
       "    <tr style=\"text-align: right;\">\n",
       "      <th></th>\n",
       "      <th>LotShape</th>\n",
       "      <th>Utilities</th>\n",
       "      <th>LandSlope</th>\n",
       "      <th>ExterQual</th>\n",
       "      <th>ExterCond</th>\n",
       "      <th>BsmtQual</th>\n",
       "      <th>BsmtCond</th>\n",
       "      <th>BsmtExposure</th>\n",
       "      <th>BsmtFinType1</th>\n",
       "      <th>BsmtFinType2</th>\n",
       "      <th>...</th>\n",
       "      <th>Functional</th>\n",
       "      <th>FireplaceQu</th>\n",
       "      <th>GarageFinish</th>\n",
       "      <th>GarageQual</th>\n",
       "      <th>GarageCond</th>\n",
       "      <th>PavedDrive</th>\n",
       "      <th>PoolQC</th>\n",
       "      <th>Fence</th>\n",
       "      <th>OverallQual</th>\n",
       "      <th>OverallCond</th>\n",
       "    </tr>\n",
       "  </thead>\n",
       "  <tbody>\n",
       "    <tr>\n",
       "      <th>0</th>\n",
       "      <td>0.0</td>\n",
       "      <td>0.0</td>\n",
       "      <td>0.0</td>\n",
       "      <td>1.0</td>\n",
       "      <td>2.0</td>\n",
       "      <td>1.0</td>\n",
       "      <td>2.0</td>\n",
       "      <td>3.0</td>\n",
       "      <td>0.0</td>\n",
       "      <td>5.0</td>\n",
       "      <td>...</td>\n",
       "      <td>0.0</td>\n",
       "      <td>5.0</td>\n",
       "      <td>1.0</td>\n",
       "      <td>2.0</td>\n",
       "      <td>2.0</td>\n",
       "      <td>0.0</td>\n",
       "      <td>4.0</td>\n",
       "      <td>4.0</td>\n",
       "      <td>6.0</td>\n",
       "      <td>4.0</td>\n",
       "    </tr>\n",
       "    <tr>\n",
       "      <th>1</th>\n",
       "      <td>0.0</td>\n",
       "      <td>0.0</td>\n",
       "      <td>0.0</td>\n",
       "      <td>2.0</td>\n",
       "      <td>2.0</td>\n",
       "      <td>1.0</td>\n",
       "      <td>2.0</td>\n",
       "      <td>0.0</td>\n",
       "      <td>1.0</td>\n",
       "      <td>5.0</td>\n",
       "      <td>...</td>\n",
       "      <td>0.0</td>\n",
       "      <td>2.0</td>\n",
       "      <td>1.0</td>\n",
       "      <td>2.0</td>\n",
       "      <td>2.0</td>\n",
       "      <td>0.0</td>\n",
       "      <td>4.0</td>\n",
       "      <td>4.0</td>\n",
       "      <td>5.0</td>\n",
       "      <td>7.0</td>\n",
       "    </tr>\n",
       "    <tr>\n",
       "      <th>2</th>\n",
       "      <td>1.0</td>\n",
       "      <td>0.0</td>\n",
       "      <td>0.0</td>\n",
       "      <td>1.0</td>\n",
       "      <td>2.0</td>\n",
       "      <td>1.0</td>\n",
       "      <td>2.0</td>\n",
       "      <td>2.0</td>\n",
       "      <td>0.0</td>\n",
       "      <td>5.0</td>\n",
       "      <td>...</td>\n",
       "      <td>0.0</td>\n",
       "      <td>2.0</td>\n",
       "      <td>1.0</td>\n",
       "      <td>2.0</td>\n",
       "      <td>2.0</td>\n",
       "      <td>0.0</td>\n",
       "      <td>4.0</td>\n",
       "      <td>4.0</td>\n",
       "      <td>6.0</td>\n",
       "      <td>4.0</td>\n",
       "    </tr>\n",
       "    <tr>\n",
       "      <th>3</th>\n",
       "      <td>1.0</td>\n",
       "      <td>0.0</td>\n",
       "      <td>0.0</td>\n",
       "      <td>2.0</td>\n",
       "      <td>2.0</td>\n",
       "      <td>2.0</td>\n",
       "      <td>1.0</td>\n",
       "      <td>3.0</td>\n",
       "      <td>1.0</td>\n",
       "      <td>5.0</td>\n",
       "      <td>...</td>\n",
       "      <td>0.0</td>\n",
       "      <td>1.0</td>\n",
       "      <td>2.0</td>\n",
       "      <td>2.0</td>\n",
       "      <td>2.0</td>\n",
       "      <td>0.0</td>\n",
       "      <td>4.0</td>\n",
       "      <td>4.0</td>\n",
       "      <td>6.0</td>\n",
       "      <td>4.0</td>\n",
       "    </tr>\n",
       "    <tr>\n",
       "      <th>4</th>\n",
       "      <td>1.0</td>\n",
       "      <td>0.0</td>\n",
       "      <td>0.0</td>\n",
       "      <td>1.0</td>\n",
       "      <td>2.0</td>\n",
       "      <td>1.0</td>\n",
       "      <td>2.0</td>\n",
       "      <td>1.0</td>\n",
       "      <td>0.0</td>\n",
       "      <td>5.0</td>\n",
       "      <td>...</td>\n",
       "      <td>0.0</td>\n",
       "      <td>2.0</td>\n",
       "      <td>1.0</td>\n",
       "      <td>2.0</td>\n",
       "      <td>2.0</td>\n",
       "      <td>0.0</td>\n",
       "      <td>4.0</td>\n",
       "      <td>4.0</td>\n",
       "      <td>7.0</td>\n",
       "      <td>4.0</td>\n",
       "    </tr>\n",
       "  </tbody>\n",
       "</table>\n",
       "<p>5 rows × 23 columns</p>\n",
       "</div>"
      ],
      "text/plain": [
       "   LotShape  Utilities  LandSlope  ExterQual  ExterCond  BsmtQual  BsmtCond  \\\n",
       "0       0.0        0.0        0.0        1.0        2.0       1.0       2.0   \n",
       "1       0.0        0.0        0.0        2.0        2.0       1.0       2.0   \n",
       "2       1.0        0.0        0.0        1.0        2.0       1.0       2.0   \n",
       "3       1.0        0.0        0.0        2.0        2.0       2.0       1.0   \n",
       "4       1.0        0.0        0.0        1.0        2.0       1.0       2.0   \n",
       "\n",
       "   BsmtExposure  BsmtFinType1  BsmtFinType2  ...  Functional  FireplaceQu  \\\n",
       "0           3.0           0.0           5.0  ...         0.0          5.0   \n",
       "1           0.0           1.0           5.0  ...         0.0          2.0   \n",
       "2           2.0           0.0           5.0  ...         0.0          2.0   \n",
       "3           3.0           1.0           5.0  ...         0.0          1.0   \n",
       "4           1.0           0.0           5.0  ...         0.0          2.0   \n",
       "\n",
       "   GarageFinish  GarageQual  GarageCond  PavedDrive  PoolQC  Fence  \\\n",
       "0           1.0         2.0         2.0         0.0     4.0    4.0   \n",
       "1           1.0         2.0         2.0         0.0     4.0    4.0   \n",
       "2           1.0         2.0         2.0         0.0     4.0    4.0   \n",
       "3           2.0         2.0         2.0         0.0     4.0    4.0   \n",
       "4           1.0         2.0         2.0         0.0     4.0    4.0   \n",
       "\n",
       "   OverallQual  OverallCond  \n",
       "0          6.0          4.0  \n",
       "1          5.0          7.0  \n",
       "2          6.0          4.0  \n",
       "3          6.0          4.0  \n",
       "4          7.0          4.0  \n",
       "\n",
       "[5 rows x 23 columns]"
      ]
     },
     "execution_count": 34,
     "metadata": {},
     "output_type": "execute_result"
    }
   ],
   "source": [
    "DF.df[DF.ordinales].head()"
   ]
  },
  {
   "cell_type": "markdown",
   "metadata": {},
   "source": [
    "## Trasformaciones variables numéricas. Normalización"
   ]
  },
  {
   "cell_type": "markdown",
   "metadata": {},
   "source": [
    "De acuerdo con el Anexo I se van a normalizar las siguientes variables obtenidas por la aplicación de los criterios:\n",
    "\n",
    "* la variable tiene una alta asimetría \n",
    "* la transformación de la variable tiene sentido \n",
    "\n",
    "Se usará para ello el método de clase creado al efecto. Se recuerda que dicho método no elimina las variables originales."
   ]
  },
  {
   "cell_type": "code",
   "execution_count": 35,
   "metadata": {
    "scrolled": false
   },
   "outputs": [],
   "source": [
    "skewnessHigh = ['LotFrontage', 'LotArea', 'MasVnrArea', 'BsmtFinSF1', 'BsmtUnfSF', 'TotalBsmtSF', \n",
    "                '1stFlrSF', '2ndFlrSF', 'GrLivArea', 'WoodDeckSF', 'OpenPorchSF']"
   ]
  },
  {
   "cell_type": "code",
   "execution_count": 36,
   "metadata": {},
   "outputs": [],
   "source": [
    "# Se transforma variables\n",
    "DF.normVar(skewnessHigh)"
   ]
  },
  {
   "cell_type": "code",
   "execution_count": 37,
   "metadata": {},
   "outputs": [],
   "source": [
    "# Se guarda el resto de las variables numéricas que no van a ser transformadas\n",
    "restoNumericas = list(set(DF.numericas) - {var + '_norm' for var in skewnessHigh})"
   ]
  },
  {
   "cell_type": "code",
   "execution_count": 38,
   "metadata": {},
   "outputs": [
    {
     "data": {
      "text/html": [
       "<div>\n",
       "<style scoped>\n",
       "    .dataframe tbody tr th:only-of-type {\n",
       "        vertical-align: middle;\n",
       "    }\n",
       "\n",
       "    .dataframe tbody tr th {\n",
       "        vertical-align: top;\n",
       "    }\n",
       "\n",
       "    .dataframe thead th {\n",
       "        text-align: right;\n",
       "    }\n",
       "</style>\n",
       "<table border=\"1\" class=\"dataframe\">\n",
       "  <thead>\n",
       "    <tr style=\"text-align: right;\">\n",
       "      <th></th>\n",
       "      <th>LotFrontage</th>\n",
       "      <th>LotArea</th>\n",
       "      <th>MasVnrArea</th>\n",
       "      <th>BsmtFinSF1</th>\n",
       "      <th>BsmtFinSF2</th>\n",
       "      <th>BsmtUnfSF</th>\n",
       "      <th>TotalBsmtSF</th>\n",
       "      <th>1stFlrSF</th>\n",
       "      <th>2ndFlrSF</th>\n",
       "      <th>LowQualFinSF</th>\n",
       "      <th>...</th>\n",
       "      <th>FullBath</th>\n",
       "      <th>HalfBath</th>\n",
       "      <th>BedroomAbvGr</th>\n",
       "      <th>KitchenAbvGr</th>\n",
       "      <th>TotRmsAbvGrd</th>\n",
       "      <th>Fireplaces</th>\n",
       "      <th>GarageYrBlt</th>\n",
       "      <th>GarageCars</th>\n",
       "      <th>MoSold</th>\n",
       "      <th>YrSold</th>\n",
       "    </tr>\n",
       "  </thead>\n",
       "  <tbody>\n",
       "    <tr>\n",
       "      <th>0</th>\n",
       "      <td>65.0</td>\n",
       "      <td>8450.0</td>\n",
       "      <td>196.0</td>\n",
       "      <td>706.0</td>\n",
       "      <td>0.0</td>\n",
       "      <td>150.0</td>\n",
       "      <td>856.0</td>\n",
       "      <td>856.0</td>\n",
       "      <td>854</td>\n",
       "      <td>0</td>\n",
       "      <td>...</td>\n",
       "      <td>2</td>\n",
       "      <td>1</td>\n",
       "      <td>3</td>\n",
       "      <td>1</td>\n",
       "      <td>8</td>\n",
       "      <td>0</td>\n",
       "      <td>2003.0</td>\n",
       "      <td>2.0</td>\n",
       "      <td>2</td>\n",
       "      <td>2008</td>\n",
       "    </tr>\n",
       "    <tr>\n",
       "      <th>1</th>\n",
       "      <td>80.0</td>\n",
       "      <td>9600.0</td>\n",
       "      <td>0.0</td>\n",
       "      <td>978.0</td>\n",
       "      <td>0.0</td>\n",
       "      <td>284.0</td>\n",
       "      <td>1262.0</td>\n",
       "      <td>1262.0</td>\n",
       "      <td>0</td>\n",
       "      <td>0</td>\n",
       "      <td>...</td>\n",
       "      <td>2</td>\n",
       "      <td>0</td>\n",
       "      <td>3</td>\n",
       "      <td>1</td>\n",
       "      <td>6</td>\n",
       "      <td>1</td>\n",
       "      <td>1976.0</td>\n",
       "      <td>2.0</td>\n",
       "      <td>5</td>\n",
       "      <td>2007</td>\n",
       "    </tr>\n",
       "    <tr>\n",
       "      <th>2</th>\n",
       "      <td>68.0</td>\n",
       "      <td>11250.0</td>\n",
       "      <td>162.0</td>\n",
       "      <td>486.0</td>\n",
       "      <td>0.0</td>\n",
       "      <td>434.0</td>\n",
       "      <td>920.0</td>\n",
       "      <td>920.0</td>\n",
       "      <td>866</td>\n",
       "      <td>0</td>\n",
       "      <td>...</td>\n",
       "      <td>2</td>\n",
       "      <td>1</td>\n",
       "      <td>3</td>\n",
       "      <td>1</td>\n",
       "      <td>6</td>\n",
       "      <td>1</td>\n",
       "      <td>2001.0</td>\n",
       "      <td>2.0</td>\n",
       "      <td>9</td>\n",
       "      <td>2008</td>\n",
       "    </tr>\n",
       "    <tr>\n",
       "      <th>3</th>\n",
       "      <td>60.0</td>\n",
       "      <td>9550.0</td>\n",
       "      <td>0.0</td>\n",
       "      <td>216.0</td>\n",
       "      <td>0.0</td>\n",
       "      <td>540.0</td>\n",
       "      <td>756.0</td>\n",
       "      <td>961.0</td>\n",
       "      <td>756</td>\n",
       "      <td>0</td>\n",
       "      <td>...</td>\n",
       "      <td>1</td>\n",
       "      <td>0</td>\n",
       "      <td>3</td>\n",
       "      <td>1</td>\n",
       "      <td>7</td>\n",
       "      <td>1</td>\n",
       "      <td>1998.0</td>\n",
       "      <td>3.0</td>\n",
       "      <td>2</td>\n",
       "      <td>2006</td>\n",
       "    </tr>\n",
       "    <tr>\n",
       "      <th>4</th>\n",
       "      <td>84.0</td>\n",
       "      <td>14260.0</td>\n",
       "      <td>350.0</td>\n",
       "      <td>655.0</td>\n",
       "      <td>0.0</td>\n",
       "      <td>490.0</td>\n",
       "      <td>1145.0</td>\n",
       "      <td>1145.0</td>\n",
       "      <td>1053</td>\n",
       "      <td>0</td>\n",
       "      <td>...</td>\n",
       "      <td>2</td>\n",
       "      <td>1</td>\n",
       "      <td>4</td>\n",
       "      <td>1</td>\n",
       "      <td>9</td>\n",
       "      <td>1</td>\n",
       "      <td>2000.0</td>\n",
       "      <td>3.0</td>\n",
       "      <td>12</td>\n",
       "      <td>2008</td>\n",
       "    </tr>\n",
       "  </tbody>\n",
       "</table>\n",
       "<p>5 rows × 33 columns</p>\n",
       "</div>"
      ],
      "text/plain": [
       "   LotFrontage  LotArea  MasVnrArea  BsmtFinSF1  BsmtFinSF2  BsmtUnfSF  \\\n",
       "0         65.0   8450.0       196.0       706.0         0.0      150.0   \n",
       "1         80.0   9600.0         0.0       978.0         0.0      284.0   \n",
       "2         68.0  11250.0       162.0       486.0         0.0      434.0   \n",
       "3         60.0   9550.0         0.0       216.0         0.0      540.0   \n",
       "4         84.0  14260.0       350.0       655.0         0.0      490.0   \n",
       "\n",
       "   TotalBsmtSF  1stFlrSF  2ndFlrSF  LowQualFinSF  ...  FullBath  HalfBath  \\\n",
       "0        856.0     856.0       854             0  ...         2         1   \n",
       "1       1262.0    1262.0         0             0  ...         2         0   \n",
       "2        920.0     920.0       866             0  ...         2         1   \n",
       "3        756.0     961.0       756             0  ...         1         0   \n",
       "4       1145.0    1145.0      1053             0  ...         2         1   \n",
       "\n",
       "   BedroomAbvGr  KitchenAbvGr  TotRmsAbvGrd  Fireplaces  GarageYrBlt  \\\n",
       "0             3             1             8           0       2003.0   \n",
       "1             3             1             6           1       1976.0   \n",
       "2             3             1             6           1       2001.0   \n",
       "3             3             1             7           1       1998.0   \n",
       "4             4             1             9           1       2000.0   \n",
       "\n",
       "   GarageCars  MoSold  YrSold  \n",
       "0         2.0       2    2008  \n",
       "1         2.0       5    2007  \n",
       "2         2.0       9    2008  \n",
       "3         3.0       2    2006  \n",
       "4         3.0      12    2008  \n",
       "\n",
       "[5 rows x 33 columns]"
      ]
     },
     "execution_count": 38,
     "metadata": {},
     "output_type": "execute_result"
    }
   ],
   "source": [
    "DF.df[numericas].head()"
   ]
  },
  {
   "cell_type": "code",
   "execution_count": 39,
   "metadata": {
    "scrolled": true
   },
   "outputs": [
    {
     "data": {
      "text/plain": [
       "(103, 103, 103)"
      ]
     },
     "execution_count": 39,
     "metadata": {},
     "output_type": "execute_result"
    }
   ],
   "source": [
    "len(DF.columns), len(DF.df.columns), len(DF.numericas + DF.nominales + DF.ordinales)"
   ]
  },
  {
   "cell_type": "markdown",
   "metadata": {},
   "source": [
    "## Scaler"
   ]
  },
  {
   "cell_type": "markdown",
   "metadata": {},
   "source": [
    "Sobre las variable numéricas no normalizadas se llevará a cabo un proceso de escalado con vista a la obtención de buenos resultados en los métodos donde la magnitud de las variables es fundamental en la asignación de los pesos que dicho algoritmo asigna a las variables, por ejemplo, regresiones lineales, SVM entre otros."
   ]
  },
  {
   "cell_type": "code",
   "execution_count": 40,
   "metadata": {},
   "outputs": [
    {
     "data": {
      "image/png": "[encoded data removed]",
      "text/plain": [
       "<Figure size 720x504 with 1 Axes>"
      ]
     },
     "metadata": {},
     "output_type": "display_data"
    }
   ],
   "source": [
    "# BoxPlot variables numéricas antes Scaler\n",
    "sns.set_style(\"white\")\n",
    "f, ax = plt.subplots(figsize=(10, 7))\n",
    "ax.set_xscale(\"log\")\n",
    "ax = sns.boxplot(data=DF.df[restoNumericas] , orient=\"h\", palette=\"Set1\")\n",
    "ax.xaxis.grid(False)\n",
    "ax.set(ylabel=\"Variable\")\n",
    "ax.set(xlabel=\"Valores\")\n",
    "ax.set(title=\"Distribución Valores Variables\")\n",
    "sns.despine(trim=True, left=True)"
   ]
  },
  {
   "cell_type": "markdown",
   "metadata": {},
   "source": [
    "El gráfico anterior muestra la disparidad en las escalas de las variables numéricas. Se justifica, por lo tanto, la aplicación del método de clase diseñado para la realización del escalado. En principio se aplicará una tipificación de las variables, es decir, se les asignará a cada una de las variables media cero y varianza unidad."
   ]
  },
  {
   "cell_type": "code",
   "execution_count": 41,
   "metadata": {},
   "outputs": [],
   "source": [
    "# Ajustar a las mumericas \n",
    "DF.scalers(restoNumericas, metodo='StandardScaler')"
   ]
  },
  {
   "cell_type": "markdown",
   "metadata": {},
   "source": [
    "Nuevamente, se muestra el mismo gráfico anterior para observar el efecto de la aplicación del proceso de escalado. Se observa que el rango de las variables queda restringido a un intervalo común para todas ellas."
   ]
  },
  {
   "cell_type": "code",
   "execution_count": 42,
   "metadata": {},
   "outputs": [
    {
     "data": {
      "image/png": "[encoded data removed]",
      "text/plain": [
       "<Figure size 720x504 with 1 Axes>"
      ]
     },
     "metadata": {},
     "output_type": "display_data"
    }
   ],
   "source": [
    "# BoxPlot variables numéricas después de Scaler\n",
    "sns.set_style(\"white\")\n",
    "f, ax = plt.subplots(figsize=(10, 7))\n",
    "ax.set_xscale(\"log\")\n",
    "ax = sns.boxplot(data=DF.df[restoNumericas] , orient=\"h\", palette=\"Set1\")\n",
    "ax.xaxis.grid(False)\n",
    "ax.set(ylabel=\"Variable\")\n",
    "ax.set(xlabel=\"Valores\")\n",
    "ax.set(title=\"Distribución Valores Variables\")\n",
    "sns.despine(trim=True, left=True)"
   ]
  },
  {
   "cell_type": "markdown",
   "metadata": {},
   "source": [
    "## One Hot Encoding. Creación de Dummies"
   ]
  },
  {
   "cell_type": "markdown",
   "metadata": {},
   "source": [
    "En este punto se procederá a la generación de variables dummies necesarias para la correcta aplicación de los algoritmos que se van a aplicar. Las variables donde se aplicará esta técnica serán las definidas anteriormente como de tipo nominal. Se recuerda que, en esta técnica, se generarán tantas variables como categorías tenga la variable candidata a ser transformada. Por último, y en vista a la independencia de las dummies generadas, sobre todo en los algorítmos de tipo lineal, se eliminará una de las variables resultantes."
   ]
  },
  {
   "cell_type": "markdown",
   "metadata": {},
   "source": [
    "Se aplica por lo tanto el método de clase correspondiente."
   ]
  },
  {
   "cell_type": "code",
   "execution_count": 43,
   "metadata": {},
   "outputs": [],
   "source": [
    "DF.ohEncoder(DF.nominales)"
   ]
  },
  {
   "cell_type": "markdown",
   "metadata": {},
   "source": [
    "Se comprueba el número de variables actualmente presentes en el dataset."
   ]
  },
  {
   "cell_type": "code",
   "execution_count": 44,
   "metadata": {},
   "outputs": [
    {
     "data": {
      "text/plain": [
       "(240, 240, 240)"
      ]
     },
     "execution_count": 44,
     "metadata": {},
     "output_type": "execute_result"
    }
   ],
   "source": [
    "len(DF.columns), len(DF.df.columns), len(DF.numericas + DF.nominales + DF.ordinales)"
   ]
  },
  {
   "cell_type": "code",
   "execution_count": 45,
   "metadata": {},
   "outputs": [
    {
     "data": {
      "text/plain": [
       "(217, 0, 23)"
      ]
     },
     "execution_count": 45,
     "metadata": {},
     "output_type": "execute_result"
    }
   ],
   "source": [
    "len(DF.numericas), len(DF.nominales), len(DF.ordinales)"
   ]
  },
  {
   "cell_type": "code",
   "execution_count": 46,
   "metadata": {},
   "outputs": [
    {
     "data": {
      "text/plain": [
       "Index(['LotFrontage', 'LotArea', 'LotShape', 'Utilities', 'LandSlope',\n",
       "       'OverallQual', 'OverallCond', 'YearBuilt', 'YearRemodAdd', 'MasVnrArea',\n",
       "       ...\n",
       "       'has2ndfloor_1', 'hasgarage_1', 'hasbsmt_1', 'hasfireplace_1',\n",
       "       'hasporch_1', 'hasRemodeled_1', 'MSSubClassMap_1-story',\n",
       "       'MSSubClassMap_1/2-story', 'MSSubClassMap_2-story',\n",
       "       'MSSubClassMap_multi'],\n",
       "      dtype='object', length=240)"
      ]
     },
     "execution_count": 46,
     "metadata": {},
     "output_type": "execute_result"
    }
   ],
   "source": [
    "DF.df.columns"
   ]
  },
  {
   "cell_type": "markdown",
   "metadata": {},
   "source": [
    "## Eliminación de variables"
   ]
  },
  {
   "cell_type": "markdown",
   "metadata": {},
   "source": [
    "En este apartado se procede a eliminar variables de acuerdo a dos criterios.\n",
    "\n",
    "* **`El primero criterio`** de ellos elimina las variables que tienen varianza cero o cuasi-cero. En el caso de varianza cero se eliminan las variables que poseen un sólo valor mientras que, en el caso de varianza cuasi-cero, se tiene en cuenta los siguientes criterios para la eliminación de una determinada variable:\n",
    "\n",
    "     * **primero:** que la mayor frecuencia observada en una determinada variable con respecto al total de observaciones esté por encima de un valor umbral y,\n",
    "        \n",
    "     * **segundo:** la relación entre la mayor frecuencia observada y la segunda en una determinada variable está por encima de un determinado umbral.\n",
    "     \n",
    "* **`El segundo criterio`**, se eliminan las variables que, dentro de un determinado cluster de variables muy correlacionadas, tengan menos correlación con el target. El valor de la correlación, por el que dos variables se encuentran altamente correlacionadas, se estable de acuerdo un determinada umbral."
   ]
  },
  {
   "cell_type": "markdown",
   "metadata": {},
   "source": [
    "###  Varianza cero o cuasi-cero"
   ]
  },
  {
   "cell_type": "markdown",
   "metadata": {},
   "source": [
    "Según lo anterior, se aplica el método de clase creado al efecto que, además, imprime las variables a eliminar."
   ]
  },
  {
   "cell_type": "code",
   "execution_count": 47,
   "metadata": {},
   "outputs": [
    {
     "data": {
      "text/plain": [
       "['Utilities',\n",
       " 'PoolArea',\n",
       " 'PoolQC',\n",
       " 'MSSubClass_40',\n",
       " 'MSSubClass_150',\n",
       " 'Street_Pave',\n",
       " 'LotConfig_FR3',\n",
       " 'Neighborhood_Blueste',\n",
       " 'Condition1_RRNe',\n",
       " 'Condition1_RRNn',\n",
       " 'Condition2_Feedr',\n",
       " 'Condition2_PosA',\n",
       " 'Condition2_PosN',\n",
       " 'Condition2_RRAe',\n",
       " 'Condition2_RRAn',\n",
       " 'Condition2_RRNn',\n",
       " 'HouseStyle_2.5Fin',\n",
       " 'RoofStyle_Mansard',\n",
       " 'RoofStyle_Shed',\n",
       " 'RoofMatl_Membran',\n",
       " 'RoofMatl_Metal',\n",
       " 'RoofMatl_Roll',\n",
       " 'RoofMatl_WdShake',\n",
       " 'RoofMatl_WdShngl',\n",
       " 'Exterior1st_AsphShn',\n",
       " 'Exterior1st_BrkComm',\n",
       " 'Exterior1st_CBlock',\n",
       " 'Exterior1st_ImStucc',\n",
       " 'Exterior1st_Stone',\n",
       " 'Exterior2nd_AsphShn',\n",
       " 'Exterior2nd_CBlock',\n",
       " 'Exterior2nd_Other',\n",
       " 'Exterior2nd_Stone',\n",
       " 'Foundation_Stone',\n",
       " 'Foundation_Wood',\n",
       " 'Heating_Grav',\n",
       " 'Heating_OthW',\n",
       " 'Heating_Wall',\n",
       " 'MiscFeature_Othr',\n",
       " 'MiscFeature_TenC',\n",
       " 'SaleType_CWD',\n",
       " 'SaleType_Con',\n",
       " 'SaleType_ConLI',\n",
       " 'SaleType_ConLw',\n",
       " 'SaleType_Oth',\n",
       " 'SaleCondition_AdjLand',\n",
       " 'haspool_1']"
      ]
     },
     "execution_count": 47,
     "metadata": {},
     "output_type": "execute_result"
    }
   ],
   "source": [
    "DF.nzv(DF.columns)"
   ]
  },
  {
   "cell_type": "code",
   "execution_count": 48,
   "metadata": {},
   "outputs": [
    {
     "data": {
      "text/plain": [
       "(193, 193)"
      ]
     },
     "execution_count": 48,
     "metadata": {},
     "output_type": "execute_result"
    }
   ],
   "source": [
    "len(DF.df.columns), len(DF.columns)"
   ]
  },
  {
   "cell_type": "markdown",
   "metadata": {},
   "source": [
    "### Variables muy correlacionadas"
   ]
  },
  {
   "cell_type": "markdown",
   "metadata": {},
   "source": [
    "Según lo anterior, se aplica el método de clase creado al efecto que, además, imprime las variables a eliminar."
   ]
  },
  {
   "cell_type": "code",
   "execution_count": 49,
   "metadata": {},
   "outputs": [
    {
     "data": {
      "text/plain": [
       "['1stFlrSF',\n",
       " 'MSSubClass_190',\n",
       " 'BsmtUnfSF',\n",
       " 'Exterior2nd_CmentBd',\n",
       " 'Exterior1st_MetalSd',\n",
       " 'Exterior1st_VinylSd',\n",
       " 'GrLivArea_norm',\n",
       " 'MSSubClass_80',\n",
       " 'LotArea',\n",
       " 'LotFrontage_norm',\n",
       " 'BldgType_Duplex',\n",
       " 'MSSubClassMap_1/2-story',\n",
       " 'HouseStyle_2Story',\n",
       " 'MSSubClassMap_multi',\n",
       " 'SaleCondition_Partial',\n",
       " 'TotalBsmtSF',\n",
       " 'has2ndfloor_1',\n",
       " '2ndFlrSF_norm']"
      ]
     },
     "execution_count": 49,
     "metadata": {},
     "output_type": "execute_result"
    }
   ],
   "source": [
    "DF.corrDel(DF.numericas)"
   ]
  },
  {
   "cell_type": "code",
   "execution_count": 50,
   "metadata": {},
   "outputs": [
    {
     "data": {
      "text/plain": [
       "(175, 175)"
      ]
     },
     "execution_count": 50,
     "metadata": {},
     "output_type": "execute_result"
    }
   ],
   "source": [
    "len(DF.df.columns), len(DF.columns)"
   ]
  },
  {
   "cell_type": "markdown",
   "metadata": {},
   "source": [
    "## Guardado de resultados"
   ]
  },
  {
   "cell_type": "markdown",
   "metadata": {},
   "source": [
    "Aplicados y ejecutados todos los pasos anteriores, se procede al guardado de los set de datos `train y test` para su reutilización en los algoritmos que sevan a aplicar."
   ]
  },
  {
   "cell_type": "code",
   "execution_count": 51,
   "metadata": {},
   "outputs": [],
   "source": [
    "# guardado de train\n",
    "pd.concat([target, DF.df[:1460], missingIndicatores[:1460]], axis=1).copy().\\\n",
    "          to_csv(\"X_train.csv\", sep=',', index=False)"
   ]
  },
  {
   "cell_type": "code",
   "execution_count": 52,
   "metadata": {},
   "outputs": [],
   "source": [
    "# guardado de test\n",
    "pd.concat([DF.df[1460:], missingIndicatores[1460:]], axis=1).copy().\\\n",
    "          to_csv(\"X_test.csv\", sep=',', index=False)"
   ]
  },
  {
   "cell_type": "code",
   "execution_count": 53,
   "metadata": {},
   "outputs": [],
   "source": [
    "# guardado de variables en json\n",
    "tipoVariables = {\"nominales\": DF.nominales, \n",
    "                 \"ordinales\": DF.ordinales, \n",
    "                 \"numericas\": DF.numericas + list(missingIndicatores.columns),\n",
    "                 \"target\": [\"SalePrice\"]}\n",
    "\n",
    "with open('tipoVariables.json', 'w') as file:\n",
    "    json.dump(tipoVariables, file, indent=4)"
   ]
  }
 ],
 "metadata": {
  "@webio": {
   "lastCommId": null,
   "lastKernelId": null
  },
  "kernelspec": {
   "display_name": "Python 3",
   "language": "python",
   "name": "python3"
  },
  "language_info": {
   "codemirror_mode": {
    "name": "ipython",
    "version": 3
   },
   "file_extension": ".py",
   "mimetype": "text/x-python",
   "name": "python",
   "nbconvert_exporter": "python",
   "pygments_lexer": "ipython3",
   "version": "3.7.1"
  },
  "latex_envs": {
   "LaTeX_envs_menu_present": true,
   "autoclose": false,
   "autocomplete": true,
   "bibliofile": "biblio.bib",
   "cite_by": "apalike",
   "current_citInitial": 1,
   "eqLabelWithNumbers": true,
   "eqNumInitial": 1,
   "hotkeys": {
    "equation": "Ctrl-E",
    "itemize": "Ctrl-I"
   },
   "labels_anchors": false,
   "latex_user_defs": false,
   "report_style_numbering": false,
   "user_envs_cfg": false
  },
  "toc": {
   "base_numbering": 1,
   "nav_menu": {},
   "number_sections": true,
   "sideBar": true,
   "skip_h1_title": false,
   "title_cell": "ANEXO II. Depuración",
   "title_sidebar": "Contents",
   "toc_cell": true,
   "toc_position": {
    "height": "calc(100% - 180px)",
    "left": "10px",
    "top": "150px",
    "width": "217.438px"
   },
   "toc_section_display": true,
   "toc_window_display": true
  },
  "varInspector": {
   "cols": {
    "lenName": 16,
    "lenType": 16,
    "lenVar": 40
   },
   "kernels_config": {
    "python": {
     "delete_cmd_postfix": "",
     "delete_cmd_prefix": "del ",
     "library": "var_list.py",
     "varRefreshCmd": "print(var_dic_list())"
    },
    "r": {
     "delete_cmd_postfix": ") ",
     "delete_cmd_prefix": "rm(",
     "library": "var_list.r",
     "varRefreshCmd": "cat(var_dic_list()) "
    }
   },
   "position": {
    "height": "551px",
    "left": "830px",
    "right": "20px",
    "top": "159px",
    "width": "800px"
   },
   "types_to_exclude": [
    "module",
    "function",
    "builtin_function_or_method",
    "instance",
    "_Feature"
   ],
   "window_display": false
  }
 },
 "nbformat": 4,
 "nbformat_minor": 2
}
